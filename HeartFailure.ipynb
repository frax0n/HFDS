{
  "nbformat": 4,
  "nbformat_minor": 0,
  "metadata": {
    "colab": {
      "name": "HeartFailure.ipynb",
      "provenance": [],
      "collapsed_sections": []
    },
    "kernelspec": {
      "name": "python3",
      "display_name": "Python 3"
    },
    "language_info": {
      "name": "python"
    },
    "widgets": {
      "application/vnd.jupyter.widget-state+json": {
        "d9f101f168f74983b0a07bcc661f7732": {
          "model_module": "@jupyter-widgets/controls",
          "model_name": "VBoxModel",
          "state": {
            "_view_name": "VBoxView",
            "_dom_classes": [
              "widget-interact"
            ],
            "_model_name": "VBoxModel",
            "_view_module": "@jupyter-widgets/controls",
            "_model_module_version": "1.5.0",
            "_view_count": null,
            "_view_module_version": "1.5.0",
            "box_style": "",
            "layout": "IPY_MODEL_579ac635cbaa492c9a8b061b84cb3134",
            "_model_module": "@jupyter-widgets/controls",
            "children": [
              "IPY_MODEL_92b0ad8d8f944362ad3012a0f58a5b95",
              "IPY_MODEL_f986cf7eeb8340799f064c778fd29841"
            ]
          }
        },
        "579ac635cbaa492c9a8b061b84cb3134": {
          "model_module": "@jupyter-widgets/base",
          "model_name": "LayoutModel",
          "state": {
            "_view_name": "LayoutView",
            "grid_template_rows": null,
            "right": null,
            "justify_content": null,
            "_view_module": "@jupyter-widgets/base",
            "overflow": null,
            "_model_module_version": "1.2.0",
            "_view_count": null,
            "flex_flow": null,
            "width": null,
            "min_width": null,
            "border": null,
            "align_items": null,
            "bottom": null,
            "_model_module": "@jupyter-widgets/base",
            "top": null,
            "grid_column": null,
            "overflow_y": null,
            "overflow_x": null,
            "grid_auto_flow": null,
            "grid_area": null,
            "grid_template_columns": null,
            "flex": null,
            "_model_name": "LayoutModel",
            "justify_items": null,
            "grid_row": null,
            "max_height": null,
            "align_content": null,
            "visibility": null,
            "align_self": null,
            "height": null,
            "min_height": null,
            "padding": null,
            "grid_auto_rows": null,
            "grid_gap": null,
            "max_width": null,
            "order": null,
            "_view_module_version": "1.2.0",
            "grid_template_areas": null,
            "object_position": null,
            "object_fit": null,
            "grid_auto_columns": null,
            "margin": null,
            "display": null,
            "left": null
          }
        },
        "92b0ad8d8f944362ad3012a0f58a5b95": {
          "model_module": "@jupyter-widgets/controls",
          "model_name": "DropdownModel",
          "state": {
            "_options_labels": [
              "3",
              "4",
              "5",
              "6",
              "7",
              "8"
            ],
            "_view_name": "DropdownView",
            "style": "IPY_MODEL_200d38e60ec8491a9bc7de8022031c7e",
            "_dom_classes": [],
            "description": "depth",
            "_model_name": "DropdownModel",
            "index": 0,
            "_view_module": "@jupyter-widgets/controls",
            "_model_module_version": "1.5.0",
            "_view_count": null,
            "disabled": false,
            "_view_module_version": "1.5.0",
            "description_tooltip": null,
            "_model_module": "@jupyter-widgets/controls",
            "layout": "IPY_MODEL_67bddebafef840c89edc85170f2d0290"
          }
        },
        "f986cf7eeb8340799f064c778fd29841": {
          "model_module": "@jupyter-widgets/output",
          "model_name": "OutputModel",
          "state": {
            "_view_name": "OutputView",
            "msg_id": "",
            "_dom_classes": [],
            "_model_name": "OutputModel",
            "outputs": [
              {
                "output_type": "display_data",
                "metadata": {
                  "tags": []
                },
                "text/plain": "<IPython.core.display.SVG object>",
                "image/svg+xml": "<svg height=\"373pt\" viewBox=\"0.00 0.00 954.00 373.00\" width=\"954pt\" xmlns=\"http://www.w3.org/2000/svg\" xmlns:xlink=\"http://www.w3.org/1999/xlink\">\n<g class=\"graph\" id=\"graph0\" transform=\"scale(1 1) rotate(0) translate(4 369)\">\n<title>Tree</title>\n<polygon fill=\"#ffffff\" points=\"-4,4 -4,-369 950,-369 950,4 -4,4\" stroke=\"transparent\"/>\n<!-- 0 -->\n<g class=\"node\" id=\"node1\">\n<title>0</title>\n<polygon fill=\"#f2be99\" points=\"602.5,-365 432.5,-365 432.5,-297 602.5,-297 602.5,-365\" stroke=\"#000000\"/>\n<text fill=\"#000000\" font-family=\"Times,serif\" font-size=\"14.00\" text-anchor=\"middle\" x=\"517.5\" y=\"-349.8\">ejection_fraction &lt;= 2.328</text>\n<text fill=\"#000000\" font-family=\"Times,serif\" font-size=\"14.00\" text-anchor=\"middle\" x=\"517.5\" y=\"-334.8\">gini = 0.44</text>\n<text fill=\"#000000\" font-family=\"Times,serif\" font-size=\"14.00\" text-anchor=\"middle\" x=\"517.5\" y=\"-319.8\">samples = 269</text>\n<text fill=\"#000000\" font-family=\"Times,serif\" font-size=\"14.00\" text-anchor=\"middle\" x=\"517.5\" y=\"-304.8\">value = [181, 88]</text>\n</g>\n<!-- 1 -->\n<g class=\"node\" id=\"node2\">\n<title>1</title>\n<polygon fill=\"#9fcff2\" points=\"477.5,-261 307.5,-261 307.5,-193 477.5,-193 477.5,-261\" stroke=\"#000000\"/>\n<text fill=\"#000000\" font-family=\"Times,serif\" font-size=\"14.00\" text-anchor=\"middle\" x=\"392.5\" y=\"-245.8\">ejection_fraction &lt;= 1.904</text>\n<text fill=\"#000000\" font-family=\"Times,serif\" font-size=\"14.00\" text-anchor=\"middle\" x=\"392.5\" y=\"-230.8\">gini = 0.449</text>\n<text fill=\"#000000\" font-family=\"Times,serif\" font-size=\"14.00\" text-anchor=\"middle\" x=\"392.5\" y=\"-215.8\">samples = 53</text>\n<text fill=\"#000000\" font-family=\"Times,serif\" font-size=\"14.00\" text-anchor=\"middle\" x=\"392.5\" y=\"-200.8\">value = [18, 35]</text>\n</g>\n<!-- 0&#45;&gt;1 -->\n<g class=\"edge\" id=\"edge1\">\n<title>0-&gt;1</title>\n<path d=\"M476.5703,-296.9465C465.3472,-287.6088 453.0663,-277.3911 441.4427,-267.7203\" fill=\"none\" stroke=\"#000000\"/>\n<polygon fill=\"#000000\" points=\"443.4474,-264.8353 433.5216,-261.13 438.9704,-270.2164 443.4474,-264.8353\" stroke=\"#000000\"/>\n<text fill=\"#000000\" font-family=\"Times,serif\" font-size=\"14.00\" text-anchor=\"middle\" x=\"435.8046\" y=\"-282.3255\">True</text>\n</g>\n<!-- 8 -->\n<g class=\"node\" id=\"node9\">\n<title>8</title>\n<polygon fill=\"#edaa79\" points=\"689,-261 518,-261 518,-193 689,-193 689,-261\" stroke=\"#000000\"/>\n<text fill=\"#000000\" font-family=\"Times,serif\" font-size=\"14.00\" text-anchor=\"middle\" x=\"603.5\" y=\"-245.8\">serum_creatinine &lt;= 1.757</text>\n<text fill=\"#000000\" font-family=\"Times,serif\" font-size=\"14.00\" text-anchor=\"middle\" x=\"603.5\" y=\"-230.8\">gini = 0.37</text>\n<text fill=\"#000000\" font-family=\"Times,serif\" font-size=\"14.00\" text-anchor=\"middle\" x=\"603.5\" y=\"-215.8\">samples = 216</text>\n<text fill=\"#000000\" font-family=\"Times,serif\" font-size=\"14.00\" text-anchor=\"middle\" x=\"603.5\" y=\"-200.8\">value = [163, 53]</text>\n</g>\n<!-- 0&#45;&gt;8 -->\n<g class=\"edge\" id=\"edge8\">\n<title>0-&gt;8</title>\n<path d=\"M545.6596,-296.9465C553.0842,-287.968 561.1815,-278.1758 568.9028,-268.8385\" fill=\"none\" stroke=\"#000000\"/>\n<polygon fill=\"#000000\" points=\"571.6017,-271.0669 575.2771,-261.13 566.2072,-266.606 571.6017,-271.0669\" stroke=\"#000000\"/>\n<text fill=\"#000000\" font-family=\"Times,serif\" font-size=\"14.00\" text-anchor=\"middle\" x=\"577.635\" y=\"-282.3186\">False</text>\n</g>\n<!-- 2 -->\n<g class=\"node\" id=\"node3\">\n<title>2</title>\n<polygon fill=\"#50a9e8\" points=\"250,-157 79,-157 79,-89 250,-89 250,-157\" stroke=\"#000000\"/>\n<text fill=\"#000000\" font-family=\"Times,serif\" font-size=\"14.00\" text-anchor=\"middle\" x=\"164.5\" y=\"-141.8\">serum_creatinine &lt;= 1.017</text>\n<text fill=\"#000000\" font-family=\"Times,serif\" font-size=\"14.00\" text-anchor=\"middle\" x=\"164.5\" y=\"-126.8\">gini = 0.188</text>\n<text fill=\"#000000\" font-family=\"Times,serif\" font-size=\"14.00\" text-anchor=\"middle\" x=\"164.5\" y=\"-111.8\">samples = 19</text>\n<text fill=\"#000000\" font-family=\"Times,serif\" font-size=\"14.00\" text-anchor=\"middle\" x=\"164.5\" y=\"-96.8\">value = [2, 17]</text>\n</g>\n<!-- 1&#45;&gt;2 -->\n<g class=\"edge\" id=\"edge2\">\n<title>1-&gt;2</title>\n<path d=\"M317.8443,-192.9465C295.7001,-182.8457 271.2984,-171.7151 248.5987,-161.3608\" fill=\"none\" stroke=\"#000000\"/>\n<polygon fill=\"#000000\" points=\"249.8742,-158.0957 239.3235,-157.13 246.9691,-164.4645 249.8742,-158.0957\" stroke=\"#000000\"/>\n</g>\n<!-- 5 -->\n<g class=\"node\" id=\"node6\">\n<title>5</title>\n<polygon fill=\"#e9f4fc\" points=\"500,-157 285,-157 285,-89 500,-89 500,-157\" stroke=\"#000000\"/>\n<text fill=\"#000000\" font-family=\"Times,serif\" font-size=\"14.00\" text-anchor=\"middle\" x=\"392.5\" y=\"-141.8\">creatinine_phosphokinase &lt;= 0.95</text>\n<text fill=\"#000000\" font-family=\"Times,serif\" font-size=\"14.00\" text-anchor=\"middle\" x=\"392.5\" y=\"-126.8\">gini = 0.498</text>\n<text fill=\"#000000\" font-family=\"Times,serif\" font-size=\"14.00\" text-anchor=\"middle\" x=\"392.5\" y=\"-111.8\">samples = 34</text>\n<text fill=\"#000000\" font-family=\"Times,serif\" font-size=\"14.00\" text-anchor=\"middle\" x=\"392.5\" y=\"-96.8\">value = [16, 18]</text>\n</g>\n<!-- 1&#45;&gt;5 -->\n<g class=\"edge\" id=\"edge5\">\n<title>1-&gt;5</title>\n<path d=\"M392.5,-192.9465C392.5,-184.776 392.5,-175.9318 392.5,-167.3697\" fill=\"none\" stroke=\"#000000\"/>\n<polygon fill=\"#000000\" points=\"396.0001,-167.13 392.5,-157.13 389.0001,-167.13 396.0001,-167.13\" stroke=\"#000000\"/>\n</g>\n<!-- 3 -->\n<g class=\"node\" id=\"node4\">\n<title>3</title>\n<polygon fill=\"#ffffff\" points=\"95,-53 0,-53 0,0 95,0 95,-53\" stroke=\"#000000\"/>\n<text fill=\"#000000\" font-family=\"Times,serif\" font-size=\"14.00\" text-anchor=\"middle\" x=\"47.5\" y=\"-37.8\">gini = 0.5</text>\n<text fill=\"#000000\" font-family=\"Times,serif\" font-size=\"14.00\" text-anchor=\"middle\" x=\"47.5\" y=\"-22.8\">samples = 4</text>\n<text fill=\"#000000\" font-family=\"Times,serif\" font-size=\"14.00\" text-anchor=\"middle\" x=\"47.5\" y=\"-7.8\">value = [2, 2]</text>\n</g>\n<!-- 2&#45;&gt;3 -->\n<g class=\"edge\" id=\"edge3\">\n<title>2-&gt;3</title>\n<path d=\"M123.2502,-88.9777C111.7039,-79.4545 99.1729,-69.1191 87.689,-59.6473\" fill=\"none\" stroke=\"#000000\"/>\n<polygon fill=\"#000000\" points=\"89.8724,-56.9113 79.9308,-53.2485 85.4184,-62.3115 89.8724,-56.9113\" stroke=\"#000000\"/>\n</g>\n<!-- 4 -->\n<g class=\"node\" id=\"node5\">\n<title>4</title>\n<polygon fill=\"#399de5\" points=\"215.5,-53 113.5,-53 113.5,0 215.5,0 215.5,-53\" stroke=\"#000000\"/>\n<text fill=\"#000000\" font-family=\"Times,serif\" font-size=\"14.00\" text-anchor=\"middle\" x=\"164.5\" y=\"-37.8\">gini = 0.0</text>\n<text fill=\"#000000\" font-family=\"Times,serif\" font-size=\"14.00\" text-anchor=\"middle\" x=\"164.5\" y=\"-22.8\">samples = 15</text>\n<text fill=\"#000000\" font-family=\"Times,serif\" font-size=\"14.00\" text-anchor=\"middle\" x=\"164.5\" y=\"-7.8\">value = [0, 15]</text>\n</g>\n<!-- 2&#45;&gt;4 -->\n<g class=\"edge\" id=\"edge4\">\n<title>2-&gt;4</title>\n<path d=\"M164.5,-88.9777C164.5,-80.7364 164.5,-71.887 164.5,-63.5153\" fill=\"none\" stroke=\"#000000\"/>\n<polygon fill=\"#000000\" points=\"168.0001,-63.2484 164.5,-53.2485 161.0001,-63.2485 168.0001,-63.2484\" stroke=\"#000000\"/>\n</g>\n<!-- 6 -->\n<g class=\"node\" id=\"node7\">\n<title>6</title>\n<polygon fill=\"#fae7da\" points=\"343.5,-53 233.5,-53 233.5,0 343.5,0 343.5,-53\" stroke=\"#000000\"/>\n<text fill=\"#000000\" font-family=\"Times,serif\" font-size=\"14.00\" text-anchor=\"middle\" x=\"288.5\" y=\"-37.8\">gini = 0.495</text>\n<text fill=\"#000000\" font-family=\"Times,serif\" font-size=\"14.00\" text-anchor=\"middle\" x=\"288.5\" y=\"-22.8\">samples = 29</text>\n<text fill=\"#000000\" font-family=\"Times,serif\" font-size=\"14.00\" text-anchor=\"middle\" x=\"288.5\" y=\"-7.8\">value = [16, 13]</text>\n</g>\n<!-- 5&#45;&gt;6 -->\n<g class=\"edge\" id=\"edge6\">\n<title>5-&gt;6</title>\n<path d=\"M355.8335,-88.9777C345.7675,-79.6376 334.8596,-69.5163 324.8135,-60.1947\" fill=\"none\" stroke=\"#000000\"/>\n<polygon fill=\"#000000\" points=\"327.0385,-57.4847 317.3274,-53.2485 322.2772,-62.616 327.0385,-57.4847\" stroke=\"#000000\"/>\n</g>\n<!-- 7 -->\n<g class=\"node\" id=\"node8\">\n<title>7</title>\n<polygon fill=\"#399de5\" points=\"457,-53 362,-53 362,0 457,0 457,-53\" stroke=\"#000000\"/>\n<text fill=\"#000000\" font-family=\"Times,serif\" font-size=\"14.00\" text-anchor=\"middle\" x=\"409.5\" y=\"-37.8\">gini = 0.0</text>\n<text fill=\"#000000\" font-family=\"Times,serif\" font-size=\"14.00\" text-anchor=\"middle\" x=\"409.5\" y=\"-22.8\">samples = 5</text>\n<text fill=\"#000000\" font-family=\"Times,serif\" font-size=\"14.00\" text-anchor=\"middle\" x=\"409.5\" y=\"-7.8\">value = [0, 5]</text>\n</g>\n<!-- 5&#45;&gt;7 -->\n<g class=\"edge\" id=\"edge7\">\n<title>5-&gt;7</title>\n<path d=\"M398.4936,-88.9777C399.9615,-80.6449 401.539,-71.6903 403.0283,-63.2364\" fill=\"none\" stroke=\"#000000\"/>\n<polygon fill=\"#000000\" points=\"406.4997,-63.7041 404.7878,-53.2485 399.6059,-62.4896 406.4997,-63.7041\" stroke=\"#000000\"/>\n</g>\n<!-- 9 -->\n<g class=\"node\" id=\"node10\">\n<title>9</title>\n<polygon fill=\"#eb9d65\" points=\"662,-157 545,-157 545,-89 662,-89 662,-157\" stroke=\"#000000\"/>\n<text fill=\"#000000\" font-family=\"Times,serif\" font-size=\"14.00\" text-anchor=\"middle\" x=\"603.5\" y=\"-141.8\">age &lt;= 6.653</text>\n<text fill=\"#000000\" font-family=\"Times,serif\" font-size=\"14.00\" text-anchor=\"middle\" x=\"603.5\" y=\"-126.8\">gini = 0.296</text>\n<text fill=\"#000000\" font-family=\"Times,serif\" font-size=\"14.00\" text-anchor=\"middle\" x=\"603.5\" y=\"-111.8\">samples = 188</text>\n<text fill=\"#000000\" font-family=\"Times,serif\" font-size=\"14.00\" text-anchor=\"middle\" x=\"603.5\" y=\"-96.8\">value = [154, 34]</text>\n</g>\n<!-- 8&#45;&gt;9 -->\n<g class=\"edge\" id=\"edge9\">\n<title>8-&gt;9</title>\n<path d=\"M603.5,-192.9465C603.5,-184.776 603.5,-175.9318 603.5,-167.3697\" fill=\"none\" stroke=\"#000000\"/>\n<polygon fill=\"#000000\" points=\"607.0001,-167.13 603.5,-157.13 600.0001,-167.13 607.0001,-167.13\" stroke=\"#000000\"/>\n</g>\n<!-- 12 -->\n<g class=\"node\" id=\"node13\">\n<title>12</title>\n<polygon fill=\"#97cbf1\" points=\"861,-157 702,-157 702,-89 861,-89 861,-157\" stroke=\"#000000\"/>\n<text fill=\"#000000\" font-family=\"Times,serif\" font-size=\"14.00\" text-anchor=\"middle\" x=\"781.5\" y=\"-141.8\">serum_sodium &lt;= 30.76</text>\n<text fill=\"#000000\" font-family=\"Times,serif\" font-size=\"14.00\" text-anchor=\"middle\" x=\"781.5\" y=\"-126.8\">gini = 0.436</text>\n<text fill=\"#000000\" font-family=\"Times,serif\" font-size=\"14.00\" text-anchor=\"middle\" x=\"781.5\" y=\"-111.8\">samples = 28</text>\n<text fill=\"#000000\" font-family=\"Times,serif\" font-size=\"14.00\" text-anchor=\"middle\" x=\"781.5\" y=\"-96.8\">value = [9, 19]</text>\n</g>\n<!-- 8&#45;&gt;12 -->\n<g class=\"edge\" id=\"edge12\">\n<title>8-&gt;12</title>\n<path d=\"M661.7839,-192.9465C678.534,-183.1599 696.9386,-172.4066 714.1862,-162.3294\" fill=\"none\" stroke=\"#000000\"/>\n<polygon fill=\"#000000\" points=\"716.2166,-165.1968 723.0852,-157.13 712.6852,-159.1528 716.2166,-165.1968\" stroke=\"#000000\"/>\n</g>\n<!-- 10 -->\n<g class=\"node\" id=\"node11\">\n<title>10</title>\n<polygon fill=\"#e99559\" points=\"592,-53 475,-53 475,0 592,0 592,-53\" stroke=\"#000000\"/>\n<text fill=\"#000000\" font-family=\"Times,serif\" font-size=\"14.00\" text-anchor=\"middle\" x=\"533.5\" y=\"-37.8\">gini = 0.238</text>\n<text fill=\"#000000\" font-family=\"Times,serif\" font-size=\"14.00\" text-anchor=\"middle\" x=\"533.5\" y=\"-22.8\">samples = 174</text>\n<text fill=\"#000000\" font-family=\"Times,serif\" font-size=\"14.00\" text-anchor=\"middle\" x=\"533.5\" y=\"-7.8\">value = [150, 24]</text>\n</g>\n<!-- 9&#45;&gt;10 -->\n<g class=\"edge\" id=\"edge10\">\n<title>9-&gt;10</title>\n<path d=\"M578.8206,-88.9777C572.3775,-80.0954 565.422,-70.5067 558.9402,-61.5711\" fill=\"none\" stroke=\"#000000\"/>\n<polygon fill=\"#000000\" points=\"561.6079,-59.288 552.903,-53.2485 555.9417,-63.3982 561.6079,-59.288\" stroke=\"#000000\"/>\n</g>\n<!-- 11 -->\n<g class=\"node\" id=\"node12\">\n<title>11</title>\n<polygon fill=\"#88c4ef\" points=\"712.5,-53 610.5,-53 610.5,0 712.5,0 712.5,-53\" stroke=\"#000000\"/>\n<text fill=\"#000000\" font-family=\"Times,serif\" font-size=\"14.00\" text-anchor=\"middle\" x=\"661.5\" y=\"-37.8\">gini = 0.408</text>\n<text fill=\"#000000\" font-family=\"Times,serif\" font-size=\"14.00\" text-anchor=\"middle\" x=\"661.5\" y=\"-22.8\">samples = 14</text>\n<text fill=\"#000000\" font-family=\"Times,serif\" font-size=\"14.00\" text-anchor=\"middle\" x=\"661.5\" y=\"-7.8\">value = [4, 10]</text>\n</g>\n<!-- 9&#45;&gt;11 -->\n<g class=\"edge\" id=\"edge11\">\n<title>9-&gt;11</title>\n<path d=\"M623.9486,-88.9777C629.2322,-80.187 634.9316,-70.7044 640.2548,-61.8477\" fill=\"none\" stroke=\"#000000\"/>\n<polygon fill=\"#000000\" points=\"643.2715,-63.6225 645.4232,-53.2485 637.2718,-60.0165 643.2715,-63.6225\" stroke=\"#000000\"/>\n</g>\n<!-- 13 -->\n<g class=\"node\" id=\"node14\">\n<title>13</title>\n<polygon fill=\"#61b1ea\" points=\"832.5,-53 730.5,-53 730.5,0 832.5,0 832.5,-53\" stroke=\"#000000\"/>\n<text fill=\"#000000\" font-family=\"Times,serif\" font-size=\"14.00\" text-anchor=\"middle\" x=\"781.5\" y=\"-37.8\">gini = 0.278</text>\n<text fill=\"#000000\" font-family=\"Times,serif\" font-size=\"14.00\" text-anchor=\"middle\" x=\"781.5\" y=\"-22.8\">samples = 18</text>\n<text fill=\"#000000\" font-family=\"Times,serif\" font-size=\"14.00\" text-anchor=\"middle\" x=\"781.5\" y=\"-7.8\">value = [3, 15]</text>\n</g>\n<!-- 12&#45;&gt;13 -->\n<g class=\"edge\" id=\"edge13\">\n<title>12-&gt;13</title>\n<path d=\"M781.5,-88.9777C781.5,-80.7364 781.5,-71.887 781.5,-63.5153\" fill=\"none\" stroke=\"#000000\"/>\n<polygon fill=\"#000000\" points=\"785.0001,-63.2484 781.5,-53.2485 778.0001,-63.2485 785.0001,-63.2484\" stroke=\"#000000\"/>\n</g>\n<!-- 14 -->\n<g class=\"node\" id=\"node15\">\n<title>14</title>\n<polygon fill=\"#f6d5bd\" points=\"946,-53 851,-53 851,0 946,0 946,-53\" stroke=\"#000000\"/>\n<text fill=\"#000000\" font-family=\"Times,serif\" font-size=\"14.00\" text-anchor=\"middle\" x=\"898.5\" y=\"-37.8\">gini = 0.48</text>\n<text fill=\"#000000\" font-family=\"Times,serif\" font-size=\"14.00\" text-anchor=\"middle\" x=\"898.5\" y=\"-22.8\">samples = 10</text>\n<text fill=\"#000000\" font-family=\"Times,serif\" font-size=\"14.00\" text-anchor=\"middle\" x=\"898.5\" y=\"-7.8\">value = [6, 4]</text>\n</g>\n<!-- 12&#45;&gt;14 -->\n<g class=\"edge\" id=\"edge14\">\n<title>12-&gt;14</title>\n<path d=\"M822.7498,-88.9777C834.2961,-79.4545 846.8271,-69.1191 858.311,-59.6473\" fill=\"none\" stroke=\"#000000\"/>\n<polygon fill=\"#000000\" points=\"860.5816,-62.3115 866.0692,-53.2485 856.1276,-56.9113 860.5816,-62.3115\" stroke=\"#000000\"/>\n</g>\n</g>\n</svg>"
              }
            ],
            "_view_module": "@jupyter-widgets/output",
            "_model_module_version": "1.0.0",
            "_view_count": null,
            "_view_module_version": "1.0.0",
            "layout": "IPY_MODEL_55a7d21660e548cf93637819fe90a933",
            "_model_module": "@jupyter-widgets/output"
          }
        },
        "200d38e60ec8491a9bc7de8022031c7e": {
          "model_module": "@jupyter-widgets/controls",
          "model_name": "DescriptionStyleModel",
          "state": {
            "_view_name": "StyleView",
            "_model_name": "DescriptionStyleModel",
            "description_width": "",
            "_view_module": "@jupyter-widgets/base",
            "_model_module_version": "1.5.0",
            "_view_count": null,
            "_view_module_version": "1.2.0",
            "_model_module": "@jupyter-widgets/controls"
          }
        },
        "67bddebafef840c89edc85170f2d0290": {
          "model_module": "@jupyter-widgets/base",
          "model_name": "LayoutModel",
          "state": {
            "_view_name": "LayoutView",
            "grid_template_rows": null,
            "right": null,
            "justify_content": null,
            "_view_module": "@jupyter-widgets/base",
            "overflow": null,
            "_model_module_version": "1.2.0",
            "_view_count": null,
            "flex_flow": null,
            "width": null,
            "min_width": null,
            "border": null,
            "align_items": null,
            "bottom": null,
            "_model_module": "@jupyter-widgets/base",
            "top": null,
            "grid_column": null,
            "overflow_y": null,
            "overflow_x": null,
            "grid_auto_flow": null,
            "grid_area": null,
            "grid_template_columns": null,
            "flex": null,
            "_model_name": "LayoutModel",
            "justify_items": null,
            "grid_row": null,
            "max_height": null,
            "align_content": null,
            "visibility": null,
            "align_self": null,
            "height": null,
            "min_height": null,
            "padding": null,
            "grid_auto_rows": null,
            "grid_gap": null,
            "max_width": null,
            "order": null,
            "_view_module_version": "1.2.0",
            "grid_template_areas": null,
            "object_position": null,
            "object_fit": null,
            "grid_auto_columns": null,
            "margin": null,
            "display": null,
            "left": null
          }
        },
        "55a7d21660e548cf93637819fe90a933": {
          "model_module": "@jupyter-widgets/base",
          "model_name": "LayoutModel",
          "state": {
            "_view_name": "LayoutView",
            "grid_template_rows": null,
            "right": null,
            "justify_content": null,
            "_view_module": "@jupyter-widgets/base",
            "overflow": null,
            "_model_module_version": "1.2.0",
            "_view_count": null,
            "flex_flow": null,
            "width": null,
            "min_width": null,
            "border": null,
            "align_items": null,
            "bottom": null,
            "_model_module": "@jupyter-widgets/base",
            "top": null,
            "grid_column": null,
            "overflow_y": null,
            "overflow_x": null,
            "grid_auto_flow": null,
            "grid_area": null,
            "grid_template_columns": null,
            "flex": null,
            "_model_name": "LayoutModel",
            "justify_items": null,
            "grid_row": null,
            "max_height": null,
            "align_content": null,
            "visibility": null,
            "align_self": null,
            "height": null,
            "min_height": null,
            "padding": null,
            "grid_auto_rows": null,
            "grid_gap": null,
            "max_width": null,
            "order": null,
            "_view_module_version": "1.2.0",
            "grid_template_areas": null,
            "object_position": null,
            "object_fit": null,
            "grid_auto_columns": null,
            "margin": null,
            "display": null,
            "left": null
          }
        }
      }
    }
  },
  "cells": [
    {
      "cell_type": "code",
      "metadata": {
        "colab": {
          "base_uri": "https://localhost:8080/"
        },
        "id": "7pSOSJJOirK3",
        "outputId": "5d8b3a6a-d911-4932-ab05-c8ccfefd7b4c"
      },
      "source": [
        "import numpy as np\n",
        "import pandas as pd\n",
        "from sklearn import model_selection\n",
        "from sklearn.linear_model import LinearRegression\n",
        "from sklearn.linear_model import LogisticRegression\n",
        "from sklearn.linear_model import Ridge\n",
        "from sklearn.linear_model import Lasso\n",
        "from sklearn.linear_model import ElasticNet\n",
        "from sklearn.neighbors import KNeighborsRegressor\n",
        "from sklearn.tree import DecisionTreeClassifier\n",
        "from sklearn.svm import SVR\n",
        "from sklearn.ensemble import RandomForestClassifier\n",
        "from sklearn.metrics import r2_score\n",
        "from sklearn.model_selection import train_test_split\n",
        "from sklearn.metrics import mean_squared_error\n",
        "from sklearn.preprocessing import StandardScaler \n",
        "import matplotlib.pyplot as plt\n",
        "# Install plotlyExpress\n",
        "!pip install plotly\n",
        "import plotly.express as px\n",
        "import plotly.graph_objects as go\n",
        "from sklearn.metrics import accuracy_score\n",
        "from sklearn.metrics import average_precision_score\n",
        "from sklearn.metrics import precision_recall_curve\n",
        "from sklearn.metrics import plot_precision_recall_curve\n",
        "import matplotlib.pyplot as plt"
      ],
      "execution_count": null,
      "outputs": [
        {
          "output_type": "stream",
          "text": [
            "Requirement already satisfied: plotly in /usr/local/lib/python3.7/dist-packages (4.4.1)\n",
            "Requirement already satisfied: retrying>=1.3.3 in /usr/local/lib/python3.7/dist-packages (from plotly) (1.3.3)\n",
            "Requirement already satisfied: six in /usr/local/lib/python3.7/dist-packages (from plotly) (1.15.0)\n"
          ],
          "name": "stdout"
        }
      ]
    },
    {
      "cell_type": "code",
      "metadata": {
        "id": "_p_56vjamjo9"
      },
      "source": [
        "df=pd.read_csv('https://raw.githubusercontent.com/sudislife/HeartFailurePrediction/main/heart_failure_clinical_records_dataset.csv')\n",
        "df=df.drop('time',axis=1)"
      ],
      "execution_count": null,
      "outputs": []
    },
    {
      "cell_type": "code",
      "metadata": {
        "colab": {
          "base_uri": "https://localhost:8080/",
          "height": 359
        },
        "id": "q9c_nJxRJ_JJ",
        "outputId": "166de717-a785-4044-9f86-92fead3700e8"
      },
      "source": [
        "df.head(n=10)"
      ],
      "execution_count": null,
      "outputs": [
        {
          "output_type": "execute_result",
          "data": {
            "text/html": [
              "<div>\n",
              "<style scoped>\n",
              "    .dataframe tbody tr th:only-of-type {\n",
              "        vertical-align: middle;\n",
              "    }\n",
              "\n",
              "    .dataframe tbody tr th {\n",
              "        vertical-align: top;\n",
              "    }\n",
              "\n",
              "    .dataframe thead th {\n",
              "        text-align: right;\n",
              "    }\n",
              "</style>\n",
              "<table border=\"1\" class=\"dataframe\">\n",
              "  <thead>\n",
              "    <tr style=\"text-align: right;\">\n",
              "      <th></th>\n",
              "      <th>age</th>\n",
              "      <th>anaemia</th>\n",
              "      <th>creatinine_phosphokinase</th>\n",
              "      <th>diabetes</th>\n",
              "      <th>ejection_fraction</th>\n",
              "      <th>high_blood_pressure</th>\n",
              "      <th>platelets</th>\n",
              "      <th>serum_creatinine</th>\n",
              "      <th>serum_sodium</th>\n",
              "      <th>sex</th>\n",
              "      <th>smoking</th>\n",
              "      <th>DEATH_EVENT</th>\n",
              "    </tr>\n",
              "  </thead>\n",
              "  <tbody>\n",
              "    <tr>\n",
              "      <th>0</th>\n",
              "      <td>75.0</td>\n",
              "      <td>0</td>\n",
              "      <td>582</td>\n",
              "      <td>0</td>\n",
              "      <td>20</td>\n",
              "      <td>1</td>\n",
              "      <td>265000.00</td>\n",
              "      <td>1.9</td>\n",
              "      <td>130</td>\n",
              "      <td>1</td>\n",
              "      <td>0</td>\n",
              "      <td>1</td>\n",
              "    </tr>\n",
              "    <tr>\n",
              "      <th>1</th>\n",
              "      <td>55.0</td>\n",
              "      <td>0</td>\n",
              "      <td>7861</td>\n",
              "      <td>0</td>\n",
              "      <td>38</td>\n",
              "      <td>0</td>\n",
              "      <td>263358.03</td>\n",
              "      <td>1.1</td>\n",
              "      <td>136</td>\n",
              "      <td>1</td>\n",
              "      <td>0</td>\n",
              "      <td>1</td>\n",
              "    </tr>\n",
              "    <tr>\n",
              "      <th>2</th>\n",
              "      <td>65.0</td>\n",
              "      <td>0</td>\n",
              "      <td>146</td>\n",
              "      <td>0</td>\n",
              "      <td>20</td>\n",
              "      <td>0</td>\n",
              "      <td>162000.00</td>\n",
              "      <td>1.3</td>\n",
              "      <td>129</td>\n",
              "      <td>1</td>\n",
              "      <td>1</td>\n",
              "      <td>1</td>\n",
              "    </tr>\n",
              "    <tr>\n",
              "      <th>3</th>\n",
              "      <td>50.0</td>\n",
              "      <td>1</td>\n",
              "      <td>111</td>\n",
              "      <td>0</td>\n",
              "      <td>20</td>\n",
              "      <td>0</td>\n",
              "      <td>210000.00</td>\n",
              "      <td>1.9</td>\n",
              "      <td>137</td>\n",
              "      <td>1</td>\n",
              "      <td>0</td>\n",
              "      <td>1</td>\n",
              "    </tr>\n",
              "    <tr>\n",
              "      <th>4</th>\n",
              "      <td>65.0</td>\n",
              "      <td>1</td>\n",
              "      <td>160</td>\n",
              "      <td>1</td>\n",
              "      <td>20</td>\n",
              "      <td>0</td>\n",
              "      <td>327000.00</td>\n",
              "      <td>2.7</td>\n",
              "      <td>116</td>\n",
              "      <td>0</td>\n",
              "      <td>0</td>\n",
              "      <td>1</td>\n",
              "    </tr>\n",
              "    <tr>\n",
              "      <th>5</th>\n",
              "      <td>90.0</td>\n",
              "      <td>1</td>\n",
              "      <td>47</td>\n",
              "      <td>0</td>\n",
              "      <td>40</td>\n",
              "      <td>1</td>\n",
              "      <td>204000.00</td>\n",
              "      <td>2.1</td>\n",
              "      <td>132</td>\n",
              "      <td>1</td>\n",
              "      <td>1</td>\n",
              "      <td>1</td>\n",
              "    </tr>\n",
              "    <tr>\n",
              "      <th>6</th>\n",
              "      <td>75.0</td>\n",
              "      <td>1</td>\n",
              "      <td>246</td>\n",
              "      <td>0</td>\n",
              "      <td>15</td>\n",
              "      <td>0</td>\n",
              "      <td>127000.00</td>\n",
              "      <td>1.2</td>\n",
              "      <td>137</td>\n",
              "      <td>1</td>\n",
              "      <td>0</td>\n",
              "      <td>1</td>\n",
              "    </tr>\n",
              "    <tr>\n",
              "      <th>7</th>\n",
              "      <td>60.0</td>\n",
              "      <td>1</td>\n",
              "      <td>315</td>\n",
              "      <td>1</td>\n",
              "      <td>60</td>\n",
              "      <td>0</td>\n",
              "      <td>454000.00</td>\n",
              "      <td>1.1</td>\n",
              "      <td>131</td>\n",
              "      <td>1</td>\n",
              "      <td>1</td>\n",
              "      <td>1</td>\n",
              "    </tr>\n",
              "    <tr>\n",
              "      <th>8</th>\n",
              "      <td>65.0</td>\n",
              "      <td>0</td>\n",
              "      <td>157</td>\n",
              "      <td>0</td>\n",
              "      <td>65</td>\n",
              "      <td>0</td>\n",
              "      <td>263358.03</td>\n",
              "      <td>1.5</td>\n",
              "      <td>138</td>\n",
              "      <td>0</td>\n",
              "      <td>0</td>\n",
              "      <td>1</td>\n",
              "    </tr>\n",
              "    <tr>\n",
              "      <th>9</th>\n",
              "      <td>80.0</td>\n",
              "      <td>1</td>\n",
              "      <td>123</td>\n",
              "      <td>0</td>\n",
              "      <td>35</td>\n",
              "      <td>1</td>\n",
              "      <td>388000.00</td>\n",
              "      <td>9.4</td>\n",
              "      <td>133</td>\n",
              "      <td>1</td>\n",
              "      <td>1</td>\n",
              "      <td>1</td>\n",
              "    </tr>\n",
              "  </tbody>\n",
              "</table>\n",
              "</div>"
            ],
            "text/plain": [
              "    age  anaemia  creatinine_phosphokinase  ...  sex  smoking  DEATH_EVENT\n",
              "0  75.0        0                       582  ...    1        0            1\n",
              "1  55.0        0                      7861  ...    1        0            1\n",
              "2  65.0        0                       146  ...    1        1            1\n",
              "3  50.0        1                       111  ...    1        0            1\n",
              "4  65.0        1                       160  ...    0        0            1\n",
              "5  90.0        1                        47  ...    1        1            1\n",
              "6  75.0        1                       246  ...    1        0            1\n",
              "7  60.0        1                       315  ...    1        1            1\n",
              "8  65.0        0                       157  ...    0        0            1\n",
              "9  80.0        1                       123  ...    1        1            1\n",
              "\n",
              "[10 rows x 12 columns]"
            ]
          },
          "metadata": {
            "tags": []
          },
          "execution_count": 74
        }
      ]
    },
    {
      "cell_type": "code",
      "metadata": {
        "colab": {
          "base_uri": "https://localhost:8080/",
          "height": 421
        },
        "id": "DlWphijzkI_k",
        "outputId": "b7c6abc2-5f17-4d5d-df3f-b448f1ec31f2"
      },
      "source": [
        "df.corr()"
      ],
      "execution_count": null,
      "outputs": [
        {
          "output_type": "execute_result",
          "data": {
            "text/html": [
              "<div>\n",
              "<style scoped>\n",
              "    .dataframe tbody tr th:only-of-type {\n",
              "        vertical-align: middle;\n",
              "    }\n",
              "\n",
              "    .dataframe tbody tr th {\n",
              "        vertical-align: top;\n",
              "    }\n",
              "\n",
              "    .dataframe thead th {\n",
              "        text-align: right;\n",
              "    }\n",
              "</style>\n",
              "<table border=\"1\" class=\"dataframe\">\n",
              "  <thead>\n",
              "    <tr style=\"text-align: right;\">\n",
              "      <th></th>\n",
              "      <th>age</th>\n",
              "      <th>anaemia</th>\n",
              "      <th>creatinine_phosphokinase</th>\n",
              "      <th>diabetes</th>\n",
              "      <th>ejection_fraction</th>\n",
              "      <th>high_blood_pressure</th>\n",
              "      <th>platelets</th>\n",
              "      <th>serum_creatinine</th>\n",
              "      <th>serum_sodium</th>\n",
              "      <th>sex</th>\n",
              "      <th>smoking</th>\n",
              "      <th>DEATH_EVENT</th>\n",
              "    </tr>\n",
              "  </thead>\n",
              "  <tbody>\n",
              "    <tr>\n",
              "      <th>age</th>\n",
              "      <td>1.000000</td>\n",
              "      <td>0.088006</td>\n",
              "      <td>-0.081584</td>\n",
              "      <td>-0.101012</td>\n",
              "      <td>0.060098</td>\n",
              "      <td>0.093289</td>\n",
              "      <td>-0.052354</td>\n",
              "      <td>0.159187</td>\n",
              "      <td>-0.045966</td>\n",
              "      <td>0.065430</td>\n",
              "      <td>0.018668</td>\n",
              "      <td>0.253729</td>\n",
              "    </tr>\n",
              "    <tr>\n",
              "      <th>anaemia</th>\n",
              "      <td>0.088006</td>\n",
              "      <td>1.000000</td>\n",
              "      <td>-0.190741</td>\n",
              "      <td>-0.012729</td>\n",
              "      <td>0.031557</td>\n",
              "      <td>0.038182</td>\n",
              "      <td>-0.043786</td>\n",
              "      <td>0.052174</td>\n",
              "      <td>0.041882</td>\n",
              "      <td>-0.094769</td>\n",
              "      <td>-0.107290</td>\n",
              "      <td>0.066270</td>\n",
              "    </tr>\n",
              "    <tr>\n",
              "      <th>creatinine_phosphokinase</th>\n",
              "      <td>-0.081584</td>\n",
              "      <td>-0.190741</td>\n",
              "      <td>1.000000</td>\n",
              "      <td>-0.009639</td>\n",
              "      <td>-0.044080</td>\n",
              "      <td>-0.070590</td>\n",
              "      <td>0.024463</td>\n",
              "      <td>-0.016408</td>\n",
              "      <td>0.059550</td>\n",
              "      <td>0.079791</td>\n",
              "      <td>0.002421</td>\n",
              "      <td>0.062728</td>\n",
              "    </tr>\n",
              "    <tr>\n",
              "      <th>diabetes</th>\n",
              "      <td>-0.101012</td>\n",
              "      <td>-0.012729</td>\n",
              "      <td>-0.009639</td>\n",
              "      <td>1.000000</td>\n",
              "      <td>-0.004850</td>\n",
              "      <td>-0.012732</td>\n",
              "      <td>0.092193</td>\n",
              "      <td>-0.046975</td>\n",
              "      <td>-0.089551</td>\n",
              "      <td>-0.157730</td>\n",
              "      <td>-0.147173</td>\n",
              "      <td>-0.001943</td>\n",
              "    </tr>\n",
              "    <tr>\n",
              "      <th>ejection_fraction</th>\n",
              "      <td>0.060098</td>\n",
              "      <td>0.031557</td>\n",
              "      <td>-0.044080</td>\n",
              "      <td>-0.004850</td>\n",
              "      <td>1.000000</td>\n",
              "      <td>0.024445</td>\n",
              "      <td>0.072177</td>\n",
              "      <td>-0.011302</td>\n",
              "      <td>0.175902</td>\n",
              "      <td>-0.148386</td>\n",
              "      <td>-0.067315</td>\n",
              "      <td>-0.268603</td>\n",
              "    </tr>\n",
              "    <tr>\n",
              "      <th>high_blood_pressure</th>\n",
              "      <td>0.093289</td>\n",
              "      <td>0.038182</td>\n",
              "      <td>-0.070590</td>\n",
              "      <td>-0.012732</td>\n",
              "      <td>0.024445</td>\n",
              "      <td>1.000000</td>\n",
              "      <td>0.049963</td>\n",
              "      <td>-0.004935</td>\n",
              "      <td>0.037109</td>\n",
              "      <td>-0.104615</td>\n",
              "      <td>-0.055711</td>\n",
              "      <td>0.079351</td>\n",
              "    </tr>\n",
              "    <tr>\n",
              "      <th>platelets</th>\n",
              "      <td>-0.052354</td>\n",
              "      <td>-0.043786</td>\n",
              "      <td>0.024463</td>\n",
              "      <td>0.092193</td>\n",
              "      <td>0.072177</td>\n",
              "      <td>0.049963</td>\n",
              "      <td>1.000000</td>\n",
              "      <td>-0.041198</td>\n",
              "      <td>0.062125</td>\n",
              "      <td>-0.125120</td>\n",
              "      <td>0.028234</td>\n",
              "      <td>-0.049139</td>\n",
              "    </tr>\n",
              "    <tr>\n",
              "      <th>serum_creatinine</th>\n",
              "      <td>0.159187</td>\n",
              "      <td>0.052174</td>\n",
              "      <td>-0.016408</td>\n",
              "      <td>-0.046975</td>\n",
              "      <td>-0.011302</td>\n",
              "      <td>-0.004935</td>\n",
              "      <td>-0.041198</td>\n",
              "      <td>1.000000</td>\n",
              "      <td>-0.189095</td>\n",
              "      <td>0.006970</td>\n",
              "      <td>-0.027414</td>\n",
              "      <td>0.294278</td>\n",
              "    </tr>\n",
              "    <tr>\n",
              "      <th>serum_sodium</th>\n",
              "      <td>-0.045966</td>\n",
              "      <td>0.041882</td>\n",
              "      <td>0.059550</td>\n",
              "      <td>-0.089551</td>\n",
              "      <td>0.175902</td>\n",
              "      <td>0.037109</td>\n",
              "      <td>0.062125</td>\n",
              "      <td>-0.189095</td>\n",
              "      <td>1.000000</td>\n",
              "      <td>-0.027566</td>\n",
              "      <td>0.004813</td>\n",
              "      <td>-0.195204</td>\n",
              "    </tr>\n",
              "    <tr>\n",
              "      <th>sex</th>\n",
              "      <td>0.065430</td>\n",
              "      <td>-0.094769</td>\n",
              "      <td>0.079791</td>\n",
              "      <td>-0.157730</td>\n",
              "      <td>-0.148386</td>\n",
              "      <td>-0.104615</td>\n",
              "      <td>-0.125120</td>\n",
              "      <td>0.006970</td>\n",
              "      <td>-0.027566</td>\n",
              "      <td>1.000000</td>\n",
              "      <td>0.445892</td>\n",
              "      <td>-0.004316</td>\n",
              "    </tr>\n",
              "    <tr>\n",
              "      <th>smoking</th>\n",
              "      <td>0.018668</td>\n",
              "      <td>-0.107290</td>\n",
              "      <td>0.002421</td>\n",
              "      <td>-0.147173</td>\n",
              "      <td>-0.067315</td>\n",
              "      <td>-0.055711</td>\n",
              "      <td>0.028234</td>\n",
              "      <td>-0.027414</td>\n",
              "      <td>0.004813</td>\n",
              "      <td>0.445892</td>\n",
              "      <td>1.000000</td>\n",
              "      <td>-0.012623</td>\n",
              "    </tr>\n",
              "    <tr>\n",
              "      <th>DEATH_EVENT</th>\n",
              "      <td>0.253729</td>\n",
              "      <td>0.066270</td>\n",
              "      <td>0.062728</td>\n",
              "      <td>-0.001943</td>\n",
              "      <td>-0.268603</td>\n",
              "      <td>0.079351</td>\n",
              "      <td>-0.049139</td>\n",
              "      <td>0.294278</td>\n",
              "      <td>-0.195204</td>\n",
              "      <td>-0.004316</td>\n",
              "      <td>-0.012623</td>\n",
              "      <td>1.000000</td>\n",
              "    </tr>\n",
              "  </tbody>\n",
              "</table>\n",
              "</div>"
            ],
            "text/plain": [
              "                               age   anaemia  ...   smoking  DEATH_EVENT\n",
              "age                       1.000000  0.088006  ...  0.018668     0.253729\n",
              "anaemia                   0.088006  1.000000  ... -0.107290     0.066270\n",
              "creatinine_phosphokinase -0.081584 -0.190741  ...  0.002421     0.062728\n",
              "diabetes                 -0.101012 -0.012729  ... -0.147173    -0.001943\n",
              "ejection_fraction         0.060098  0.031557  ... -0.067315    -0.268603\n",
              "high_blood_pressure       0.093289  0.038182  ... -0.055711     0.079351\n",
              "platelets                -0.052354 -0.043786  ...  0.028234    -0.049139\n",
              "serum_creatinine          0.159187  0.052174  ... -0.027414     0.294278\n",
              "serum_sodium             -0.045966  0.041882  ...  0.004813    -0.195204\n",
              "sex                       0.065430 -0.094769  ...  0.445892    -0.004316\n",
              "smoking                   0.018668 -0.107290  ...  1.000000    -0.012623\n",
              "DEATH_EVENT               0.253729  0.066270  ... -0.012623     1.000000\n",
              "\n",
              "[12 rows x 12 columns]"
            ]
          },
          "metadata": {
            "tags": []
          },
          "execution_count": 75
        }
      ]
    },
    {
      "cell_type": "code",
      "metadata": {
        "id": "RCkcMqRX0jPb",
        "colab": {
          "base_uri": "https://localhost:8080/"
        },
        "outputId": "1503ba7d-7d76-48ac-edcd-1da3a5d14e5e"
      },
      "source": [
        "df.median()"
      ],
      "execution_count": null,
      "outputs": [
        {
          "output_type": "execute_result",
          "data": {
            "text/plain": [
              "age                             60.0\n",
              "anaemia                          0.0\n",
              "creatinine_phosphokinase       250.0\n",
              "diabetes                         0.0\n",
              "ejection_fraction               38.0\n",
              "high_blood_pressure              0.0\n",
              "platelets                   262000.0\n",
              "serum_creatinine                 1.1\n",
              "serum_sodium                   137.0\n",
              "sex                              1.0\n",
              "smoking                          0.0\n",
              "DEATH_EVENT                      0.0\n",
              "dtype: float64"
            ]
          },
          "metadata": {
            "tags": []
          },
          "execution_count": 7
        }
      ]
    },
    {
      "cell_type": "code",
      "metadata": {
        "id": "BWh2nSoM0lYm",
        "colab": {
          "base_uri": "https://localhost:8080/"
        },
        "outputId": "3920e7c3-526b-4d49-a5d4-463c5c6e59ac"
      },
      "source": [
        "df.mean()"
      ],
      "execution_count": null,
      "outputs": [
        {
          "output_type": "execute_result",
          "data": {
            "text/plain": [
              "age                             60.833893\n",
              "anaemia                          0.431438\n",
              "creatinine_phosphokinase       581.839465\n",
              "diabetes                         0.418060\n",
              "ejection_fraction               38.083612\n",
              "high_blood_pressure              0.351171\n",
              "platelets                   263358.029264\n",
              "serum_creatinine                 1.393880\n",
              "serum_sodium                   136.625418\n",
              "sex                              0.648829\n",
              "smoking                          0.321070\n",
              "DEATH_EVENT                      0.321070\n",
              "dtype: float64"
            ]
          },
          "metadata": {
            "tags": []
          },
          "execution_count": 8
        }
      ]
    },
    {
      "cell_type": "code",
      "metadata": {
        "id": "iqFRc9940oO_",
        "colab": {
          "base_uri": "https://localhost:8080/",
          "height": 204
        },
        "outputId": "04849bf0-5023-40e1-8e14-5bc8603c321b"
      },
      "source": [
        "df.head()"
      ],
      "execution_count": null,
      "outputs": [
        {
          "output_type": "execute_result",
          "data": {
            "text/html": [
              "<div>\n",
              "<style scoped>\n",
              "    .dataframe tbody tr th:only-of-type {\n",
              "        vertical-align: middle;\n",
              "    }\n",
              "\n",
              "    .dataframe tbody tr th {\n",
              "        vertical-align: top;\n",
              "    }\n",
              "\n",
              "    .dataframe thead th {\n",
              "        text-align: right;\n",
              "    }\n",
              "</style>\n",
              "<table border=\"1\" class=\"dataframe\">\n",
              "  <thead>\n",
              "    <tr style=\"text-align: right;\">\n",
              "      <th></th>\n",
              "      <th>age</th>\n",
              "      <th>anaemia</th>\n",
              "      <th>creatinine_phosphokinase</th>\n",
              "      <th>diabetes</th>\n",
              "      <th>ejection_fraction</th>\n",
              "      <th>high_blood_pressure</th>\n",
              "      <th>platelets</th>\n",
              "      <th>serum_creatinine</th>\n",
              "      <th>serum_sodium</th>\n",
              "      <th>sex</th>\n",
              "      <th>smoking</th>\n",
              "      <th>DEATH_EVENT</th>\n",
              "    </tr>\n",
              "  </thead>\n",
              "  <tbody>\n",
              "    <tr>\n",
              "      <th>0</th>\n",
              "      <td>75.0</td>\n",
              "      <td>0</td>\n",
              "      <td>582</td>\n",
              "      <td>0</td>\n",
              "      <td>20</td>\n",
              "      <td>1</td>\n",
              "      <td>265000.00</td>\n",
              "      <td>1.9</td>\n",
              "      <td>130</td>\n",
              "      <td>1</td>\n",
              "      <td>0</td>\n",
              "      <td>1</td>\n",
              "    </tr>\n",
              "    <tr>\n",
              "      <th>1</th>\n",
              "      <td>55.0</td>\n",
              "      <td>0</td>\n",
              "      <td>7861</td>\n",
              "      <td>0</td>\n",
              "      <td>38</td>\n",
              "      <td>0</td>\n",
              "      <td>263358.03</td>\n",
              "      <td>1.1</td>\n",
              "      <td>136</td>\n",
              "      <td>1</td>\n",
              "      <td>0</td>\n",
              "      <td>1</td>\n",
              "    </tr>\n",
              "    <tr>\n",
              "      <th>2</th>\n",
              "      <td>65.0</td>\n",
              "      <td>0</td>\n",
              "      <td>146</td>\n",
              "      <td>0</td>\n",
              "      <td>20</td>\n",
              "      <td>0</td>\n",
              "      <td>162000.00</td>\n",
              "      <td>1.3</td>\n",
              "      <td>129</td>\n",
              "      <td>1</td>\n",
              "      <td>1</td>\n",
              "      <td>1</td>\n",
              "    </tr>\n",
              "    <tr>\n",
              "      <th>3</th>\n",
              "      <td>50.0</td>\n",
              "      <td>1</td>\n",
              "      <td>111</td>\n",
              "      <td>0</td>\n",
              "      <td>20</td>\n",
              "      <td>0</td>\n",
              "      <td>210000.00</td>\n",
              "      <td>1.9</td>\n",
              "      <td>137</td>\n",
              "      <td>1</td>\n",
              "      <td>0</td>\n",
              "      <td>1</td>\n",
              "    </tr>\n",
              "    <tr>\n",
              "      <th>4</th>\n",
              "      <td>65.0</td>\n",
              "      <td>1</td>\n",
              "      <td>160</td>\n",
              "      <td>1</td>\n",
              "      <td>20</td>\n",
              "      <td>0</td>\n",
              "      <td>327000.00</td>\n",
              "      <td>2.7</td>\n",
              "      <td>116</td>\n",
              "      <td>0</td>\n",
              "      <td>0</td>\n",
              "      <td>1</td>\n",
              "    </tr>\n",
              "  </tbody>\n",
              "</table>\n",
              "</div>"
            ],
            "text/plain": [
              "    age  anaemia  creatinine_phosphokinase  ...  sex  smoking  DEATH_EVENT\n",
              "0  75.0        0                       582  ...    1        0            1\n",
              "1  55.0        0                      7861  ...    1        0            1\n",
              "2  65.0        0                       146  ...    1        1            1\n",
              "3  50.0        1                       111  ...    1        0            1\n",
              "4  65.0        1                       160  ...    0        0            1\n",
              "\n",
              "[5 rows x 12 columns]"
            ]
          },
          "metadata": {
            "tags": []
          },
          "execution_count": 34
        }
      ]
    },
    {
      "cell_type": "code",
      "metadata": {
        "id": "MPbOyQ-AOmP7"
      },
      "source": [
        "df['DEATH_EVENT'] = df['DEATH_EVENT'].astype(str)\n",
        "df['smoking'] = df['smoking'].astype(str)"
      ],
      "execution_count": null,
      "outputs": []
    },
    {
      "cell_type": "code",
      "metadata": {
        "colab": {
          "base_uri": "https://localhost:8080/",
          "height": 1000
        },
        "id": "0pOYPT3dIg8x",
        "outputId": "c312403c-d373-4d3a-c435-ec58bdce2854"
      },
      "source": [
        "fig = go.Figure(\n",
        "    data=go.Splom(\n",
        "        dimensions=[\n",
        "            dict(label='age', values=df.loc[df['DEATH_EVENT'] == '1']['age']),\n",
        "            dict(label='creatinine_phosphokinase', values=df.loc[df['DEATH_EVENT'] == '1']['creatinine_phosphokinase']),\n",
        "            dict(label='ejection_fraction', values=df.loc[df['DEATH_EVENT'] == '1']['ejection_fraction']),\n",
        "            dict(label='platelets', values=df.loc[df['DEATH_EVENT'] == '1']['platelets']),\n",
        "            dict(label='serum_creatinine', values=df.loc[df['DEATH_EVENT'] == '1']['serum_creatinine']),\n",
        "            dict(label='serum_sodium',values=df.loc[df['DEATH_EVENT'] == '1']['serum_sodium'])\n",
        "        ],\n",
        "        showupperhalf=False, # remove plots on diagonal\n",
        "        text=['age', 'creatinine_phosphokinase', 'ejection_fraction', 'platelets', 'serum_creatinine', 'serum_sodium'],\n",
        "        marker=dict(\n",
        "            color=df.loc[df['DEATH_EVENT'] == '1']['smoking'].astype('category').cat.codes,\n",
        "            line_color='white', \n",
        "            line_width=0.5,\n",
        "            colorscale='rdbu'\n",
        "        )\n",
        "    )\n",
        ")\n",
        "fig.update_traces(diagonal_visible=False)\n",
        "fig.update_layout(\n",
        "    title='Heart Failure Clinical Records',\n",
        "    width=1350,\n",
        "    height=1350\n",
        ")\n",
        "fig.show()"
      ],
      "execution_count": null,
      "outputs": [
        {
          "output_type": "display_data",
          "data": {
            "text/html": [
              "<html>\n",
              "<head><meta charset=\"utf-8\" /></head>\n",
              "<body>\n",
              "    <div>\n",
              "            <script src=\"https://cdnjs.cloudflare.com/ajax/libs/mathjax/2.7.5/MathJax.js?config=TeX-AMS-MML_SVG\"></script><script type=\"text/javascript\">if (window.MathJax) {MathJax.Hub.Config({SVG: {font: \"STIX-Web\"}});}</script>\n",
              "                <script type=\"text/javascript\">window.PlotlyConfig = {MathJaxConfig: 'local'};</script>\n",
              "        <script src=\"https://cdn.plot.ly/plotly-latest.min.js\"></script>    \n",
              "            <div id=\"5fd4e572-a92f-4ae4-9cf8-266f955e1a43\" class=\"plotly-graph-div\" style=\"height:1350px; width:1350px;\"></div>\n",
              "            <script type=\"text/javascript\">\n",
              "                \n",
              "                    window.PLOTLYENV=window.PLOTLYENV || {};\n",
              "                    \n",
              "                if (document.getElementById(\"5fd4e572-a92f-4ae4-9cf8-266f955e1a43\")) {\n",
              "                    Plotly.newPlot(\n",
              "                        '5fd4e572-a92f-4ae4-9cf8-266f955e1a43',\n",
              "                        [{\"diagonal\": {\"visible\": false}, \"dimensions\": [{\"label\": \"age\", \"values\": [75.0, 55.0, 65.0, 50.0, 65.0, 90.0, 75.0, 60.0, 65.0, 80.0, 75.0, 62.0, 45.0, 50.0, 82.0, 87.0, 45.0, 70.0, 48.0, 65.0, 68.0, 75.0, 80.0, 95.0, 70.0, 58.0, 82.0, 94.0, 85.0, 50.0, 65.0, 69.0, 90.0, 82.0, 60.0, 70.0, 50.0, 70.0, 60.0, 50.0, 51.0, 60.0, 80.0, 57.0, 68.0, 53.0, 60.0, 70.0, 60.0, 95.0, 49.0, 72.0, 45.0, 50.0, 45.0, 60.0, 42.0, 72.0, 70.0, 65.0, 85.0, 69.0, 60.0, 60.0, 59.0, 60.0, 72.0, 85.0, 70.0, 86.0, 60.0, 46.0, 80.0, 72.0, 75.0, 72.0, 50.0, 45.0, 80.0, 59.0, 59.0, 65.0, 75.0, 58.0, 60.667, 50.0, 60.0, 45.0, 77.0, 48.0, 54.0, 73.0, 60.0, 55.0, 65.0, 55.0]}, {\"label\": \"creatinine_phosphokinase\", \"values\": [582, 7861, 146, 111, 160, 47, 246, 315, 157, 123, 81, 231, 981, 168, 379, 149, 582, 125, 582, 128, 220, 582, 148, 112, 122, 60, 70, 582, 23, 249, 94, 582, 60, 855, 235, 582, 124, 571, 588, 582, 1380, 582, 553, 129, 577, 91, 3964, 69, 260, 371, 789, 364, 7702, 318, 582, 68, 250, 110, 161, 113, 5882, 582, 47, 76, 280, 154, 328, 129, 143, 582, 582, 168, 805, 943, 582, 233, 2334, 2442, 776, 66, 176, 395, 99, 145, 104, 582, 1896, 582, 418, 131, 427, 582, 166, 2017, 258, 1199]}, {\"label\": \"ejection_fraction\", \"values\": [20, 38, 20, 20, 20, 40, 15, 60, 65, 35, 38, 25, 30, 38, 50, 38, 14, 25, 55, 30, 35, 30, 38, 40, 45, 38, 30, 38, 45, 35, 50, 35, 50, 50, 38, 20, 30, 45, 60, 38, 25, 38, 20, 30, 25, 20, 62, 50, 38, 30, 20, 20, 25, 40, 35, 20, 15, 25, 25, 25, 35, 20, 20, 25, 25, 25, 30, 60, 60, 38, 40, 17, 38, 25, 30, 45, 35, 30, 38, 20, 25, 25, 38, 25, 30, 50, 25, 20, 45, 30, 70, 20, 30, 25, 25, 20]}, {\"label\": \"platelets\", \"values\": [265000.0, 263358.03, 162000.0, 210000.0, 327000.0, 204000.0, 127000.0, 454000.0, 263358.03, 388000.0, 368000.0, 253000.0, 136000.0, 276000.0, 47000.0, 262000.0, 166000.0, 237000.0, 87000.0, 297000.0, 289000.0, 263358.03, 149000.0, 196000.0, 284000.0, 153000.0, 200000.0, 263358.03, 360000.0, 319000.0, 188000.0, 228000.0, 226000.0, 321000.0, 329000.0, 263358.03, 153000.0, 185000.0, 194000.0, 310000.0, 271000.0, 451000.0, 140000.0, 395000.0, 166000.0, 418000.0, 263358.03, 351000.0, 255000.0, 461000.0, 319000.0, 254000.0, 390000.0, 216000.0, 385000.0, 119000.0, 213000.0, 274000.0, 244000.0, 497000.0, 243000.0, 266000.0, 204000.0, 196000.0, 302000.0, 210000.0, 621000.0, 306000.0, 351000.0, 263358.03, 217000.0, 271000.0, 263358.03, 338000.0, 225000.0, 235000.0, 75000.0, 334000.0, 192000.0, 70000.0, 221000.0, 265000.0, 224000.0, 219000.0, 389000.0, 153000.0, 365000.0, 126000.0, 223000.0, 244000.0, 151000.0, 263358.03, 62000.0, 314000.0, 198000.0, 263358.03]}, {\"label\": \"serum_creatinine\", \"values\": [1.9, 1.1, 1.3, 1.9, 2.7, 2.1, 1.2, 1.1, 1.5, 9.4, 4.0, 0.9, 1.1, 1.1, 1.3, 0.9, 0.8, 1.0, 1.9, 1.6, 0.9, 1.83, 1.9, 1.0, 1.3, 5.8, 1.2, 1.83, 3.0, 1.0, 1.0, 3.5, 1.0, 1.0, 3.0, 1.83, 1.2, 1.2, 1.1, 1.9, 0.9, 0.6, 4.4, 1.0, 1.0, 1.4, 6.8, 1.0, 2.2, 2.0, 1.1, 1.3, 1.0, 2.3, 1.0, 2.9, 1.3, 1.0, 1.2, 1.83, 1.0, 1.2, 0.7, 2.5, 1.0, 1.7, 1.7, 1.2, 1.3, 1.83, 3.7, 2.1, 1.1, 1.7, 1.83, 2.5, 0.9, 1.1, 1.3, 2.4, 1.0, 1.2, 2.5, 1.2, 1.5, 0.6, 2.1, 1.6, 1.8, 1.6, 9.0, 1.83, 1.7, 1.1, 1.4, 1.83]}, {\"label\": \"serum_sodium\", \"values\": [130, 136, 129, 137, 116, 132, 137, 131, 138, 133, 131, 140, 137, 137, 136, 140, 127, 140, 121, 136, 140, 134, 144, 138, 136, 134, 132, 134, 132, 128, 140, 134, 134, 145, 142, 134, 136, 139, 142, 135, 130, 138, 133, 140, 138, 139, 146, 134, 132, 132, 136, 136, 139, 131, 145, 127, 136, 140, 142, 135, 132, 134, 139, 132, 141, 135, 138, 132, 137, 134, 134, 124, 134, 139, 134, 135, 142, 139, 135, 134, 136, 136, 134, 137, 136, 134, 144, 135, 145, 130, 137, 134, 127, 138, 129, 134]}], \"marker\": {\"color\": [0, 0, 1, 0, 0, 1, 0, 1, 0, 1, 1, 1, 0, 0, 0, 0, 0, 0, 0, 0, 1, 0, 1, 0, 1, 0, 1, 0, 0, 0, 0, 0, 0, 0, 0, 1, 1, 1, 0, 1, 0, 1, 0, 0, 0, 0, 0, 0, 1, 0, 1, 1, 0, 0, 0, 1, 0, 1, 0, 0, 1, 1, 1, 0, 0, 0, 1, 1, 0, 0, 0, 0, 0, 1, 0, 0, 0, 0, 0, 0, 1, 1, 0, 1, 0, 0, 0, 0, 0, 0, 0, 0, 0, 0, 0, 1], \"colorscale\": [[0.0, \"rgb(103,0,31)\"], [0.1, \"rgb(178,24,43)\"], [0.2, \"rgb(214,96,77)\"], [0.3, \"rgb(244,165,130)\"], [0.4, \"rgb(253,219,199)\"], [0.5, \"rgb(247,247,247)\"], [0.6, \"rgb(209,229,240)\"], [0.7, \"rgb(146,197,222)\"], [0.8, \"rgb(67,147,195)\"], [0.9, \"rgb(33,102,172)\"], [1.0, \"rgb(5,48,97)\"]], \"line\": {\"color\": \"white\", \"width\": 0.5}}, \"showupperhalf\": false, \"text\": [\"age\", \"creatinine_phosphokinase\", \"ejection_fraction\", \"platelets\", \"serum_creatinine\", \"serum_sodium\"], \"type\": \"splom\"}],\n",
              "                        {\"height\": 1350, \"template\": {\"data\": {\"bar\": [{\"error_x\": {\"color\": \"#2a3f5f\"}, \"error_y\": {\"color\": \"#2a3f5f\"}, \"marker\": {\"line\": {\"color\": \"#E5ECF6\", \"width\": 0.5}}, \"type\": \"bar\"}], \"barpolar\": [{\"marker\": {\"line\": {\"color\": \"#E5ECF6\", \"width\": 0.5}}, \"type\": \"barpolar\"}], \"carpet\": [{\"aaxis\": {\"endlinecolor\": \"#2a3f5f\", \"gridcolor\": \"white\", \"linecolor\": \"white\", \"minorgridcolor\": \"white\", \"startlinecolor\": \"#2a3f5f\"}, \"baxis\": {\"endlinecolor\": \"#2a3f5f\", \"gridcolor\": \"white\", \"linecolor\": \"white\", \"minorgridcolor\": \"white\", \"startlinecolor\": \"#2a3f5f\"}, \"type\": \"carpet\"}], \"choropleth\": [{\"colorbar\": {\"outlinewidth\": 0, \"ticks\": \"\"}, \"type\": \"choropleth\"}], \"contour\": [{\"colorbar\": {\"outlinewidth\": 0, \"ticks\": \"\"}, \"colorscale\": [[0.0, \"#0d0887\"], [0.1111111111111111, \"#46039f\"], [0.2222222222222222, \"#7201a8\"], [0.3333333333333333, \"#9c179e\"], [0.4444444444444444, \"#bd3786\"], [0.5555555555555556, \"#d8576b\"], [0.6666666666666666, \"#ed7953\"], [0.7777777777777778, \"#fb9f3a\"], [0.8888888888888888, \"#fdca26\"], [1.0, \"#f0f921\"]], \"type\": \"contour\"}], \"contourcarpet\": [{\"colorbar\": {\"outlinewidth\": 0, \"ticks\": \"\"}, \"type\": \"contourcarpet\"}], \"heatmap\": [{\"colorbar\": {\"outlinewidth\": 0, \"ticks\": \"\"}, \"colorscale\": [[0.0, \"#0d0887\"], [0.1111111111111111, \"#46039f\"], [0.2222222222222222, \"#7201a8\"], [0.3333333333333333, \"#9c179e\"], [0.4444444444444444, \"#bd3786\"], [0.5555555555555556, \"#d8576b\"], [0.6666666666666666, \"#ed7953\"], [0.7777777777777778, \"#fb9f3a\"], [0.8888888888888888, \"#fdca26\"], [1.0, \"#f0f921\"]], \"type\": \"heatmap\"}], \"heatmapgl\": [{\"colorbar\": {\"outlinewidth\": 0, \"ticks\": \"\"}, \"colorscale\": [[0.0, \"#0d0887\"], [0.1111111111111111, \"#46039f\"], [0.2222222222222222, \"#7201a8\"], [0.3333333333333333, \"#9c179e\"], [0.4444444444444444, \"#bd3786\"], [0.5555555555555556, \"#d8576b\"], [0.6666666666666666, \"#ed7953\"], [0.7777777777777778, \"#fb9f3a\"], [0.8888888888888888, \"#fdca26\"], [1.0, \"#f0f921\"]], \"type\": \"heatmapgl\"}], \"histogram\": [{\"marker\": {\"colorbar\": {\"outlinewidth\": 0, \"ticks\": \"\"}}, \"type\": \"histogram\"}], \"histogram2d\": [{\"colorbar\": {\"outlinewidth\": 0, \"ticks\": \"\"}, \"colorscale\": [[0.0, \"#0d0887\"], [0.1111111111111111, \"#46039f\"], [0.2222222222222222, \"#7201a8\"], [0.3333333333333333, \"#9c179e\"], [0.4444444444444444, \"#bd3786\"], [0.5555555555555556, \"#d8576b\"], [0.6666666666666666, \"#ed7953\"], [0.7777777777777778, \"#fb9f3a\"], [0.8888888888888888, \"#fdca26\"], [1.0, \"#f0f921\"]], \"type\": \"histogram2d\"}], \"histogram2dcontour\": [{\"colorbar\": {\"outlinewidth\": 0, \"ticks\": \"\"}, \"colorscale\": [[0.0, \"#0d0887\"], [0.1111111111111111, \"#46039f\"], [0.2222222222222222, \"#7201a8\"], [0.3333333333333333, \"#9c179e\"], [0.4444444444444444, \"#bd3786\"], [0.5555555555555556, \"#d8576b\"], [0.6666666666666666, \"#ed7953\"], [0.7777777777777778, \"#fb9f3a\"], [0.8888888888888888, \"#fdca26\"], [1.0, \"#f0f921\"]], \"type\": \"histogram2dcontour\"}], \"mesh3d\": [{\"colorbar\": {\"outlinewidth\": 0, \"ticks\": \"\"}, \"type\": \"mesh3d\"}], \"parcoords\": [{\"line\": {\"colorbar\": {\"outlinewidth\": 0, \"ticks\": \"\"}}, \"type\": \"parcoords\"}], \"pie\": [{\"automargin\": true, \"type\": \"pie\"}], \"scatter\": [{\"marker\": {\"colorbar\": {\"outlinewidth\": 0, \"ticks\": \"\"}}, \"type\": \"scatter\"}], \"scatter3d\": [{\"line\": {\"colorbar\": {\"outlinewidth\": 0, \"ticks\": \"\"}}, \"marker\": {\"colorbar\": {\"outlinewidth\": 0, \"ticks\": \"\"}}, \"type\": \"scatter3d\"}], \"scattercarpet\": [{\"marker\": {\"colorbar\": {\"outlinewidth\": 0, \"ticks\": \"\"}}, \"type\": \"scattercarpet\"}], \"scattergeo\": [{\"marker\": {\"colorbar\": {\"outlinewidth\": 0, \"ticks\": \"\"}}, \"type\": \"scattergeo\"}], \"scattergl\": [{\"marker\": {\"colorbar\": {\"outlinewidth\": 0, \"ticks\": \"\"}}, \"type\": \"scattergl\"}], \"scattermapbox\": [{\"marker\": {\"colorbar\": {\"outlinewidth\": 0, \"ticks\": \"\"}}, \"type\": \"scattermapbox\"}], \"scatterpolar\": [{\"marker\": {\"colorbar\": {\"outlinewidth\": 0, \"ticks\": \"\"}}, \"type\": \"scatterpolar\"}], \"scatterpolargl\": [{\"marker\": {\"colorbar\": {\"outlinewidth\": 0, \"ticks\": \"\"}}, \"type\": \"scatterpolargl\"}], \"scatterternary\": [{\"marker\": {\"colorbar\": {\"outlinewidth\": 0, \"ticks\": \"\"}}, \"type\": \"scatterternary\"}], \"surface\": [{\"colorbar\": {\"outlinewidth\": 0, \"ticks\": \"\"}, \"colorscale\": [[0.0, \"#0d0887\"], [0.1111111111111111, \"#46039f\"], [0.2222222222222222, \"#7201a8\"], [0.3333333333333333, \"#9c179e\"], [0.4444444444444444, \"#bd3786\"], [0.5555555555555556, \"#d8576b\"], [0.6666666666666666, \"#ed7953\"], [0.7777777777777778, \"#fb9f3a\"], [0.8888888888888888, \"#fdca26\"], [1.0, \"#f0f921\"]], \"type\": \"surface\"}], \"table\": [{\"cells\": {\"fill\": {\"color\": \"#EBF0F8\"}, \"line\": {\"color\": \"white\"}}, \"header\": {\"fill\": {\"color\": \"#C8D4E3\"}, \"line\": {\"color\": \"white\"}}, \"type\": \"table\"}]}, \"layout\": {\"annotationdefaults\": {\"arrowcolor\": \"#2a3f5f\", \"arrowhead\": 0, \"arrowwidth\": 1}, \"coloraxis\": {\"colorbar\": {\"outlinewidth\": 0, \"ticks\": \"\"}}, \"colorscale\": {\"diverging\": [[0, \"#8e0152\"], [0.1, \"#c51b7d\"], [0.2, \"#de77ae\"], [0.3, \"#f1b6da\"], [0.4, \"#fde0ef\"], [0.5, \"#f7f7f7\"], [0.6, \"#e6f5d0\"], [0.7, \"#b8e186\"], [0.8, \"#7fbc41\"], [0.9, \"#4d9221\"], [1, \"#276419\"]], \"sequential\": [[0.0, \"#0d0887\"], [0.1111111111111111, \"#46039f\"], [0.2222222222222222, \"#7201a8\"], [0.3333333333333333, \"#9c179e\"], [0.4444444444444444, \"#bd3786\"], [0.5555555555555556, \"#d8576b\"], [0.6666666666666666, \"#ed7953\"], [0.7777777777777778, \"#fb9f3a\"], [0.8888888888888888, \"#fdca26\"], [1.0, \"#f0f921\"]], \"sequentialminus\": [[0.0, \"#0d0887\"], [0.1111111111111111, \"#46039f\"], [0.2222222222222222, \"#7201a8\"], [0.3333333333333333, \"#9c179e\"], [0.4444444444444444, \"#bd3786\"], [0.5555555555555556, \"#d8576b\"], [0.6666666666666666, \"#ed7953\"], [0.7777777777777778, \"#fb9f3a\"], [0.8888888888888888, \"#fdca26\"], [1.0, \"#f0f921\"]]}, \"colorway\": [\"#636efa\", \"#EF553B\", \"#00cc96\", \"#ab63fa\", \"#FFA15A\", \"#19d3f3\", \"#FF6692\", \"#B6E880\", \"#FF97FF\", \"#FECB52\"], \"font\": {\"color\": \"#2a3f5f\"}, \"geo\": {\"bgcolor\": \"white\", \"lakecolor\": \"white\", \"landcolor\": \"#E5ECF6\", \"showlakes\": true, \"showland\": true, \"subunitcolor\": \"white\"}, \"hoverlabel\": {\"align\": \"left\"}, \"hovermode\": \"closest\", \"mapbox\": {\"style\": \"light\"}, \"paper_bgcolor\": \"white\", \"plot_bgcolor\": \"#E5ECF6\", \"polar\": {\"angularaxis\": {\"gridcolor\": \"white\", \"linecolor\": \"white\", \"ticks\": \"\"}, \"bgcolor\": \"#E5ECF6\", \"radialaxis\": {\"gridcolor\": \"white\", \"linecolor\": \"white\", \"ticks\": \"\"}}, \"scene\": {\"xaxis\": {\"backgroundcolor\": \"#E5ECF6\", \"gridcolor\": \"white\", \"gridwidth\": 2, \"linecolor\": \"white\", \"showbackground\": true, \"ticks\": \"\", \"zerolinecolor\": \"white\"}, \"yaxis\": {\"backgroundcolor\": \"#E5ECF6\", \"gridcolor\": \"white\", \"gridwidth\": 2, \"linecolor\": \"white\", \"showbackground\": true, \"ticks\": \"\", \"zerolinecolor\": \"white\"}, \"zaxis\": {\"backgroundcolor\": \"#E5ECF6\", \"gridcolor\": \"white\", \"gridwidth\": 2, \"linecolor\": \"white\", \"showbackground\": true, \"ticks\": \"\", \"zerolinecolor\": \"white\"}}, \"shapedefaults\": {\"line\": {\"color\": \"#2a3f5f\"}}, \"ternary\": {\"aaxis\": {\"gridcolor\": \"white\", \"linecolor\": \"white\", \"ticks\": \"\"}, \"baxis\": {\"gridcolor\": \"white\", \"linecolor\": \"white\", \"ticks\": \"\"}, \"bgcolor\": \"#E5ECF6\", \"caxis\": {\"gridcolor\": \"white\", \"linecolor\": \"white\", \"ticks\": \"\"}}, \"title\": {\"x\": 0.05}, \"xaxis\": {\"automargin\": true, \"gridcolor\": \"white\", \"linecolor\": \"white\", \"ticks\": \"\", \"title\": {\"standoff\": 15}, \"zerolinecolor\": \"white\", \"zerolinewidth\": 2}, \"yaxis\": {\"automargin\": true, \"gridcolor\": \"white\", \"linecolor\": \"white\", \"ticks\": \"\", \"title\": {\"standoff\": 15}, \"zerolinecolor\": \"white\", \"zerolinewidth\": 2}}}, \"title\": {\"text\": \"Heart Failure Clinical Records\"}, \"width\": 1350},\n",
              "                        {\"responsive\": true}\n",
              "                    ).then(function(){\n",
              "                            \n",
              "var gd = document.getElementById('5fd4e572-a92f-4ae4-9cf8-266f955e1a43');\n",
              "var x = new MutationObserver(function (mutations, observer) {{\n",
              "        var display = window.getComputedStyle(gd).display;\n",
              "        if (!display || display === 'none') {{\n",
              "            console.log([gd, 'removed!']);\n",
              "            Plotly.purge(gd);\n",
              "            observer.disconnect();\n",
              "        }}\n",
              "}});\n",
              "\n",
              "// Listen for the removal of the full notebook cells\n",
              "var notebookContainer = gd.closest('#notebook-container');\n",
              "if (notebookContainer) {{\n",
              "    x.observe(notebookContainer, {childList: true});\n",
              "}}\n",
              "\n",
              "// Listen for the clearing of the current output cell\n",
              "var outputEl = gd.closest('.output');\n",
              "if (outputEl) {{\n",
              "    x.observe(outputEl, {childList: true});\n",
              "}}\n",
              "\n",
              "                        })\n",
              "                };\n",
              "                \n",
              "            </script>\n",
              "        </div>\n",
              "</body>\n",
              "</html>"
            ]
          },
          "metadata": {
            "tags": []
          }
        }
      ]
    },
    {
      "cell_type": "code",
      "metadata": {
        "colab": {
          "base_uri": "https://localhost:8080/",
          "height": 1000
        },
        "id": "zE_2wY65NihQ",
        "outputId": "3796f0c0-6419-4f3e-d226-f6d0513376b6"
      },
      "source": [
        "fig = px.scatter_matrix(\n",
        "    df.loc[df['smoking'] == 0],\n",
        "    dimensions=['age', 'creatinine_phosphokinase', 'ejection_fraction', 'platelets', 'serum_creatinine', 'serum_sodium'],\n",
        "    color=df.loc[df['smoking'] == 0]['DEATH_EVENT'].astype(str),\n",
        "    labels = {'color': 'Death', 'smoking': 'Smoking'}\n",
        ")\n",
        "fig.update_traces(diagonal_visible=False)\n",
        "fig.update_layout(\n",
        "    title='Heart Failure Clinical Records',\n",
        "    width=1350,\n",
        "    height=1350,\n",
        ")\n",
        "fig.show()"
      ],
      "execution_count": null,
      "outputs": [
        {
          "output_type": "display_data",
          "data": {
            "text/html": [
              "<html>\n",
              "<head><meta charset=\"utf-8\" /></head>\n",
              "<body>\n",
              "    <div>\n",
              "            <script src=\"https://cdnjs.cloudflare.com/ajax/libs/mathjax/2.7.5/MathJax.js?config=TeX-AMS-MML_SVG\"></script><script type=\"text/javascript\">if (window.MathJax) {MathJax.Hub.Config({SVG: {font: \"STIX-Web\"}});}</script>\n",
              "                <script type=\"text/javascript\">window.PlotlyConfig = {MathJaxConfig: 'local'};</script>\n",
              "        <script src=\"https://cdn.plot.ly/plotly-latest.min.js\"></script>    \n",
              "            <div id=\"82b2cc96-0505-4941-b75f-89b86aba0379\" class=\"plotly-graph-div\" style=\"height:1350px; width:1350px;\"></div>\n",
              "            <script type=\"text/javascript\">\n",
              "                \n",
              "                    window.PLOTLYENV=window.PLOTLYENV || {};\n",
              "                    \n",
              "                if (document.getElementById(\"82b2cc96-0505-4941-b75f-89b86aba0379\")) {\n",
              "                    Plotly.newPlot(\n",
              "                        '82b2cc96-0505-4941-b75f-89b86aba0379',\n",
              "                        [{\"diagonal\": {\"visible\": false}, \"dimensions\": [{\"axis\": {\"matches\": true}, \"label\": \"age\", \"values\": [75.0, 55.0, 50.0, 65.0, 75.0, 65.0, 45.0, 50.0, 82.0, 87.0, 45.0, 70.0, 48.0, 65.0, 75.0, 95.0, 58.0, 94.0, 85.0, 50.0, 65.0, 69.0, 90.0, 82.0, 60.0, 60.0, 51.0, 80.0, 57.0, 68.0, 53.0, 60.0, 70.0, 95.0, 45.0, 50.0, 45.0, 42.0, 70.0, 65.0, 60.0, 59.0, 60.0, 70.0, 86.0, 60.0, 46.0, 80.0, 75.0, 72.0, 50.0, 45.0, 80.0, 59.0, 75.0, 60.667, 50.0, 60.0, 45.0, 77.0, 48.0, 54.0, 73.0, 60.0, 55.0, 65.0]}, {\"axis\": {\"matches\": true}, \"label\": \"creatinine_phosphokinase\", \"values\": [582, 7861, 111, 160, 246, 157, 981, 168, 379, 149, 582, 125, 582, 128, 582, 112, 60, 582, 23, 249, 94, 582, 60, 855, 235, 588, 1380, 553, 129, 577, 91, 3964, 69, 371, 7702, 318, 582, 250, 161, 113, 76, 280, 154, 143, 582, 582, 168, 805, 582, 233, 2334, 2442, 776, 66, 99, 104, 582, 1896, 582, 418, 131, 427, 582, 166, 2017, 258]}, {\"axis\": {\"matches\": true}, \"label\": \"ejection_fraction\", \"values\": [20, 38, 20, 20, 15, 65, 30, 38, 50, 38, 14, 25, 55, 30, 30, 40, 38, 38, 45, 35, 50, 35, 50, 50, 38, 60, 25, 20, 30, 25, 20, 62, 50, 30, 25, 40, 35, 15, 25, 25, 25, 25, 25, 60, 38, 40, 17, 38, 30, 45, 35, 30, 38, 20, 38, 30, 50, 25, 20, 45, 30, 70, 20, 30, 25, 25]}, {\"axis\": {\"matches\": true}, \"label\": \"platelets\", \"values\": [265000.0, 263358.03, 210000.0, 327000.0, 127000.0, 263358.03, 136000.0, 276000.0, 47000.0, 262000.0, 166000.0, 237000.0, 87000.0, 297000.0, 263358.03, 196000.0, 153000.0, 263358.03, 360000.0, 319000.0, 188000.0, 228000.0, 226000.0, 321000.0, 329000.0, 194000.0, 271000.0, 140000.0, 395000.0, 166000.0, 418000.0, 263358.03, 351000.0, 461000.0, 390000.0, 216000.0, 385000.0, 213000.0, 244000.0, 497000.0, 196000.0, 302000.0, 210000.0, 351000.0, 263358.03, 217000.0, 271000.0, 263358.03, 225000.0, 235000.0, 75000.0, 334000.0, 192000.0, 70000.0, 224000.0, 389000.0, 153000.0, 365000.0, 126000.0, 223000.0, 244000.0, 151000.0, 263358.03, 62000.0, 314000.0, 198000.0]}, {\"axis\": {\"matches\": true}, \"label\": \"serum_creatinine\", \"values\": [1.9, 1.1, 1.9, 2.7, 1.2, 1.5, 1.1, 1.1, 1.3, 0.9, 0.8, 1.0, 1.9, 1.6, 1.83, 1.0, 5.8, 1.83, 3.0, 1.0, 1.0, 3.5, 1.0, 1.0, 3.0, 1.1, 0.9, 4.4, 1.0, 1.0, 1.4, 6.8, 1.0, 2.0, 1.0, 2.3, 1.0, 1.3, 1.2, 1.83, 2.5, 1.0, 1.7, 1.3, 1.83, 3.7, 2.1, 1.1, 1.83, 2.5, 0.9, 1.1, 1.3, 2.4, 2.5, 1.5, 0.6, 2.1, 1.6, 1.8, 1.6, 9.0, 1.83, 1.7, 1.1, 1.4]}, {\"axis\": {\"matches\": true}, \"label\": \"serum_sodium\", \"values\": [130, 136, 137, 116, 137, 138, 137, 137, 136, 140, 127, 140, 121, 136, 134, 138, 134, 134, 132, 128, 140, 134, 134, 145, 142, 142, 130, 133, 140, 138, 139, 146, 134, 132, 139, 131, 145, 136, 142, 135, 132, 141, 135, 137, 134, 134, 124, 134, 134, 135, 142, 139, 135, 134, 134, 136, 134, 144, 135, 145, 130, 137, 134, 127, 138, 129]}], \"hoverlabel\": {\"namelength\": 0}, \"hovertemplate\": \"Death=1<br>%{xaxis.title.text}=%{x}<br>%{yaxis.title.text}=%{y}\", \"legendgroup\": \"Death=1\", \"marker\": {\"color\": \"#636efa\", \"symbol\": \"circle\"}, \"name\": \"Death=1\", \"showlegend\": true, \"type\": \"splom\"}, {\"diagonal\": {\"visible\": false}, \"dimensions\": [{\"axis\": {\"matches\": true}, \"label\": \"age\", \"values\": [49.0, 65.0, 53.0, 50.0, 60.0, 72.0, 45.0, 42.0, 55.0, 70.0, 79.0, 51.0, 55.0, 65.0, 44.0, 57.0, 60.0, 42.0, 58.0, 58.0, 63.0, 70.0, 60.0, 63.0, 65.0, 75.0, 60.0, 55.0, 45.0, 50.0, 60.0, 58.0, 60.0, 85.0, 65.0, 66.0, 60.0, 60.0, 43.0, 58.0, 53.0, 60.0, 46.0, 75.0, 65.0, 68.0, 62.0, 50.0, 46.0, 50.0, 61.0, 64.0, 60.0, 62.0, 65.0, 60.0, 52.0, 85.0, 66.0, 65.0, 70.0, 50.0, 49.0, 63.0, 40.0, 60.667, 40.0, 80.0, 64.0, 50.0, 45.0, 65.0, 50.0, 63.0, 45.0, 70.0, 50.0, 40.0, 85.0, 60.0, 49.0, 65.0, 73.0, 70.0, 68.0, 55.0, 47.0, 58.0, 75.0, 55.0, 65.0, 72.0, 40.0, 77.0, 75.0, 70.0, 65.0, 70.0, 73.0, 54.0, 61.0, 64.0, 53.0, 50.0, 55.0, 50.0, 70.0, 53.0, 65.0, 58.0, 45.0, 55.0, 62.0, 68.0, 61.0, 56.0, 45.0, 40.0, 51.0, 67.0, 42.0, 45.0, 70.0, 70.0, 50.0, 55.0, 70.0, 50.0, 55.0, 60.0, 45.0, 65.0, 90.0, 45.0, 60.0, 55.0, 45.0]}, {\"axis\": {\"matches\": true}, \"label\": \"creatinine_phosphokinase\", \"values\": [80, 52, 63, 159, 2656, 127, 582, 102, 336, 69, 55, 78, 47, 68, 84, 115, 897, 582, 144, 133, 514, 59, 156, 61, 305, 582, 53, 748, 1876, 369, 754, 400, 96, 102, 113, 68, 96, 582, 358, 200, 270, 1082, 719, 582, 59, 646, 281, 1548, 291, 482, 84, 1610, 2261, 30, 335, 231, 58, 910, 72, 582, 835, 115, 69, 122, 478, 151, 244, 582, 62, 121, 582, 167, 582, 1767, 308, 97, 167, 101, 212, 2281, 972, 135, 582, 1202, 1021, 582, 582, 582, 675, 2794, 56, 211, 129, 109, 119, 232, 720, 81, 1185, 582, 80, 143, 207, 2522, 572, 245, 88, 446, 326, 132, 66, 66, 655, 157, 582, 135, 582, 582, 582, 213, 64, 582, 618, 582, 1051, 84, 2695, 54, 170, 253, 582, 892, 337, 615, 320, 1820, 2060]}, {\"axis\": {\"matches\": true}, \"label\": \"ejection_fraction\", \"values\": [30, 25, 60, 30, 30, 50, 80, 40, 45, 40, 50, 50, 35, 60, 40, 25, 45, 60, 38, 60, 25, 60, 25, 40, 25, 45, 50, 45, 35, 25, 40, 40, 60, 60, 60, 38, 38, 30, 50, 60, 35, 45, 40, 40, 60, 25, 35, 30, 35, 30, 40, 60, 35, 60, 35, 25, 35, 50, 40, 40, 35, 20, 50, 60, 30, 40, 45, 35, 60, 40, 38, 30, 20, 45, 60, 60, 45, 40, 38, 40, 35, 35, 35, 50, 35, 35, 25, 25, 60, 35, 25, 25, 35, 50, 50, 30, 40, 35, 40, 38, 38, 25, 40, 30, 35, 45, 35, 60, 38, 38, 25, 40, 40, 60, 38, 38, 38, 35, 40, 38, 40, 38, 35, 38, 30, 38, 40, 40, 40, 35, 55, 35, 38, 55, 35, 38, 60]}, {\"axis\": {\"matches\": true}, \"label\": \"platelets\", \"values\": [427000.0, 276000.0, 368000.0, 302000.0, 305000.0, 218000.0, 263358.03, 237000.0, 324000.0, 293000.0, 172000.0, 406000.0, 173000.0, 304000.0, 235000.0, 181000.0, 297000.0, 263358.03, 327000.0, 219000.0, 254000.0, 255000.0, 318000.0, 221000.0, 298000.0, 263358.03, 286000.0, 263000.0, 226000.0, 252000.0, 328000.0, 164000.0, 271000.0, 507000.0, 203000.0, 162000.0, 228000.0, 127000.0, 237000.0, 300000.0, 227000.0, 250000.0, 263358.03, 263358.03, 172000.0, 305000.0, 221000.0, 211000.0, 348000.0, 329000.0, 229000.0, 242000.0, 228000.0, 244000.0, 235000.0, 194000.0, 277000.0, 235000.0, 242000.0, 270000.0, 305000.0, 189000.0, 132000.0, 267000.0, 303000.0, 201000.0, 275000.0, 350000.0, 309000.0, 260000.0, 263358.03, 259000.0, 279000.0, 73000.0, 377000.0, 220000.0, 362000.0, 226000.0, 186000.0, 283000.0, 268000.0, 290000.0, 203000.0, 358000.0, 271000.0, 371000.0, 130000.0, 504000.0, 265000.0, 141000.0, 237000.0, 274000.0, 255000.0, 406000.0, 248000.0, 173000.0, 257000.0, 533000.0, 220000.0, 264000.0, 282000.0, 246000.0, 223000.0, 404000.0, 231000.0, 274000.0, 236000.0, 263358.03, 294000.0, 253000.0, 233000.0, 203000.0, 283000.0, 208000.0, 147000.0, 133000.0, 302000.0, 222000.0, 221000.0, 215000.0, 189000.0, 422000.0, 327000.0, 25100.0, 232000.0, 451000.0, 241000.0, 279000.0, 336000.0, 279000.0, 543000.0, 263358.03, 390000.0, 222000.0, 133000.0, 270000.0, 742000.0]}, {\"axis\": {\"matches\": true}, \"label\": \"serum_creatinine\", \"values\": [1.0, 1.3, 0.8, 1.2, 2.3, 1.0, 1.18, 1.2, 0.9, 1.7, 1.8, 0.7, 1.1, 0.8, 0.7, 1.1, 1.0, 1.18, 0.7, 1.0, 1.3, 1.1, 1.2, 1.1, 1.1, 1.18, 2.3, 1.3, 0.9, 1.6, 1.2, 1.0, 0.7, 3.2, 0.9, 1.0, 0.75, 0.9, 1.3, 0.8, 3.4, 6.1, 1.18, 1.18, 0.9, 2.1, 1.0, 0.8, 0.9, 0.9, 0.9, 1.0, 0.9, 0.9, 0.8, 1.7, 1.4, 1.3, 1.2, 1.0, 0.8, 0.8, 1.0, 1.2, 0.9, 1.0, 0.9, 2.1, 1.5, 0.7, 1.18, 0.8, 1.0, 0.7, 1.0, 0.9, 1.0, 0.8, 0.9, 1.0, 0.8, 0.8, 1.3, 0.9, 1.1, 0.7, 0.8, 1.0, 1.4, 1.0, 5.0, 1.2, 0.9, 1.1, 1.1, 1.2, 1.0, 1.3, 0.9, 1.8, 1.4, 2.4, 1.2, 0.5, 0.8, 1.0, 1.2, 1.0, 1.7, 1.0, 0.8, 1.0, 0.7, 1.0, 1.2, 1.7, 0.9, 1.0, 0.9, 1.2, 0.7, 0.8, 1.1, 1.1, 0.7, 1.3, 1.0, 0.8, 1.2, 1.7, 1.0, 1.1, 0.9, 0.8, 1.4, 1.2, 0.8]}, {\"axis\": {\"matches\": true}, \"label\": \"serum_sodium\", \"values\": [138, 137, 135, 138, 137, 134, 137, 140, 140, 136, 133, 140, 137, 140, 139, 144, 133, 137, 142, 141, 134, 136, 137, 140, 141, 137, 143, 137, 138, 136, 126, 139, 136, 138, 140, 136, 140, 145, 135, 137, 145, 131, 137, 137, 137, 130, 136, 138, 140, 132, 141, 137, 136, 139, 136, 140, 136, 134, 134, 138, 133, 139, 140, 145, 136, 136, 140, 134, 135, 130, 137, 138, 134, 137, 136, 138, 136, 141, 136, 141, 130, 134, 134, 141, 134, 140, 134, 138, 125, 140, 130, 134, 137, 137, 148, 132, 136, 139, 141, 134, 137, 135, 130, 139, 143, 133, 132, 139, 139, 139, 135, 138, 133, 140, 141, 140, 140, 132, 134, 133, 140, 137, 142, 140, 136, 136, 137, 141, 135, 140, 132, 142, 144, 141, 139, 139, 138]}], \"hoverlabel\": {\"namelength\": 0}, \"hovertemplate\": \"Death=0<br>%{xaxis.title.text}=%{x}<br>%{yaxis.title.text}=%{y}\", \"legendgroup\": \"Death=0\", \"marker\": {\"color\": \"#EF553B\", \"symbol\": \"circle\"}, \"name\": \"Death=0\", \"showlegend\": true, \"type\": \"splom\"}],\n",
              "                        {\"dragmode\": \"select\", \"height\": 1350, \"legend\": {\"tracegroupgap\": 0}, \"margin\": {\"t\": 60}, \"template\": {\"data\": {\"bar\": [{\"error_x\": {\"color\": \"#2a3f5f\"}, \"error_y\": {\"color\": \"#2a3f5f\"}, \"marker\": {\"line\": {\"color\": \"#E5ECF6\", \"width\": 0.5}}, \"type\": \"bar\"}], \"barpolar\": [{\"marker\": {\"line\": {\"color\": \"#E5ECF6\", \"width\": 0.5}}, \"type\": \"barpolar\"}], \"carpet\": [{\"aaxis\": {\"endlinecolor\": \"#2a3f5f\", \"gridcolor\": \"white\", \"linecolor\": \"white\", \"minorgridcolor\": \"white\", \"startlinecolor\": \"#2a3f5f\"}, \"baxis\": {\"endlinecolor\": \"#2a3f5f\", \"gridcolor\": \"white\", \"linecolor\": \"white\", \"minorgridcolor\": \"white\", \"startlinecolor\": \"#2a3f5f\"}, \"type\": \"carpet\"}], \"choropleth\": [{\"colorbar\": {\"outlinewidth\": 0, \"ticks\": \"\"}, \"type\": \"choropleth\"}], \"contour\": [{\"colorbar\": {\"outlinewidth\": 0, \"ticks\": \"\"}, \"colorscale\": [[0.0, \"#0d0887\"], [0.1111111111111111, \"#46039f\"], [0.2222222222222222, \"#7201a8\"], [0.3333333333333333, \"#9c179e\"], [0.4444444444444444, \"#bd3786\"], [0.5555555555555556, \"#d8576b\"], [0.6666666666666666, \"#ed7953\"], [0.7777777777777778, \"#fb9f3a\"], [0.8888888888888888, \"#fdca26\"], [1.0, \"#f0f921\"]], \"type\": \"contour\"}], \"contourcarpet\": [{\"colorbar\": {\"outlinewidth\": 0, \"ticks\": \"\"}, \"type\": \"contourcarpet\"}], \"heatmap\": [{\"colorbar\": {\"outlinewidth\": 0, \"ticks\": \"\"}, \"colorscale\": [[0.0, \"#0d0887\"], [0.1111111111111111, \"#46039f\"], [0.2222222222222222, \"#7201a8\"], [0.3333333333333333, \"#9c179e\"], [0.4444444444444444, \"#bd3786\"], [0.5555555555555556, \"#d8576b\"], [0.6666666666666666, \"#ed7953\"], [0.7777777777777778, \"#fb9f3a\"], [0.8888888888888888, \"#fdca26\"], [1.0, \"#f0f921\"]], \"type\": \"heatmap\"}], \"heatmapgl\": [{\"colorbar\": {\"outlinewidth\": 0, \"ticks\": \"\"}, \"colorscale\": [[0.0, \"#0d0887\"], [0.1111111111111111, \"#46039f\"], [0.2222222222222222, \"#7201a8\"], [0.3333333333333333, \"#9c179e\"], [0.4444444444444444, \"#bd3786\"], [0.5555555555555556, \"#d8576b\"], [0.6666666666666666, \"#ed7953\"], [0.7777777777777778, \"#fb9f3a\"], [0.8888888888888888, \"#fdca26\"], [1.0, \"#f0f921\"]], \"type\": \"heatmapgl\"}], \"histogram\": [{\"marker\": {\"colorbar\": {\"outlinewidth\": 0, \"ticks\": \"\"}}, \"type\": \"histogram\"}], \"histogram2d\": [{\"colorbar\": {\"outlinewidth\": 0, \"ticks\": \"\"}, \"colorscale\": [[0.0, \"#0d0887\"], [0.1111111111111111, \"#46039f\"], [0.2222222222222222, \"#7201a8\"], [0.3333333333333333, \"#9c179e\"], [0.4444444444444444, \"#bd3786\"], [0.5555555555555556, \"#d8576b\"], [0.6666666666666666, \"#ed7953\"], [0.7777777777777778, \"#fb9f3a\"], [0.8888888888888888, \"#fdca26\"], [1.0, \"#f0f921\"]], \"type\": \"histogram2d\"}], \"histogram2dcontour\": [{\"colorbar\": {\"outlinewidth\": 0, \"ticks\": \"\"}, \"colorscale\": [[0.0, \"#0d0887\"], [0.1111111111111111, \"#46039f\"], [0.2222222222222222, \"#7201a8\"], [0.3333333333333333, \"#9c179e\"], [0.4444444444444444, \"#bd3786\"], [0.5555555555555556, \"#d8576b\"], [0.6666666666666666, \"#ed7953\"], [0.7777777777777778, \"#fb9f3a\"], [0.8888888888888888, \"#fdca26\"], [1.0, \"#f0f921\"]], \"type\": \"histogram2dcontour\"}], \"mesh3d\": [{\"colorbar\": {\"outlinewidth\": 0, \"ticks\": \"\"}, \"type\": \"mesh3d\"}], \"parcoords\": [{\"line\": {\"colorbar\": {\"outlinewidth\": 0, \"ticks\": \"\"}}, \"type\": \"parcoords\"}], \"pie\": [{\"automargin\": true, \"type\": \"pie\"}], \"scatter\": [{\"marker\": {\"colorbar\": {\"outlinewidth\": 0, \"ticks\": \"\"}}, \"type\": \"scatter\"}], \"scatter3d\": [{\"line\": {\"colorbar\": {\"outlinewidth\": 0, \"ticks\": \"\"}}, \"marker\": {\"colorbar\": {\"outlinewidth\": 0, \"ticks\": \"\"}}, \"type\": \"scatter3d\"}], \"scattercarpet\": [{\"marker\": {\"colorbar\": {\"outlinewidth\": 0, \"ticks\": \"\"}}, \"type\": \"scattercarpet\"}], \"scattergeo\": [{\"marker\": {\"colorbar\": {\"outlinewidth\": 0, \"ticks\": \"\"}}, \"type\": \"scattergeo\"}], \"scattergl\": [{\"marker\": {\"colorbar\": {\"outlinewidth\": 0, \"ticks\": \"\"}}, \"type\": \"scattergl\"}], \"scattermapbox\": [{\"marker\": {\"colorbar\": {\"outlinewidth\": 0, \"ticks\": \"\"}}, \"type\": \"scattermapbox\"}], \"scatterpolar\": [{\"marker\": {\"colorbar\": {\"outlinewidth\": 0, \"ticks\": \"\"}}, \"type\": \"scatterpolar\"}], \"scatterpolargl\": [{\"marker\": {\"colorbar\": {\"outlinewidth\": 0, \"ticks\": \"\"}}, \"type\": \"scatterpolargl\"}], \"scatterternary\": [{\"marker\": {\"colorbar\": {\"outlinewidth\": 0, \"ticks\": \"\"}}, \"type\": \"scatterternary\"}], \"surface\": [{\"colorbar\": {\"outlinewidth\": 0, \"ticks\": \"\"}, \"colorscale\": [[0.0, \"#0d0887\"], [0.1111111111111111, \"#46039f\"], [0.2222222222222222, \"#7201a8\"], [0.3333333333333333, \"#9c179e\"], [0.4444444444444444, \"#bd3786\"], [0.5555555555555556, \"#d8576b\"], [0.6666666666666666, \"#ed7953\"], [0.7777777777777778, \"#fb9f3a\"], [0.8888888888888888, \"#fdca26\"], [1.0, \"#f0f921\"]], \"type\": \"surface\"}], \"table\": [{\"cells\": {\"fill\": {\"color\": \"#EBF0F8\"}, \"line\": {\"color\": \"white\"}}, \"header\": {\"fill\": {\"color\": \"#C8D4E3\"}, \"line\": {\"color\": \"white\"}}, \"type\": \"table\"}]}, \"layout\": {\"annotationdefaults\": {\"arrowcolor\": \"#2a3f5f\", \"arrowhead\": 0, \"arrowwidth\": 1}, \"coloraxis\": {\"colorbar\": {\"outlinewidth\": 0, \"ticks\": \"\"}}, \"colorscale\": {\"diverging\": [[0, \"#8e0152\"], [0.1, \"#c51b7d\"], [0.2, \"#de77ae\"], [0.3, \"#f1b6da\"], [0.4, \"#fde0ef\"], [0.5, \"#f7f7f7\"], [0.6, \"#e6f5d0\"], [0.7, \"#b8e186\"], [0.8, \"#7fbc41\"], [0.9, \"#4d9221\"], [1, \"#276419\"]], \"sequential\": [[0.0, \"#0d0887\"], [0.1111111111111111, \"#46039f\"], [0.2222222222222222, \"#7201a8\"], [0.3333333333333333, \"#9c179e\"], [0.4444444444444444, \"#bd3786\"], [0.5555555555555556, \"#d8576b\"], [0.6666666666666666, \"#ed7953\"], [0.7777777777777778, \"#fb9f3a\"], [0.8888888888888888, \"#fdca26\"], [1.0, \"#f0f921\"]], \"sequentialminus\": [[0.0, \"#0d0887\"], [0.1111111111111111, \"#46039f\"], [0.2222222222222222, \"#7201a8\"], [0.3333333333333333, \"#9c179e\"], [0.4444444444444444, \"#bd3786\"], [0.5555555555555556, \"#d8576b\"], [0.6666666666666666, \"#ed7953\"], [0.7777777777777778, \"#fb9f3a\"], [0.8888888888888888, \"#fdca26\"], [1.0, \"#f0f921\"]]}, \"colorway\": [\"#636efa\", \"#EF553B\", \"#00cc96\", \"#ab63fa\", \"#FFA15A\", \"#19d3f3\", \"#FF6692\", \"#B6E880\", \"#FF97FF\", \"#FECB52\"], \"font\": {\"color\": \"#2a3f5f\"}, \"geo\": {\"bgcolor\": \"white\", \"lakecolor\": \"white\", \"landcolor\": \"#E5ECF6\", \"showlakes\": true, \"showland\": true, \"subunitcolor\": \"white\"}, \"hoverlabel\": {\"align\": \"left\"}, \"hovermode\": \"closest\", \"mapbox\": {\"style\": \"light\"}, \"paper_bgcolor\": \"white\", \"plot_bgcolor\": \"#E5ECF6\", \"polar\": {\"angularaxis\": {\"gridcolor\": \"white\", \"linecolor\": \"white\", \"ticks\": \"\"}, \"bgcolor\": \"#E5ECF6\", \"radialaxis\": {\"gridcolor\": \"white\", \"linecolor\": \"white\", \"ticks\": \"\"}}, \"scene\": {\"xaxis\": {\"backgroundcolor\": \"#E5ECF6\", \"gridcolor\": \"white\", \"gridwidth\": 2, \"linecolor\": \"white\", \"showbackground\": true, \"ticks\": \"\", \"zerolinecolor\": \"white\"}, \"yaxis\": {\"backgroundcolor\": \"#E5ECF6\", \"gridcolor\": \"white\", \"gridwidth\": 2, \"linecolor\": \"white\", \"showbackground\": true, \"ticks\": \"\", \"zerolinecolor\": \"white\"}, \"zaxis\": {\"backgroundcolor\": \"#E5ECF6\", \"gridcolor\": \"white\", \"gridwidth\": 2, \"linecolor\": \"white\", \"showbackground\": true, \"ticks\": \"\", \"zerolinecolor\": \"white\"}}, \"shapedefaults\": {\"line\": {\"color\": \"#2a3f5f\"}}, \"ternary\": {\"aaxis\": {\"gridcolor\": \"white\", \"linecolor\": \"white\", \"ticks\": \"\"}, \"baxis\": {\"gridcolor\": \"white\", \"linecolor\": \"white\", \"ticks\": \"\"}, \"bgcolor\": \"#E5ECF6\", \"caxis\": {\"gridcolor\": \"white\", \"linecolor\": \"white\", \"ticks\": \"\"}}, \"title\": {\"x\": 0.05}, \"xaxis\": {\"automargin\": true, \"gridcolor\": \"white\", \"linecolor\": \"white\", \"ticks\": \"\", \"title\": {\"standoff\": 15}, \"zerolinecolor\": \"white\", \"zerolinewidth\": 2}, \"yaxis\": {\"automargin\": true, \"gridcolor\": \"white\", \"linecolor\": \"white\", \"ticks\": \"\", \"title\": {\"standoff\": 15}, \"zerolinecolor\": \"white\", \"zerolinewidth\": 2}}}, \"title\": {\"text\": \"Heart Failure Clinical Records\"}, \"width\": 1350},\n",
              "                        {\"responsive\": true}\n",
              "                    ).then(function(){\n",
              "                            \n",
              "var gd = document.getElementById('82b2cc96-0505-4941-b75f-89b86aba0379');\n",
              "var x = new MutationObserver(function (mutations, observer) {{\n",
              "        var display = window.getComputedStyle(gd).display;\n",
              "        if (!display || display === 'none') {{\n",
              "            console.log([gd, 'removed!']);\n",
              "            Plotly.purge(gd);\n",
              "            observer.disconnect();\n",
              "        }}\n",
              "}});\n",
              "\n",
              "// Listen for the removal of the full notebook cells\n",
              "var notebookContainer = gd.closest('#notebook-container');\n",
              "if (notebookContainer) {{\n",
              "    x.observe(notebookContainer, {childList: true});\n",
              "}}\n",
              "\n",
              "// Listen for the clearing of the current output cell\n",
              "var outputEl = gd.closest('.output');\n",
              "if (outputEl) {{\n",
              "    x.observe(outputEl, {childList: true});\n",
              "}}\n",
              "\n",
              "                        })\n",
              "                };\n",
              "                \n",
              "            </script>\n",
              "        </div>\n",
              "</body>\n",
              "</html>"
            ]
          },
          "metadata": {
            "tags": []
          }
        }
      ]
    },
    {
      "cell_type": "code",
      "metadata": {
        "colab": {
          "base_uri": "https://localhost:8080/",
          "height": 1000
        },
        "id": "rL-2LSRRNiya",
        "outputId": "05fff794-dd16-419b-8940-ce02d76ca6ab"
      },
      "source": [
        "fig = px.scatter_matrix(\n",
        "    df.loc[(df['smoking'] == 1) & (df['DEATH_EVENT'] == 1)],\n",
        "    dimensions=['age', 'creatinine_phosphokinase', 'ejection_fraction', 'platelets', 'serum_creatinine', 'serum_sodium'],\n",
        "    color=df.loc[(df['smoking'] == 1) & (df['DEATH_EVENT'] == 1)]['high_blood_pressure'].astype(str),\n",
        "    labels = {'color': 'High Blood Pressure', 'smoking': 'Smoking'}\n",
        ")\n",
        "fig.update_traces(diagonal_visible=False)\n",
        "fig.update_layout(\n",
        "    title='Heart Failure Clinical Records',\n",
        "    width=1350,\n",
        "    height=1350,\n",
        ")\n",
        "fig.show()"
      ],
      "execution_count": null,
      "outputs": [
        {
          "output_type": "display_data",
          "data": {
            "text/html": [
              "<html>\n",
              "<head><meta charset=\"utf-8\" /></head>\n",
              "<body>\n",
              "    <div>\n",
              "            <script src=\"https://cdnjs.cloudflare.com/ajax/libs/mathjax/2.7.5/MathJax.js?config=TeX-AMS-MML_SVG\"></script><script type=\"text/javascript\">if (window.MathJax) {MathJax.Hub.Config({SVG: {font: \"STIX-Web\"}});}</script>\n",
              "                <script type=\"text/javascript\">window.PlotlyConfig = {MathJaxConfig: 'local'};</script>\n",
              "        <script src=\"https://cdn.plot.ly/plotly-latest.min.js\"></script>    \n",
              "            <div id=\"d1d30b84-fbfd-45e5-ad7b-6e21f14d26a8\" class=\"plotly-graph-div\" style=\"height:1350px; width:1350px;\"></div>\n",
              "            <script type=\"text/javascript\">\n",
              "                \n",
              "                    window.PLOTLYENV=window.PLOTLYENV || {};\n",
              "                    \n",
              "                if (document.getElementById(\"d1d30b84-fbfd-45e5-ad7b-6e21f14d26a8\")) {\n",
              "                    Plotly.newPlot(\n",
              "                        'd1d30b84-fbfd-45e5-ad7b-6e21f14d26a8',\n",
              "                        [{\"diagonal\": {\"visible\": false}, \"dimensions\": [{\"axis\": {\"matches\": true}, \"label\": \"age\", \"values\": [65.0, 60.0, 80.0, 82.0, 50.0, 60.0, 60.0, 72.0, 85.0, 69.0, 60.0, 85.0, 59.0, 65.0, 58.0, 55.0]}, {\"axis\": {\"matches\": true}, \"label\": \"creatinine_phosphokinase\", \"values\": [146, 315, 148, 70, 582, 260, 68, 110, 5882, 582, 47, 129, 176, 395, 145, 1199]}, {\"axis\": {\"matches\": true}, \"label\": \"ejection_fraction\", \"values\": [20, 60, 38, 30, 38, 38, 20, 25, 35, 20, 20, 60, 25, 25, 25, 20]}, {\"axis\": {\"matches\": true}, \"label\": \"platelets\", \"values\": [162000.0, 454000.0, 149000.0, 200000.0, 310000.0, 255000.0, 119000.0, 274000.0, 243000.0, 266000.0, 204000.0, 306000.0, 221000.0, 265000.0, 219000.0, 263358.03]}, {\"axis\": {\"matches\": true}, \"label\": \"serum_creatinine\", \"values\": [1.3, 1.1, 1.9, 1.2, 1.9, 2.2, 2.9, 1.0, 1.0, 1.2, 0.7, 1.2, 1.0, 1.2, 1.2, 1.83]}, {\"axis\": {\"matches\": true}, \"label\": \"serum_sodium\", \"values\": [129, 131, 144, 132, 135, 132, 127, 140, 132, 134, 139, 132, 136, 136, 137, 134]}], \"hoverlabel\": {\"namelength\": 0}, \"hovertemplate\": \"High Blood Pressure=0<br>%{xaxis.title.text}=%{x}<br>%{yaxis.title.text}=%{y}\", \"legendgroup\": \"High Blood Pressure=0\", \"marker\": {\"color\": \"#636efa\", \"symbol\": \"circle\"}, \"name\": \"High Blood Pressure=0\", \"showlegend\": true, \"type\": \"splom\"}, {\"diagonal\": {\"visible\": false}, \"dimensions\": [{\"axis\": {\"matches\": true}, \"label\": \"age\", \"values\": [90.0, 80.0, 75.0, 62.0, 68.0, 70.0, 70.0, 50.0, 70.0, 60.0, 49.0, 72.0, 72.0, 72.0]}, {\"axis\": {\"matches\": true}, \"label\": \"creatinine_phosphokinase\", \"values\": [47, 123, 81, 231, 220, 122, 582, 124, 571, 582, 789, 364, 328, 943]}, {\"axis\": {\"matches\": true}, \"label\": \"ejection_fraction\", \"values\": [40, 35, 38, 25, 35, 45, 20, 30, 45, 38, 20, 20, 30, 25]}, {\"axis\": {\"matches\": true}, \"label\": \"platelets\", \"values\": [204000.0, 388000.0, 368000.0, 253000.0, 289000.0, 284000.0, 263358.03, 153000.0, 185000.0, 451000.0, 319000.0, 254000.0, 621000.0, 338000.0]}, {\"axis\": {\"matches\": true}, \"label\": \"serum_creatinine\", \"values\": [2.1, 9.4, 4.0, 0.9, 0.9, 1.3, 1.83, 1.2, 1.2, 0.6, 1.1, 1.3, 1.7, 1.7]}, {\"axis\": {\"matches\": true}, \"label\": \"serum_sodium\", \"values\": [132, 133, 131, 140, 140, 136, 134, 136, 139, 138, 136, 136, 138, 139]}], \"hoverlabel\": {\"namelength\": 0}, \"hovertemplate\": \"High Blood Pressure=1<br>%{xaxis.title.text}=%{x}<br>%{yaxis.title.text}=%{y}\", \"legendgroup\": \"High Blood Pressure=1\", \"marker\": {\"color\": \"#EF553B\", \"symbol\": \"circle\"}, \"name\": \"High Blood Pressure=1\", \"showlegend\": true, \"type\": \"splom\"}],\n",
              "                        {\"dragmode\": \"select\", \"height\": 1350, \"legend\": {\"tracegroupgap\": 0}, \"margin\": {\"t\": 60}, \"template\": {\"data\": {\"bar\": [{\"error_x\": {\"color\": \"#2a3f5f\"}, \"error_y\": {\"color\": \"#2a3f5f\"}, \"marker\": {\"line\": {\"color\": \"#E5ECF6\", \"width\": 0.5}}, \"type\": \"bar\"}], \"barpolar\": [{\"marker\": {\"line\": {\"color\": \"#E5ECF6\", \"width\": 0.5}}, \"type\": \"barpolar\"}], \"carpet\": [{\"aaxis\": {\"endlinecolor\": \"#2a3f5f\", \"gridcolor\": \"white\", \"linecolor\": \"white\", \"minorgridcolor\": \"white\", \"startlinecolor\": \"#2a3f5f\"}, \"baxis\": {\"endlinecolor\": \"#2a3f5f\", \"gridcolor\": \"white\", \"linecolor\": \"white\", \"minorgridcolor\": \"white\", \"startlinecolor\": \"#2a3f5f\"}, \"type\": \"carpet\"}], \"choropleth\": [{\"colorbar\": {\"outlinewidth\": 0, \"ticks\": \"\"}, \"type\": \"choropleth\"}], \"contour\": [{\"colorbar\": {\"outlinewidth\": 0, \"ticks\": \"\"}, \"colorscale\": [[0.0, \"#0d0887\"], [0.1111111111111111, \"#46039f\"], [0.2222222222222222, \"#7201a8\"], [0.3333333333333333, \"#9c179e\"], [0.4444444444444444, \"#bd3786\"], [0.5555555555555556, \"#d8576b\"], [0.6666666666666666, \"#ed7953\"], [0.7777777777777778, \"#fb9f3a\"], [0.8888888888888888, \"#fdca26\"], [1.0, \"#f0f921\"]], \"type\": \"contour\"}], \"contourcarpet\": [{\"colorbar\": {\"outlinewidth\": 0, \"ticks\": \"\"}, \"type\": \"contourcarpet\"}], \"heatmap\": [{\"colorbar\": {\"outlinewidth\": 0, \"ticks\": \"\"}, \"colorscale\": [[0.0, \"#0d0887\"], [0.1111111111111111, \"#46039f\"], [0.2222222222222222, \"#7201a8\"], [0.3333333333333333, \"#9c179e\"], [0.4444444444444444, \"#bd3786\"], [0.5555555555555556, \"#d8576b\"], [0.6666666666666666, \"#ed7953\"], [0.7777777777777778, \"#fb9f3a\"], [0.8888888888888888, \"#fdca26\"], [1.0, \"#f0f921\"]], \"type\": \"heatmap\"}], \"heatmapgl\": [{\"colorbar\": {\"outlinewidth\": 0, \"ticks\": \"\"}, \"colorscale\": [[0.0, \"#0d0887\"], [0.1111111111111111, \"#46039f\"], [0.2222222222222222, \"#7201a8\"], [0.3333333333333333, \"#9c179e\"], [0.4444444444444444, \"#bd3786\"], [0.5555555555555556, \"#d8576b\"], [0.6666666666666666, \"#ed7953\"], [0.7777777777777778, \"#fb9f3a\"], [0.8888888888888888, \"#fdca26\"], [1.0, \"#f0f921\"]], \"type\": \"heatmapgl\"}], \"histogram\": [{\"marker\": {\"colorbar\": {\"outlinewidth\": 0, \"ticks\": \"\"}}, \"type\": \"histogram\"}], \"histogram2d\": [{\"colorbar\": {\"outlinewidth\": 0, \"ticks\": \"\"}, \"colorscale\": [[0.0, \"#0d0887\"], [0.1111111111111111, \"#46039f\"], [0.2222222222222222, \"#7201a8\"], [0.3333333333333333, \"#9c179e\"], [0.4444444444444444, \"#bd3786\"], [0.5555555555555556, \"#d8576b\"], [0.6666666666666666, \"#ed7953\"], [0.7777777777777778, \"#fb9f3a\"], [0.8888888888888888, \"#fdca26\"], [1.0, \"#f0f921\"]], \"type\": \"histogram2d\"}], \"histogram2dcontour\": [{\"colorbar\": {\"outlinewidth\": 0, \"ticks\": \"\"}, \"colorscale\": [[0.0, \"#0d0887\"], [0.1111111111111111, \"#46039f\"], [0.2222222222222222, \"#7201a8\"], [0.3333333333333333, \"#9c179e\"], [0.4444444444444444, \"#bd3786\"], [0.5555555555555556, \"#d8576b\"], [0.6666666666666666, \"#ed7953\"], [0.7777777777777778, \"#fb9f3a\"], [0.8888888888888888, \"#fdca26\"], [1.0, \"#f0f921\"]], \"type\": \"histogram2dcontour\"}], \"mesh3d\": [{\"colorbar\": {\"outlinewidth\": 0, \"ticks\": \"\"}, \"type\": \"mesh3d\"}], \"parcoords\": [{\"line\": {\"colorbar\": {\"outlinewidth\": 0, \"ticks\": \"\"}}, \"type\": \"parcoords\"}], \"pie\": [{\"automargin\": true, \"type\": \"pie\"}], \"scatter\": [{\"marker\": {\"colorbar\": {\"outlinewidth\": 0, \"ticks\": \"\"}}, \"type\": \"scatter\"}], \"scatter3d\": [{\"line\": {\"colorbar\": {\"outlinewidth\": 0, \"ticks\": \"\"}}, \"marker\": {\"colorbar\": {\"outlinewidth\": 0, \"ticks\": \"\"}}, \"type\": \"scatter3d\"}], \"scattercarpet\": [{\"marker\": {\"colorbar\": {\"outlinewidth\": 0, \"ticks\": \"\"}}, \"type\": \"scattercarpet\"}], \"scattergeo\": [{\"marker\": {\"colorbar\": {\"outlinewidth\": 0, \"ticks\": \"\"}}, \"type\": \"scattergeo\"}], \"scattergl\": [{\"marker\": {\"colorbar\": {\"outlinewidth\": 0, \"ticks\": \"\"}}, \"type\": \"scattergl\"}], \"scattermapbox\": [{\"marker\": {\"colorbar\": {\"outlinewidth\": 0, \"ticks\": \"\"}}, \"type\": \"scattermapbox\"}], \"scatterpolar\": [{\"marker\": {\"colorbar\": {\"outlinewidth\": 0, \"ticks\": \"\"}}, \"type\": \"scatterpolar\"}], \"scatterpolargl\": [{\"marker\": {\"colorbar\": {\"outlinewidth\": 0, \"ticks\": \"\"}}, \"type\": \"scatterpolargl\"}], \"scatterternary\": [{\"marker\": {\"colorbar\": {\"outlinewidth\": 0, \"ticks\": \"\"}}, \"type\": \"scatterternary\"}], \"surface\": [{\"colorbar\": {\"outlinewidth\": 0, \"ticks\": \"\"}, \"colorscale\": [[0.0, \"#0d0887\"], [0.1111111111111111, \"#46039f\"], [0.2222222222222222, \"#7201a8\"], [0.3333333333333333, \"#9c179e\"], [0.4444444444444444, \"#bd3786\"], [0.5555555555555556, \"#d8576b\"], [0.6666666666666666, \"#ed7953\"], [0.7777777777777778, \"#fb9f3a\"], [0.8888888888888888, \"#fdca26\"], [1.0, \"#f0f921\"]], \"type\": \"surface\"}], \"table\": [{\"cells\": {\"fill\": {\"color\": \"#EBF0F8\"}, \"line\": {\"color\": \"white\"}}, \"header\": {\"fill\": {\"color\": \"#C8D4E3\"}, \"line\": {\"color\": \"white\"}}, \"type\": \"table\"}]}, \"layout\": {\"annotationdefaults\": {\"arrowcolor\": \"#2a3f5f\", \"arrowhead\": 0, \"arrowwidth\": 1}, \"coloraxis\": {\"colorbar\": {\"outlinewidth\": 0, \"ticks\": \"\"}}, \"colorscale\": {\"diverging\": [[0, \"#8e0152\"], [0.1, \"#c51b7d\"], [0.2, \"#de77ae\"], [0.3, \"#f1b6da\"], [0.4, \"#fde0ef\"], [0.5, \"#f7f7f7\"], [0.6, \"#e6f5d0\"], [0.7, \"#b8e186\"], [0.8, \"#7fbc41\"], [0.9, \"#4d9221\"], [1, \"#276419\"]], \"sequential\": [[0.0, \"#0d0887\"], [0.1111111111111111, \"#46039f\"], [0.2222222222222222, \"#7201a8\"], [0.3333333333333333, \"#9c179e\"], [0.4444444444444444, \"#bd3786\"], [0.5555555555555556, \"#d8576b\"], [0.6666666666666666, \"#ed7953\"], [0.7777777777777778, \"#fb9f3a\"], [0.8888888888888888, \"#fdca26\"], [1.0, \"#f0f921\"]], \"sequentialminus\": [[0.0, \"#0d0887\"], [0.1111111111111111, \"#46039f\"], [0.2222222222222222, \"#7201a8\"], [0.3333333333333333, \"#9c179e\"], [0.4444444444444444, \"#bd3786\"], [0.5555555555555556, \"#d8576b\"], [0.6666666666666666, \"#ed7953\"], [0.7777777777777778, \"#fb9f3a\"], [0.8888888888888888, \"#fdca26\"], [1.0, \"#f0f921\"]]}, \"colorway\": [\"#636efa\", \"#EF553B\", \"#00cc96\", \"#ab63fa\", \"#FFA15A\", \"#19d3f3\", \"#FF6692\", \"#B6E880\", \"#FF97FF\", \"#FECB52\"], \"font\": {\"color\": \"#2a3f5f\"}, \"geo\": {\"bgcolor\": \"white\", \"lakecolor\": \"white\", \"landcolor\": \"#E5ECF6\", \"showlakes\": true, \"showland\": true, \"subunitcolor\": \"white\"}, \"hoverlabel\": {\"align\": \"left\"}, \"hovermode\": \"closest\", \"mapbox\": {\"style\": \"light\"}, \"paper_bgcolor\": \"white\", \"plot_bgcolor\": \"#E5ECF6\", \"polar\": {\"angularaxis\": {\"gridcolor\": \"white\", \"linecolor\": \"white\", \"ticks\": \"\"}, \"bgcolor\": \"#E5ECF6\", \"radialaxis\": {\"gridcolor\": \"white\", \"linecolor\": \"white\", \"ticks\": \"\"}}, \"scene\": {\"xaxis\": {\"backgroundcolor\": \"#E5ECF6\", \"gridcolor\": \"white\", \"gridwidth\": 2, \"linecolor\": \"white\", \"showbackground\": true, \"ticks\": \"\", \"zerolinecolor\": \"white\"}, \"yaxis\": {\"backgroundcolor\": \"#E5ECF6\", \"gridcolor\": \"white\", \"gridwidth\": 2, \"linecolor\": \"white\", \"showbackground\": true, \"ticks\": \"\", \"zerolinecolor\": \"white\"}, \"zaxis\": {\"backgroundcolor\": \"#E5ECF6\", \"gridcolor\": \"white\", \"gridwidth\": 2, \"linecolor\": \"white\", \"showbackground\": true, \"ticks\": \"\", \"zerolinecolor\": \"white\"}}, \"shapedefaults\": {\"line\": {\"color\": \"#2a3f5f\"}}, \"ternary\": {\"aaxis\": {\"gridcolor\": \"white\", \"linecolor\": \"white\", \"ticks\": \"\"}, \"baxis\": {\"gridcolor\": \"white\", \"linecolor\": \"white\", \"ticks\": \"\"}, \"bgcolor\": \"#E5ECF6\", \"caxis\": {\"gridcolor\": \"white\", \"linecolor\": \"white\", \"ticks\": \"\"}}, \"title\": {\"x\": 0.05}, \"xaxis\": {\"automargin\": true, \"gridcolor\": \"white\", \"linecolor\": \"white\", \"ticks\": \"\", \"title\": {\"standoff\": 15}, \"zerolinecolor\": \"white\", \"zerolinewidth\": 2}, \"yaxis\": {\"automargin\": true, \"gridcolor\": \"white\", \"linecolor\": \"white\", \"ticks\": \"\", \"title\": {\"standoff\": 15}, \"zerolinecolor\": \"white\", \"zerolinewidth\": 2}}}, \"title\": {\"text\": \"Heart Failure Clinical Records\"}, \"width\": 1350},\n",
              "                        {\"responsive\": true}\n",
              "                    ).then(function(){\n",
              "                            \n",
              "var gd = document.getElementById('d1d30b84-fbfd-45e5-ad7b-6e21f14d26a8');\n",
              "var x = new MutationObserver(function (mutations, observer) {{\n",
              "        var display = window.getComputedStyle(gd).display;\n",
              "        if (!display || display === 'none') {{\n",
              "            console.log([gd, 'removed!']);\n",
              "            Plotly.purge(gd);\n",
              "            observer.disconnect();\n",
              "        }}\n",
              "}});\n",
              "\n",
              "// Listen for the removal of the full notebook cells\n",
              "var notebookContainer = gd.closest('#notebook-container');\n",
              "if (notebookContainer) {{\n",
              "    x.observe(notebookContainer, {childList: true});\n",
              "}}\n",
              "\n",
              "// Listen for the clearing of the current output cell\n",
              "var outputEl = gd.closest('.output');\n",
              "if (outputEl) {{\n",
              "    x.observe(outputEl, {childList: true});\n",
              "}}\n",
              "\n",
              "                        })\n",
              "                };\n",
              "                \n",
              "            </script>\n",
              "        </div>\n",
              "</body>\n",
              "</html>"
            ]
          },
          "metadata": {
            "tags": []
          }
        }
      ]
    },
    {
      "cell_type": "code",
      "metadata": {
        "colab": {
          "base_uri": "https://localhost:8080/",
          "height": 1000
        },
        "id": "P4DU1XIQS2mr",
        "outputId": "6fb84052-5411-400d-81ff-96d158934d6c"
      },
      "source": [
        "# Symbol for death event and color for age\n",
        "fig = px.scatter_matrix(\n",
        "    df.loc[df['DEATH_EVENT'] == '1'],\n",
        "    dimensions=['creatinine_phosphokinase', 'ejection_fraction', 'platelets', 'serum_creatinine', 'serum_sodium'],\n",
        "    color='age',\n",
        "    symbol=df.loc[df['DEATH_EVENT'] == '1']['high_blood_pressure'].astype(str),\n",
        "    color_continuous_scale='Sunsetdark'\n",
        ")\n",
        "fig.update_traces(diagonal_visible=False)\n",
        "fig.update_layout(\n",
        "    title='Heart Failure Clinical Records',\n",
        "    width=1350,\n",
        "    height=1350,\n",
        ")\n",
        "fig.show()"
      ],
      "execution_count": null,
      "outputs": [
        {
          "output_type": "display_data",
          "data": {
            "text/html": [
              "<html>\n",
              "<head><meta charset=\"utf-8\" /></head>\n",
              "<body>\n",
              "    <div>\n",
              "            <script src=\"https://cdnjs.cloudflare.com/ajax/libs/mathjax/2.7.5/MathJax.js?config=TeX-AMS-MML_SVG\"></script><script type=\"text/javascript\">if (window.MathJax) {MathJax.Hub.Config({SVG: {font: \"STIX-Web\"}});}</script>\n",
              "                <script type=\"text/javascript\">window.PlotlyConfig = {MathJaxConfig: 'local'};</script>\n",
              "        <script src=\"https://cdn.plot.ly/plotly-latest.min.js\"></script>    \n",
              "            <div id=\"28b79295-035d-4074-bf5d-7c37cb9d880f\" class=\"plotly-graph-div\" style=\"height:1350px; width:1350px;\"></div>\n",
              "            <script type=\"text/javascript\">\n",
              "                \n",
              "                    window.PLOTLYENV=window.PLOTLYENV || {};\n",
              "                    \n",
              "                if (document.getElementById(\"28b79295-035d-4074-bf5d-7c37cb9d880f\")) {\n",
              "                    Plotly.newPlot(\n",
              "                        '28b79295-035d-4074-bf5d-7c37cb9d880f',\n",
              "                        [{\"diagonal\": {\"visible\": false}, \"dimensions\": [{\"axis\": {\"matches\": true}, \"label\": \"creatinine_phosphokinase\", \"values\": [582, 47, 123, 81, 231, 168, 125, 128, 220, 582, 112, 122, 582, 249, 94, 855, 582, 124, 571, 1380, 582, 553, 577, 91, 69, 789, 364, 7702, 318, 280, 328, 168, 943, 233, 776, 99, 582, 131, 427]}, {\"axis\": {\"matches\": true}, \"label\": \"ejection_fraction\", \"values\": [20, 40, 35, 38, 25, 38, 25, 30, 35, 30, 40, 45, 38, 35, 50, 50, 20, 30, 45, 25, 38, 20, 25, 20, 50, 20, 20, 25, 40, 25, 30, 17, 25, 45, 38, 38, 20, 30, 70]}, {\"axis\": {\"matches\": true}, \"label\": \"platelets\", \"values\": [265000.0, 204000.0, 388000.0, 368000.0, 253000.0, 276000.0, 237000.0, 297000.0, 289000.0, 263358.03, 196000.0, 284000.0, 263358.03, 319000.0, 188000.0, 321000.0, 263358.03, 153000.0, 185000.0, 271000.0, 451000.0, 140000.0, 166000.0, 418000.0, 351000.0, 319000.0, 254000.0, 390000.0, 216000.0, 302000.0, 621000.0, 271000.0, 338000.0, 235000.0, 192000.0, 224000.0, 126000.0, 244000.0, 151000.0]}, {\"axis\": {\"matches\": true}, \"label\": \"serum_creatinine\", \"values\": [1.9, 2.1, 9.4, 4.0, 0.9, 1.1, 1.0, 1.6, 0.9, 1.83, 1.0, 1.3, 1.83, 1.0, 1.0, 1.0, 1.83, 1.2, 1.2, 0.9, 0.6, 4.4, 1.0, 1.4, 1.0, 1.1, 1.3, 1.0, 2.3, 1.0, 1.7, 2.1, 1.7, 2.5, 1.3, 2.5, 1.6, 1.6, 9.0]}, {\"axis\": {\"matches\": true}, \"label\": \"serum_sodium\", \"values\": [130, 132, 133, 131, 140, 137, 140, 136, 140, 134, 138, 136, 134, 128, 140, 145, 134, 136, 139, 130, 138, 133, 138, 139, 134, 136, 136, 139, 131, 141, 138, 124, 139, 135, 135, 134, 135, 130, 137]}], \"hoverlabel\": {\"namelength\": 0}, \"hovertemplate\": \"high_blood_pressure=1<br>%{xaxis.title.text}=%{x}<br>%{yaxis.title.text}=%{y}<br>age=%{marker.color}\", \"legendgroup\": \"high_blood_pressure=1\", \"marker\": {\"color\": [75.0, 90.0, 80.0, 75.0, 62.0, 50.0, 70.0, 65.0, 68.0, 75.0, 95.0, 70.0, 94.0, 50.0, 65.0, 82.0, 70.0, 50.0, 70.0, 51.0, 60.0, 80.0, 68.0, 53.0, 70.0, 49.0, 72.0, 45.0, 50.0, 59.0, 72.0, 46.0, 72.0, 72.0, 80.0, 75.0, 45.0, 48.0, 54.0], \"coloraxis\": \"coloraxis\", \"symbol\": \"circle\"}, \"name\": \"high_blood_pressure=1\", \"showlegend\": true, \"type\": \"splom\"}, {\"diagonal\": {\"visible\": false}, \"dimensions\": [{\"axis\": {\"matches\": true}, \"label\": \"creatinine_phosphokinase\", \"values\": [7861, 146, 111, 160, 246, 315, 157, 981, 379, 149, 582, 582, 148, 60, 70, 23, 582, 60, 235, 588, 582, 129, 3964, 260, 371, 582, 68, 250, 110, 161, 113, 5882, 582, 47, 76, 154, 129, 143, 582, 582, 805, 582, 2334, 2442, 66, 176, 395, 145, 104, 582, 1896, 418, 582, 166, 2017, 258, 1199]}, {\"axis\": {\"matches\": true}, \"label\": \"ejection_fraction\", \"values\": [38, 20, 20, 20, 15, 60, 65, 30, 50, 38, 14, 55, 38, 38, 30, 45, 35, 50, 38, 60, 38, 30, 62, 38, 30, 35, 20, 15, 25, 25, 25, 35, 20, 20, 25, 25, 60, 60, 38, 40, 38, 30, 35, 30, 20, 25, 25, 25, 30, 50, 25, 45, 20, 30, 25, 25, 20]}, {\"axis\": {\"matches\": true}, \"label\": \"platelets\", \"values\": [263358.03, 162000.0, 210000.0, 327000.0, 127000.0, 454000.0, 263358.03, 136000.0, 47000.0, 262000.0, 166000.0, 87000.0, 149000.0, 153000.0, 200000.0, 360000.0, 228000.0, 226000.0, 329000.0, 194000.0, 310000.0, 395000.0, 263358.03, 255000.0, 461000.0, 385000.0, 119000.0, 213000.0, 274000.0, 244000.0, 497000.0, 243000.0, 266000.0, 204000.0, 196000.0, 210000.0, 306000.0, 351000.0, 263358.03, 217000.0, 263358.03, 225000.0, 75000.0, 334000.0, 70000.0, 221000.0, 265000.0, 219000.0, 389000.0, 153000.0, 365000.0, 223000.0, 263358.03, 62000.0, 314000.0, 198000.0, 263358.03]}, {\"axis\": {\"matches\": true}, \"label\": \"serum_creatinine\", \"values\": [1.1, 1.3, 1.9, 2.7, 1.2, 1.1, 1.5, 1.1, 1.3, 0.9, 0.8, 1.9, 1.9, 5.8, 1.2, 3.0, 3.5, 1.0, 3.0, 1.1, 1.9, 1.0, 6.8, 2.2, 2.0, 1.0, 2.9, 1.3, 1.0, 1.2, 1.83, 1.0, 1.2, 0.7, 2.5, 1.7, 1.2, 1.3, 1.83, 3.7, 1.1, 1.83, 0.9, 1.1, 2.4, 1.0, 1.2, 1.2, 1.5, 0.6, 2.1, 1.8, 1.83, 1.7, 1.1, 1.4, 1.83]}, {\"axis\": {\"matches\": true}, \"label\": \"serum_sodium\", \"values\": [136, 129, 137, 116, 137, 131, 138, 137, 136, 140, 127, 121, 144, 134, 132, 132, 134, 134, 142, 142, 135, 140, 146, 132, 132, 145, 127, 136, 140, 142, 135, 132, 134, 139, 132, 135, 132, 137, 134, 134, 134, 134, 142, 139, 134, 136, 136, 137, 136, 134, 144, 145, 134, 127, 138, 129, 134]}], \"hoverlabel\": {\"namelength\": 0}, \"hovertemplate\": \"high_blood_pressure=0<br>%{xaxis.title.text}=%{x}<br>%{yaxis.title.text}=%{y}<br>age=%{marker.color}\", \"legendgroup\": \"high_blood_pressure=0\", \"marker\": {\"color\": [55.0, 65.0, 50.0, 65.0, 75.0, 60.0, 65.0, 45.0, 82.0, 87.0, 45.0, 48.0, 80.0, 58.0, 82.0, 85.0, 69.0, 90.0, 60.0, 60.0, 50.0, 57.0, 60.0, 60.0, 95.0, 45.0, 60.0, 42.0, 72.0, 70.0, 65.0, 85.0, 69.0, 60.0, 60.0, 60.0, 85.0, 70.0, 86.0, 60.0, 80.0, 75.0, 50.0, 45.0, 59.0, 59.0, 65.0, 58.0, 60.667, 50.0, 60.0, 77.0, 73.0, 60.0, 55.0, 65.0, 55.0], \"coloraxis\": \"coloraxis\", \"symbol\": \"diamond\"}, \"name\": \"high_blood_pressure=0\", \"showlegend\": true, \"type\": \"splom\"}],\n",
              "                        {\"coloraxis\": {\"colorbar\": {\"title\": {\"text\": \"age\"}}, \"colorscale\": [[0.0, \"rgb(252, 222, 156)\"], [0.16666666666666666, \"rgb(250, 164, 118)\"], [0.3333333333333333, \"rgb(240, 116, 110)\"], [0.5, \"rgb(227, 79, 111)\"], [0.6666666666666666, \"rgb(220, 57, 119)\"], [0.8333333333333334, \"rgb(185, 37, 122)\"], [1.0, \"rgb(124, 29, 111)\"]]}, \"dragmode\": \"select\", \"height\": 1350, \"legend\": {\"tracegroupgap\": 0}, \"margin\": {\"t\": 60}, \"template\": {\"data\": {\"bar\": [{\"error_x\": {\"color\": \"#2a3f5f\"}, \"error_y\": {\"color\": \"#2a3f5f\"}, \"marker\": {\"line\": {\"color\": \"#E5ECF6\", \"width\": 0.5}}, \"type\": \"bar\"}], \"barpolar\": [{\"marker\": {\"line\": {\"color\": \"#E5ECF6\", \"width\": 0.5}}, \"type\": \"barpolar\"}], \"carpet\": [{\"aaxis\": {\"endlinecolor\": \"#2a3f5f\", \"gridcolor\": \"white\", \"linecolor\": \"white\", \"minorgridcolor\": \"white\", \"startlinecolor\": \"#2a3f5f\"}, \"baxis\": {\"endlinecolor\": \"#2a3f5f\", \"gridcolor\": \"white\", \"linecolor\": \"white\", \"minorgridcolor\": \"white\", \"startlinecolor\": \"#2a3f5f\"}, \"type\": \"carpet\"}], \"choropleth\": [{\"colorbar\": {\"outlinewidth\": 0, \"ticks\": \"\"}, \"type\": \"choropleth\"}], \"contour\": [{\"colorbar\": {\"outlinewidth\": 0, \"ticks\": \"\"}, \"colorscale\": [[0.0, \"#0d0887\"], [0.1111111111111111, \"#46039f\"], [0.2222222222222222, \"#7201a8\"], [0.3333333333333333, \"#9c179e\"], [0.4444444444444444, \"#bd3786\"], [0.5555555555555556, \"#d8576b\"], [0.6666666666666666, \"#ed7953\"], [0.7777777777777778, \"#fb9f3a\"], [0.8888888888888888, \"#fdca26\"], [1.0, \"#f0f921\"]], \"type\": \"contour\"}], \"contourcarpet\": [{\"colorbar\": {\"outlinewidth\": 0, \"ticks\": \"\"}, \"type\": \"contourcarpet\"}], \"heatmap\": [{\"colorbar\": {\"outlinewidth\": 0, \"ticks\": \"\"}, \"colorscale\": [[0.0, \"#0d0887\"], [0.1111111111111111, \"#46039f\"], [0.2222222222222222, \"#7201a8\"], [0.3333333333333333, \"#9c179e\"], [0.4444444444444444, \"#bd3786\"], [0.5555555555555556, \"#d8576b\"], [0.6666666666666666, \"#ed7953\"], [0.7777777777777778, \"#fb9f3a\"], [0.8888888888888888, \"#fdca26\"], [1.0, \"#f0f921\"]], \"type\": \"heatmap\"}], \"heatmapgl\": [{\"colorbar\": {\"outlinewidth\": 0, \"ticks\": \"\"}, \"colorscale\": [[0.0, \"#0d0887\"], [0.1111111111111111, \"#46039f\"], [0.2222222222222222, \"#7201a8\"], [0.3333333333333333, \"#9c179e\"], [0.4444444444444444, \"#bd3786\"], [0.5555555555555556, \"#d8576b\"], [0.6666666666666666, \"#ed7953\"], [0.7777777777777778, \"#fb9f3a\"], [0.8888888888888888, \"#fdca26\"], [1.0, \"#f0f921\"]], \"type\": \"heatmapgl\"}], \"histogram\": [{\"marker\": {\"colorbar\": {\"outlinewidth\": 0, \"ticks\": \"\"}}, \"type\": \"histogram\"}], \"histogram2d\": [{\"colorbar\": {\"outlinewidth\": 0, \"ticks\": \"\"}, \"colorscale\": [[0.0, \"#0d0887\"], [0.1111111111111111, \"#46039f\"], [0.2222222222222222, \"#7201a8\"], [0.3333333333333333, \"#9c179e\"], [0.4444444444444444, \"#bd3786\"], [0.5555555555555556, \"#d8576b\"], [0.6666666666666666, \"#ed7953\"], [0.7777777777777778, \"#fb9f3a\"], [0.8888888888888888, \"#fdca26\"], [1.0, \"#f0f921\"]], \"type\": \"histogram2d\"}], \"histogram2dcontour\": [{\"colorbar\": {\"outlinewidth\": 0, \"ticks\": \"\"}, \"colorscale\": [[0.0, \"#0d0887\"], [0.1111111111111111, \"#46039f\"], [0.2222222222222222, \"#7201a8\"], [0.3333333333333333, \"#9c179e\"], [0.4444444444444444, \"#bd3786\"], [0.5555555555555556, \"#d8576b\"], [0.6666666666666666, \"#ed7953\"], [0.7777777777777778, \"#fb9f3a\"], [0.8888888888888888, \"#fdca26\"], [1.0, \"#f0f921\"]], \"type\": \"histogram2dcontour\"}], \"mesh3d\": [{\"colorbar\": {\"outlinewidth\": 0, \"ticks\": \"\"}, \"type\": \"mesh3d\"}], \"parcoords\": [{\"line\": {\"colorbar\": {\"outlinewidth\": 0, \"ticks\": \"\"}}, \"type\": \"parcoords\"}], \"pie\": [{\"automargin\": true, \"type\": \"pie\"}], \"scatter\": [{\"marker\": {\"colorbar\": {\"outlinewidth\": 0, \"ticks\": \"\"}}, \"type\": \"scatter\"}], \"scatter3d\": [{\"line\": {\"colorbar\": {\"outlinewidth\": 0, \"ticks\": \"\"}}, \"marker\": {\"colorbar\": {\"outlinewidth\": 0, \"ticks\": \"\"}}, \"type\": \"scatter3d\"}], \"scattercarpet\": [{\"marker\": {\"colorbar\": {\"outlinewidth\": 0, \"ticks\": \"\"}}, \"type\": \"scattercarpet\"}], \"scattergeo\": [{\"marker\": {\"colorbar\": {\"outlinewidth\": 0, \"ticks\": \"\"}}, \"type\": \"scattergeo\"}], \"scattergl\": [{\"marker\": {\"colorbar\": {\"outlinewidth\": 0, \"ticks\": \"\"}}, \"type\": \"scattergl\"}], \"scattermapbox\": [{\"marker\": {\"colorbar\": {\"outlinewidth\": 0, \"ticks\": \"\"}}, \"type\": \"scattermapbox\"}], \"scatterpolar\": [{\"marker\": {\"colorbar\": {\"outlinewidth\": 0, \"ticks\": \"\"}}, \"type\": \"scatterpolar\"}], \"scatterpolargl\": [{\"marker\": {\"colorbar\": {\"outlinewidth\": 0, \"ticks\": \"\"}}, \"type\": \"scatterpolargl\"}], \"scatterternary\": [{\"marker\": {\"colorbar\": {\"outlinewidth\": 0, \"ticks\": \"\"}}, \"type\": \"scatterternary\"}], \"surface\": [{\"colorbar\": {\"outlinewidth\": 0, \"ticks\": \"\"}, \"colorscale\": [[0.0, \"#0d0887\"], [0.1111111111111111, \"#46039f\"], [0.2222222222222222, \"#7201a8\"], [0.3333333333333333, \"#9c179e\"], [0.4444444444444444, \"#bd3786\"], [0.5555555555555556, \"#d8576b\"], [0.6666666666666666, \"#ed7953\"], [0.7777777777777778, \"#fb9f3a\"], [0.8888888888888888, \"#fdca26\"], [1.0, \"#f0f921\"]], \"type\": \"surface\"}], \"table\": [{\"cells\": {\"fill\": {\"color\": \"#EBF0F8\"}, \"line\": {\"color\": \"white\"}}, \"header\": {\"fill\": {\"color\": \"#C8D4E3\"}, \"line\": {\"color\": \"white\"}}, \"type\": \"table\"}]}, \"layout\": {\"annotationdefaults\": {\"arrowcolor\": \"#2a3f5f\", \"arrowhead\": 0, \"arrowwidth\": 1}, \"coloraxis\": {\"colorbar\": {\"outlinewidth\": 0, \"ticks\": \"\"}}, \"colorscale\": {\"diverging\": [[0, \"#8e0152\"], [0.1, \"#c51b7d\"], [0.2, \"#de77ae\"], [0.3, \"#f1b6da\"], [0.4, \"#fde0ef\"], [0.5, \"#f7f7f7\"], [0.6, \"#e6f5d0\"], [0.7, \"#b8e186\"], [0.8, \"#7fbc41\"], [0.9, \"#4d9221\"], [1, \"#276419\"]], \"sequential\": [[0.0, \"#0d0887\"], [0.1111111111111111, \"#46039f\"], [0.2222222222222222, \"#7201a8\"], [0.3333333333333333, \"#9c179e\"], [0.4444444444444444, \"#bd3786\"], [0.5555555555555556, \"#d8576b\"], [0.6666666666666666, \"#ed7953\"], [0.7777777777777778, \"#fb9f3a\"], [0.8888888888888888, \"#fdca26\"], [1.0, \"#f0f921\"]], \"sequentialminus\": [[0.0, \"#0d0887\"], [0.1111111111111111, \"#46039f\"], [0.2222222222222222, \"#7201a8\"], [0.3333333333333333, \"#9c179e\"], [0.4444444444444444, \"#bd3786\"], [0.5555555555555556, \"#d8576b\"], [0.6666666666666666, \"#ed7953\"], [0.7777777777777778, \"#fb9f3a\"], [0.8888888888888888, \"#fdca26\"], [1.0, \"#f0f921\"]]}, \"colorway\": [\"#636efa\", \"#EF553B\", \"#00cc96\", \"#ab63fa\", \"#FFA15A\", \"#19d3f3\", \"#FF6692\", \"#B6E880\", \"#FF97FF\", \"#FECB52\"], \"font\": {\"color\": \"#2a3f5f\"}, \"geo\": {\"bgcolor\": \"white\", \"lakecolor\": \"white\", \"landcolor\": \"#E5ECF6\", \"showlakes\": true, \"showland\": true, \"subunitcolor\": \"white\"}, \"hoverlabel\": {\"align\": \"left\"}, \"hovermode\": \"closest\", \"mapbox\": {\"style\": \"light\"}, \"paper_bgcolor\": \"white\", \"plot_bgcolor\": \"#E5ECF6\", \"polar\": {\"angularaxis\": {\"gridcolor\": \"white\", \"linecolor\": \"white\", \"ticks\": \"\"}, \"bgcolor\": \"#E5ECF6\", \"radialaxis\": {\"gridcolor\": \"white\", \"linecolor\": \"white\", \"ticks\": \"\"}}, \"scene\": {\"xaxis\": {\"backgroundcolor\": \"#E5ECF6\", \"gridcolor\": \"white\", \"gridwidth\": 2, \"linecolor\": \"white\", \"showbackground\": true, \"ticks\": \"\", \"zerolinecolor\": \"white\"}, \"yaxis\": {\"backgroundcolor\": \"#E5ECF6\", \"gridcolor\": \"white\", \"gridwidth\": 2, \"linecolor\": \"white\", \"showbackground\": true, \"ticks\": \"\", \"zerolinecolor\": \"white\"}, \"zaxis\": {\"backgroundcolor\": \"#E5ECF6\", \"gridcolor\": \"white\", \"gridwidth\": 2, \"linecolor\": \"white\", \"showbackground\": true, \"ticks\": \"\", \"zerolinecolor\": \"white\"}}, \"shapedefaults\": {\"line\": {\"color\": \"#2a3f5f\"}}, \"ternary\": {\"aaxis\": {\"gridcolor\": \"white\", \"linecolor\": \"white\", \"ticks\": \"\"}, \"baxis\": {\"gridcolor\": \"white\", \"linecolor\": \"white\", \"ticks\": \"\"}, \"bgcolor\": \"#E5ECF6\", \"caxis\": {\"gridcolor\": \"white\", \"linecolor\": \"white\", \"ticks\": \"\"}}, \"title\": {\"x\": 0.05}, \"xaxis\": {\"automargin\": true, \"gridcolor\": \"white\", \"linecolor\": \"white\", \"ticks\": \"\", \"title\": {\"standoff\": 15}, \"zerolinecolor\": \"white\", \"zerolinewidth\": 2}, \"yaxis\": {\"automargin\": true, \"gridcolor\": \"white\", \"linecolor\": \"white\", \"ticks\": \"\", \"title\": {\"standoff\": 15}, \"zerolinecolor\": \"white\", \"zerolinewidth\": 2}}}, \"title\": {\"text\": \"Heart Failure Clinical Records\"}, \"width\": 1350},\n",
              "                        {\"responsive\": true}\n",
              "                    ).then(function(){\n",
              "                            \n",
              "var gd = document.getElementById('28b79295-035d-4074-bf5d-7c37cb9d880f');\n",
              "var x = new MutationObserver(function (mutations, observer) {{\n",
              "        var display = window.getComputedStyle(gd).display;\n",
              "        if (!display || display === 'none') {{\n",
              "            console.log([gd, 'removed!']);\n",
              "            Plotly.purge(gd);\n",
              "            observer.disconnect();\n",
              "        }}\n",
              "}});\n",
              "\n",
              "// Listen for the removal of the full notebook cells\n",
              "var notebookContainer = gd.closest('#notebook-container');\n",
              "if (notebookContainer) {{\n",
              "    x.observe(notebookContainer, {childList: true});\n",
              "}}\n",
              "\n",
              "// Listen for the clearing of the current output cell\n",
              "var outputEl = gd.closest('.output');\n",
              "if (outputEl) {{\n",
              "    x.observe(outputEl, {childList: true});\n",
              "}}\n",
              "\n",
              "                        })\n",
              "                };\n",
              "                \n",
              "            </script>\n",
              "        </div>\n",
              "</body>\n",
              "</html>"
            ]
          },
          "metadata": {
            "tags": []
          }
        }
      ]
    },
    {
      "cell_type": "code",
      "metadata": {
        "colab": {
          "base_uri": "https://localhost:8080/",
          "height": 542
        },
        "id": "jA-1eMiWRAiT",
        "outputId": "6ce900f7-5149-4467-b7ad-b39d7c4407a6"
      },
      "source": [
        "import plotly.figure_factory as ff\n",
        "fig = ff.create_annotated_heatmap(\n",
        "    np.round(df.drop(columns=['DEATH_EVENT']).corr().to_numpy(), decimals=3), \n",
        "    x=['age', 'anaemia', 'creatinine_phosphokinase', 'diabetes', 'ejection_fraction', 'high_blood_pressure', 'platelets', 'serum_creatinine', 'serum_sodium', 'sex', 'smoking'],\n",
        "    y=['age', 'anaemia', 'creatinine_phosphokinase', 'diabetes', 'ejection_fraction', 'high_blood_pressure', 'platelets', 'serum_creatinine', 'serum_sodium', 'sex', 'smoking'],\n",
        "    colorscale='Blues'\n",
        ")\n",
        "fig.show()"
      ],
      "execution_count": null,
      "outputs": [
        {
          "output_type": "display_data",
          "data": {
            "text/html": [
              "<html>\n",
              "<head><meta charset=\"utf-8\" /></head>\n",
              "<body>\n",
              "    <div>\n",
              "            <script src=\"https://cdnjs.cloudflare.com/ajax/libs/mathjax/2.7.5/MathJax.js?config=TeX-AMS-MML_SVG\"></script><script type=\"text/javascript\">if (window.MathJax) {MathJax.Hub.Config({SVG: {font: \"STIX-Web\"}});}</script>\n",
              "                <script type=\"text/javascript\">window.PlotlyConfig = {MathJaxConfig: 'local'};</script>\n",
              "        <script src=\"https://cdn.plot.ly/plotly-latest.min.js\"></script>    \n",
              "            <div id=\"7339bc73-2d2b-481b-8c28-d726f0d64a5e\" class=\"plotly-graph-div\" style=\"height:525px; width:100%;\"></div>\n",
              "            <script type=\"text/javascript\">\n",
              "                \n",
              "                    window.PLOTLYENV=window.PLOTLYENV || {};\n",
              "                    \n",
              "                if (document.getElementById(\"7339bc73-2d2b-481b-8c28-d726f0d64a5e\")) {\n",
              "                    Plotly.newPlot(\n",
              "                        '7339bc73-2d2b-481b-8c28-d726f0d64a5e',\n",
              "                        [{\"colorscale\": [[0.0, \"rgb(247,251,255)\"], [0.125, \"rgb(222,235,247)\"], [0.25, \"rgb(198,219,239)\"], [0.375, \"rgb(158,202,225)\"], [0.5, \"rgb(107,174,214)\"], [0.625, \"rgb(66,146,198)\"], [0.75, \"rgb(33,113,181)\"], [0.875, \"rgb(8,81,156)\"], [1.0, \"rgb(8,48,107)\"]], \"reversescale\": false, \"showscale\": false, \"type\": \"heatmap\", \"x\": [\"age\", \"anaemia\", \"creatinine_phosphokinase\", \"diabetes\", \"ejection_fraction\", \"high_blood_pressure\", \"platelets\", \"serum_creatinine\", \"serum_sodium\", \"sex\", \"smoking\"], \"y\": [\"age\", \"anaemia\", \"creatinine_phosphokinase\", \"diabetes\", \"ejection_fraction\", \"high_blood_pressure\", \"platelets\", \"serum_creatinine\", \"serum_sodium\", \"sex\", \"smoking\"], \"z\": [[1.0, 0.088, -0.082, -0.101, 0.06, 0.093, -0.052, 0.159, -0.046, 0.065, 0.019], [0.088, 1.0, -0.191, -0.013, 0.032, 0.038, -0.044, 0.052, 0.042, -0.095, -0.107], [-0.082, -0.191, 1.0, -0.01, -0.044, -0.071, 0.024, -0.016, 0.06, 0.08, 0.002], [-0.101, -0.013, -0.01, 1.0, -0.005, -0.013, 0.092, -0.047, -0.09, -0.158, -0.147], [0.06, 0.032, -0.044, -0.005, 1.0, 0.024, 0.072, -0.011, 0.176, -0.148, -0.067], [0.093, 0.038, -0.071, -0.013, 0.024, 1.0, 0.05, -0.005, 0.037, -0.105, -0.056], [-0.052, -0.044, 0.024, 0.092, 0.072, 0.05, 1.0, -0.041, 0.062, -0.125, 0.028], [0.159, 0.052, -0.016, -0.047, -0.011, -0.005, -0.041, 1.0, -0.189, 0.007, -0.027], [-0.046, 0.042, 0.06, -0.09, 0.176, 0.037, 0.062, -0.189, 1.0, -0.028, 0.005], [0.065, -0.095, 0.08, -0.158, -0.148, -0.105, -0.125, 0.007, -0.028, 1.0, 0.446], [0.019, -0.107, 0.002, -0.147, -0.067, -0.056, 0.028, -0.027, 0.005, 0.446, 1.0]]}],\n",
              "                        {\"annotations\": [{\"font\": {\"color\": \"#FFFFFF\"}, \"showarrow\": false, \"text\": \"1.0\", \"x\": \"age\", \"xref\": \"x\", \"y\": \"age\", \"yref\": \"y\"}, {\"font\": {\"color\": \"#000000\"}, \"showarrow\": false, \"text\": \"0.088\", \"x\": \"anaemia\", \"xref\": \"x\", \"y\": \"age\", \"yref\": \"y\"}, {\"font\": {\"color\": \"#000000\"}, \"showarrow\": false, \"text\": \"-0.082\", \"x\": \"creatinine_phosphokinase\", \"xref\": \"x\", \"y\": \"age\", \"yref\": \"y\"}, {\"font\": {\"color\": \"#000000\"}, \"showarrow\": false, \"text\": \"-0.101\", \"x\": \"diabetes\", \"xref\": \"x\", \"y\": \"age\", \"yref\": \"y\"}, {\"font\": {\"color\": \"#000000\"}, \"showarrow\": false, \"text\": \"0.06\", \"x\": \"ejection_fraction\", \"xref\": \"x\", \"y\": \"age\", \"yref\": \"y\"}, {\"font\": {\"color\": \"#000000\"}, \"showarrow\": false, \"text\": \"0.093\", \"x\": \"high_blood_pressure\", \"xref\": \"x\", \"y\": \"age\", \"yref\": \"y\"}, {\"font\": {\"color\": \"#000000\"}, \"showarrow\": false, \"text\": \"-0.052\", \"x\": \"platelets\", \"xref\": \"x\", \"y\": \"age\", \"yref\": \"y\"}, {\"font\": {\"color\": \"#000000\"}, \"showarrow\": false, \"text\": \"0.159\", \"x\": \"serum_creatinine\", \"xref\": \"x\", \"y\": \"age\", \"yref\": \"y\"}, {\"font\": {\"color\": \"#000000\"}, \"showarrow\": false, \"text\": \"-0.046\", \"x\": \"serum_sodium\", \"xref\": \"x\", \"y\": \"age\", \"yref\": \"y\"}, {\"font\": {\"color\": \"#000000\"}, \"showarrow\": false, \"text\": \"0.065\", \"x\": \"sex\", \"xref\": \"x\", \"y\": \"age\", \"yref\": \"y\"}, {\"font\": {\"color\": \"#000000\"}, \"showarrow\": false, \"text\": \"0.019\", \"x\": \"smoking\", \"xref\": \"x\", \"y\": \"age\", \"yref\": \"y\"}, {\"font\": {\"color\": \"#000000\"}, \"showarrow\": false, \"text\": \"0.088\", \"x\": \"age\", \"xref\": \"x\", \"y\": \"anaemia\", \"yref\": \"y\"}, {\"font\": {\"color\": \"#FFFFFF\"}, \"showarrow\": false, \"text\": \"1.0\", \"x\": \"anaemia\", \"xref\": \"x\", \"y\": \"anaemia\", \"yref\": \"y\"}, {\"font\": {\"color\": \"#000000\"}, \"showarrow\": false, \"text\": \"-0.191\", \"x\": \"creatinine_phosphokinase\", \"xref\": \"x\", \"y\": \"anaemia\", \"yref\": \"y\"}, {\"font\": {\"color\": \"#000000\"}, \"showarrow\": false, \"text\": \"-0.013\", \"x\": \"diabetes\", \"xref\": \"x\", \"y\": \"anaemia\", \"yref\": \"y\"}, {\"font\": {\"color\": \"#000000\"}, \"showarrow\": false, \"text\": \"0.032\", \"x\": \"ejection_fraction\", \"xref\": \"x\", \"y\": \"anaemia\", \"yref\": \"y\"}, {\"font\": {\"color\": \"#000000\"}, \"showarrow\": false, \"text\": \"0.038\", \"x\": \"high_blood_pressure\", \"xref\": \"x\", \"y\": \"anaemia\", \"yref\": \"y\"}, {\"font\": {\"color\": \"#000000\"}, \"showarrow\": false, \"text\": \"-0.044\", \"x\": \"platelets\", \"xref\": \"x\", \"y\": \"anaemia\", \"yref\": \"y\"}, {\"font\": {\"color\": \"#000000\"}, \"showarrow\": false, \"text\": \"0.052\", \"x\": \"serum_creatinine\", \"xref\": \"x\", \"y\": \"anaemia\", \"yref\": \"y\"}, {\"font\": {\"color\": \"#000000\"}, \"showarrow\": false, \"text\": \"0.042\", \"x\": \"serum_sodium\", \"xref\": \"x\", \"y\": \"anaemia\", \"yref\": \"y\"}, {\"font\": {\"color\": \"#000000\"}, \"showarrow\": false, \"text\": \"-0.095\", \"x\": \"sex\", \"xref\": \"x\", \"y\": \"anaemia\", \"yref\": \"y\"}, {\"font\": {\"color\": \"#000000\"}, \"showarrow\": false, \"text\": \"-0.107\", \"x\": \"smoking\", \"xref\": \"x\", \"y\": \"anaemia\", \"yref\": \"y\"}, {\"font\": {\"color\": \"#000000\"}, \"showarrow\": false, \"text\": \"-0.082\", \"x\": \"age\", \"xref\": \"x\", \"y\": \"creatinine_phosphokinase\", \"yref\": \"y\"}, {\"font\": {\"color\": \"#000000\"}, \"showarrow\": false, \"text\": \"-0.191\", \"x\": \"anaemia\", \"xref\": \"x\", \"y\": \"creatinine_phosphokinase\", \"yref\": \"y\"}, {\"font\": {\"color\": \"#FFFFFF\"}, \"showarrow\": false, \"text\": \"1.0\", \"x\": \"creatinine_phosphokinase\", \"xref\": \"x\", \"y\": \"creatinine_phosphokinase\", \"yref\": \"y\"}, {\"font\": {\"color\": \"#000000\"}, \"showarrow\": false, \"text\": \"-0.01\", \"x\": \"diabetes\", \"xref\": \"x\", \"y\": \"creatinine_phosphokinase\", \"yref\": \"y\"}, {\"font\": {\"color\": \"#000000\"}, \"showarrow\": false, \"text\": \"-0.044\", \"x\": \"ejection_fraction\", \"xref\": \"x\", \"y\": \"creatinine_phosphokinase\", \"yref\": \"y\"}, {\"font\": {\"color\": \"#000000\"}, \"showarrow\": false, \"text\": \"-0.071\", \"x\": \"high_blood_pressure\", \"xref\": \"x\", \"y\": \"creatinine_phosphokinase\", \"yref\": \"y\"}, {\"font\": {\"color\": \"#000000\"}, \"showarrow\": false, \"text\": \"0.024\", \"x\": \"platelets\", \"xref\": \"x\", \"y\": \"creatinine_phosphokinase\", \"yref\": \"y\"}, {\"font\": {\"color\": \"#000000\"}, \"showarrow\": false, \"text\": \"-0.016\", \"x\": \"serum_creatinine\", \"xref\": \"x\", \"y\": \"creatinine_phosphokinase\", \"yref\": \"y\"}, {\"font\": {\"color\": \"#000000\"}, \"showarrow\": false, \"text\": \"0.06\", \"x\": \"serum_sodium\", \"xref\": \"x\", \"y\": \"creatinine_phosphokinase\", \"yref\": \"y\"}, {\"font\": {\"color\": \"#000000\"}, \"showarrow\": false, \"text\": \"0.08\", \"x\": \"sex\", \"xref\": \"x\", \"y\": \"creatinine_phosphokinase\", \"yref\": \"y\"}, {\"font\": {\"color\": \"#000000\"}, \"showarrow\": false, \"text\": \"0.002\", \"x\": \"smoking\", \"xref\": \"x\", \"y\": \"creatinine_phosphokinase\", \"yref\": \"y\"}, {\"font\": {\"color\": \"#000000\"}, \"showarrow\": false, \"text\": \"-0.101\", \"x\": \"age\", \"xref\": \"x\", \"y\": \"diabetes\", \"yref\": \"y\"}, {\"font\": {\"color\": \"#000000\"}, \"showarrow\": false, \"text\": \"-0.013\", \"x\": \"anaemia\", \"xref\": \"x\", \"y\": \"diabetes\", \"yref\": \"y\"}, {\"font\": {\"color\": \"#000000\"}, \"showarrow\": false, \"text\": \"-0.01\", \"x\": \"creatinine_phosphokinase\", \"xref\": \"x\", \"y\": \"diabetes\", \"yref\": \"y\"}, {\"font\": {\"color\": \"#FFFFFF\"}, \"showarrow\": false, \"text\": \"1.0\", \"x\": \"diabetes\", \"xref\": \"x\", \"y\": \"diabetes\", \"yref\": \"y\"}, {\"font\": {\"color\": \"#000000\"}, \"showarrow\": false, \"text\": \"-0.005\", \"x\": \"ejection_fraction\", \"xref\": \"x\", \"y\": \"diabetes\", \"yref\": \"y\"}, {\"font\": {\"color\": \"#000000\"}, \"showarrow\": false, \"text\": \"-0.013\", \"x\": \"high_blood_pressure\", \"xref\": \"x\", \"y\": \"diabetes\", \"yref\": \"y\"}, {\"font\": {\"color\": \"#000000\"}, \"showarrow\": false, \"text\": \"0.092\", \"x\": \"platelets\", \"xref\": \"x\", \"y\": \"diabetes\", \"yref\": \"y\"}, {\"font\": {\"color\": \"#000000\"}, \"showarrow\": false, \"text\": \"-0.047\", \"x\": \"serum_creatinine\", \"xref\": \"x\", \"y\": \"diabetes\", \"yref\": \"y\"}, {\"font\": {\"color\": \"#000000\"}, \"showarrow\": false, \"text\": \"-0.09\", \"x\": \"serum_sodium\", \"xref\": \"x\", \"y\": \"diabetes\", \"yref\": \"y\"}, {\"font\": {\"color\": \"#000000\"}, \"showarrow\": false, \"text\": \"-0.158\", \"x\": \"sex\", \"xref\": \"x\", \"y\": \"diabetes\", \"yref\": \"y\"}, {\"font\": {\"color\": \"#000000\"}, \"showarrow\": false, \"text\": \"-0.147\", \"x\": \"smoking\", \"xref\": \"x\", \"y\": \"diabetes\", \"yref\": \"y\"}, {\"font\": {\"color\": \"#000000\"}, \"showarrow\": false, \"text\": \"0.06\", \"x\": \"age\", \"xref\": \"x\", \"y\": \"ejection_fraction\", \"yref\": \"y\"}, {\"font\": {\"color\": \"#000000\"}, \"showarrow\": false, \"text\": \"0.032\", \"x\": \"anaemia\", \"xref\": \"x\", \"y\": \"ejection_fraction\", \"yref\": \"y\"}, {\"font\": {\"color\": \"#000000\"}, \"showarrow\": false, \"text\": \"-0.044\", \"x\": \"creatinine_phosphokinase\", \"xref\": \"x\", \"y\": \"ejection_fraction\", \"yref\": \"y\"}, {\"font\": {\"color\": \"#000000\"}, \"showarrow\": false, \"text\": \"-0.005\", \"x\": \"diabetes\", \"xref\": \"x\", \"y\": \"ejection_fraction\", \"yref\": \"y\"}, {\"font\": {\"color\": \"#FFFFFF\"}, \"showarrow\": false, \"text\": \"1.0\", \"x\": \"ejection_fraction\", \"xref\": \"x\", \"y\": \"ejection_fraction\", \"yref\": \"y\"}, {\"font\": {\"color\": \"#000000\"}, \"showarrow\": false, \"text\": \"0.024\", \"x\": \"high_blood_pressure\", \"xref\": \"x\", \"y\": \"ejection_fraction\", \"yref\": \"y\"}, {\"font\": {\"color\": \"#000000\"}, \"showarrow\": false, \"text\": \"0.072\", \"x\": \"platelets\", \"xref\": \"x\", \"y\": \"ejection_fraction\", \"yref\": \"y\"}, {\"font\": {\"color\": \"#000000\"}, \"showarrow\": false, \"text\": \"-0.011\", \"x\": \"serum_creatinine\", \"xref\": \"x\", \"y\": \"ejection_fraction\", \"yref\": \"y\"}, {\"font\": {\"color\": \"#000000\"}, \"showarrow\": false, \"text\": \"0.176\", \"x\": \"serum_sodium\", \"xref\": \"x\", \"y\": \"ejection_fraction\", \"yref\": \"y\"}, {\"font\": {\"color\": \"#000000\"}, \"showarrow\": false, \"text\": \"-0.148\", \"x\": \"sex\", \"xref\": \"x\", \"y\": \"ejection_fraction\", \"yref\": \"y\"}, {\"font\": {\"color\": \"#000000\"}, \"showarrow\": false, \"text\": \"-0.067\", \"x\": \"smoking\", \"xref\": \"x\", \"y\": \"ejection_fraction\", \"yref\": \"y\"}, {\"font\": {\"color\": \"#000000\"}, \"showarrow\": false, \"text\": \"0.093\", \"x\": \"age\", \"xref\": \"x\", \"y\": \"high_blood_pressure\", \"yref\": \"y\"}, {\"font\": {\"color\": \"#000000\"}, \"showarrow\": false, \"text\": \"0.038\", \"x\": \"anaemia\", \"xref\": \"x\", \"y\": \"high_blood_pressure\", \"yref\": \"y\"}, {\"font\": {\"color\": \"#000000\"}, \"showarrow\": false, \"text\": \"-0.071\", \"x\": \"creatinine_phosphokinase\", \"xref\": \"x\", \"y\": \"high_blood_pressure\", \"yref\": \"y\"}, {\"font\": {\"color\": \"#000000\"}, \"showarrow\": false, \"text\": \"-0.013\", \"x\": \"diabetes\", \"xref\": \"x\", \"y\": \"high_blood_pressure\", \"yref\": \"y\"}, {\"font\": {\"color\": \"#000000\"}, \"showarrow\": false, \"text\": \"0.024\", \"x\": \"ejection_fraction\", \"xref\": \"x\", \"y\": \"high_blood_pressure\", \"yref\": \"y\"}, {\"font\": {\"color\": \"#FFFFFF\"}, \"showarrow\": false, \"text\": \"1.0\", \"x\": \"high_blood_pressure\", \"xref\": \"x\", \"y\": \"high_blood_pressure\", \"yref\": \"y\"}, {\"font\": {\"color\": \"#000000\"}, \"showarrow\": false, \"text\": \"0.05\", \"x\": \"platelets\", \"xref\": \"x\", \"y\": \"high_blood_pressure\", \"yref\": \"y\"}, {\"font\": {\"color\": \"#000000\"}, \"showarrow\": false, \"text\": \"-0.005\", \"x\": \"serum_creatinine\", \"xref\": \"x\", \"y\": \"high_blood_pressure\", \"yref\": \"y\"}, {\"font\": {\"color\": \"#000000\"}, \"showarrow\": false, \"text\": \"0.037\", \"x\": \"serum_sodium\", \"xref\": \"x\", \"y\": \"high_blood_pressure\", \"yref\": \"y\"}, {\"font\": {\"color\": \"#000000\"}, \"showarrow\": false, \"text\": \"-0.105\", \"x\": \"sex\", \"xref\": \"x\", \"y\": \"high_blood_pressure\", \"yref\": \"y\"}, {\"font\": {\"color\": \"#000000\"}, \"showarrow\": false, \"text\": \"-0.056\", \"x\": \"smoking\", \"xref\": \"x\", \"y\": \"high_blood_pressure\", \"yref\": \"y\"}, {\"font\": {\"color\": \"#000000\"}, \"showarrow\": false, \"text\": \"-0.052\", \"x\": \"age\", \"xref\": \"x\", \"y\": \"platelets\", \"yref\": \"y\"}, {\"font\": {\"color\": \"#000000\"}, \"showarrow\": false, \"text\": \"-0.044\", \"x\": \"anaemia\", \"xref\": \"x\", \"y\": \"platelets\", \"yref\": \"y\"}, {\"font\": {\"color\": \"#000000\"}, \"showarrow\": false, \"text\": \"0.024\", \"x\": \"creatinine_phosphokinase\", \"xref\": \"x\", \"y\": \"platelets\", \"yref\": \"y\"}, {\"font\": {\"color\": \"#000000\"}, \"showarrow\": false, \"text\": \"0.092\", \"x\": \"diabetes\", \"xref\": \"x\", \"y\": \"platelets\", \"yref\": \"y\"}, {\"font\": {\"color\": \"#000000\"}, \"showarrow\": false, \"text\": \"0.072\", \"x\": \"ejection_fraction\", \"xref\": \"x\", \"y\": \"platelets\", \"yref\": \"y\"}, {\"font\": {\"color\": \"#000000\"}, \"showarrow\": false, \"text\": \"0.05\", \"x\": \"high_blood_pressure\", \"xref\": \"x\", \"y\": \"platelets\", \"yref\": \"y\"}, {\"font\": {\"color\": \"#FFFFFF\"}, \"showarrow\": false, \"text\": \"1.0\", \"x\": \"platelets\", \"xref\": \"x\", \"y\": \"platelets\", \"yref\": \"y\"}, {\"font\": {\"color\": \"#000000\"}, \"showarrow\": false, \"text\": \"-0.041\", \"x\": \"serum_creatinine\", \"xref\": \"x\", \"y\": \"platelets\", \"yref\": \"y\"}, {\"font\": {\"color\": \"#000000\"}, \"showarrow\": false, \"text\": \"0.062\", \"x\": \"serum_sodium\", \"xref\": \"x\", \"y\": \"platelets\", \"yref\": \"y\"}, {\"font\": {\"color\": \"#000000\"}, \"showarrow\": false, \"text\": \"-0.125\", \"x\": \"sex\", \"xref\": \"x\", \"y\": \"platelets\", \"yref\": \"y\"}, {\"font\": {\"color\": \"#000000\"}, \"showarrow\": false, \"text\": \"0.028\", \"x\": \"smoking\", \"xref\": \"x\", \"y\": \"platelets\", \"yref\": \"y\"}, {\"font\": {\"color\": \"#000000\"}, \"showarrow\": false, \"text\": \"0.159\", \"x\": \"age\", \"xref\": \"x\", \"y\": \"serum_creatinine\", \"yref\": \"y\"}, {\"font\": {\"color\": \"#000000\"}, \"showarrow\": false, \"text\": \"0.052\", \"x\": \"anaemia\", \"xref\": \"x\", \"y\": \"serum_creatinine\", \"yref\": \"y\"}, {\"font\": {\"color\": \"#000000\"}, \"showarrow\": false, \"text\": \"-0.016\", \"x\": \"creatinine_phosphokinase\", \"xref\": \"x\", \"y\": \"serum_creatinine\", \"yref\": \"y\"}, {\"font\": {\"color\": \"#000000\"}, \"showarrow\": false, \"text\": \"-0.047\", \"x\": \"diabetes\", \"xref\": \"x\", \"y\": \"serum_creatinine\", \"yref\": \"y\"}, {\"font\": {\"color\": \"#000000\"}, \"showarrow\": false, \"text\": \"-0.011\", \"x\": \"ejection_fraction\", \"xref\": \"x\", \"y\": \"serum_creatinine\", \"yref\": \"y\"}, {\"font\": {\"color\": \"#000000\"}, \"showarrow\": false, \"text\": \"-0.005\", \"x\": \"high_blood_pressure\", \"xref\": \"x\", \"y\": \"serum_creatinine\", \"yref\": \"y\"}, {\"font\": {\"color\": \"#000000\"}, \"showarrow\": false, \"text\": \"-0.041\", \"x\": \"platelets\", \"xref\": \"x\", \"y\": \"serum_creatinine\", \"yref\": \"y\"}, {\"font\": {\"color\": \"#FFFFFF\"}, \"showarrow\": false, \"text\": \"1.0\", \"x\": \"serum_creatinine\", \"xref\": \"x\", \"y\": \"serum_creatinine\", \"yref\": \"y\"}, {\"font\": {\"color\": \"#000000\"}, \"showarrow\": false, \"text\": \"-0.189\", \"x\": \"serum_sodium\", \"xref\": \"x\", \"y\": \"serum_creatinine\", \"yref\": \"y\"}, {\"font\": {\"color\": \"#000000\"}, \"showarrow\": false, \"text\": \"0.007\", \"x\": \"sex\", \"xref\": \"x\", \"y\": \"serum_creatinine\", \"yref\": \"y\"}, {\"font\": {\"color\": \"#000000\"}, \"showarrow\": false, \"text\": \"-0.027\", \"x\": \"smoking\", \"xref\": \"x\", \"y\": \"serum_creatinine\", \"yref\": \"y\"}, {\"font\": {\"color\": \"#000000\"}, \"showarrow\": false, \"text\": \"-0.046\", \"x\": \"age\", \"xref\": \"x\", \"y\": \"serum_sodium\", \"yref\": \"y\"}, {\"font\": {\"color\": \"#000000\"}, \"showarrow\": false, \"text\": \"0.042\", \"x\": \"anaemia\", \"xref\": \"x\", \"y\": \"serum_sodium\", \"yref\": \"y\"}, {\"font\": {\"color\": \"#000000\"}, \"showarrow\": false, \"text\": \"0.06\", \"x\": \"creatinine_phosphokinase\", \"xref\": \"x\", \"y\": \"serum_sodium\", \"yref\": \"y\"}, {\"font\": {\"color\": \"#000000\"}, \"showarrow\": false, \"text\": \"-0.09\", \"x\": \"diabetes\", \"xref\": \"x\", \"y\": \"serum_sodium\", \"yref\": \"y\"}, {\"font\": {\"color\": \"#000000\"}, \"showarrow\": false, \"text\": \"0.176\", \"x\": \"ejection_fraction\", \"xref\": \"x\", \"y\": \"serum_sodium\", \"yref\": \"y\"}, {\"font\": {\"color\": \"#000000\"}, \"showarrow\": false, \"text\": \"0.037\", \"x\": \"high_blood_pressure\", \"xref\": \"x\", \"y\": \"serum_sodium\", \"yref\": \"y\"}, {\"font\": {\"color\": \"#000000\"}, \"showarrow\": false, \"text\": \"0.062\", \"x\": \"platelets\", \"xref\": \"x\", \"y\": \"serum_sodium\", \"yref\": \"y\"}, {\"font\": {\"color\": \"#000000\"}, \"showarrow\": false, \"text\": \"-0.189\", \"x\": \"serum_creatinine\", \"xref\": \"x\", \"y\": \"serum_sodium\", \"yref\": \"y\"}, {\"font\": {\"color\": \"#FFFFFF\"}, \"showarrow\": false, \"text\": \"1.0\", \"x\": \"serum_sodium\", \"xref\": \"x\", \"y\": \"serum_sodium\", \"yref\": \"y\"}, {\"font\": {\"color\": \"#000000\"}, \"showarrow\": false, \"text\": \"-0.028\", \"x\": \"sex\", \"xref\": \"x\", \"y\": \"serum_sodium\", \"yref\": \"y\"}, {\"font\": {\"color\": \"#000000\"}, \"showarrow\": false, \"text\": \"0.005\", \"x\": \"smoking\", \"xref\": \"x\", \"y\": \"serum_sodium\", \"yref\": \"y\"}, {\"font\": {\"color\": \"#000000\"}, \"showarrow\": false, \"text\": \"0.065\", \"x\": \"age\", \"xref\": \"x\", \"y\": \"sex\", \"yref\": \"y\"}, {\"font\": {\"color\": \"#000000\"}, \"showarrow\": false, \"text\": \"-0.095\", \"x\": \"anaemia\", \"xref\": \"x\", \"y\": \"sex\", \"yref\": \"y\"}, {\"font\": {\"color\": \"#000000\"}, \"showarrow\": false, \"text\": \"0.08\", \"x\": \"creatinine_phosphokinase\", \"xref\": \"x\", \"y\": \"sex\", \"yref\": \"y\"}, {\"font\": {\"color\": \"#000000\"}, \"showarrow\": false, \"text\": \"-0.158\", \"x\": \"diabetes\", \"xref\": \"x\", \"y\": \"sex\", \"yref\": \"y\"}, {\"font\": {\"color\": \"#000000\"}, \"showarrow\": false, \"text\": \"-0.148\", \"x\": \"ejection_fraction\", \"xref\": \"x\", \"y\": \"sex\", \"yref\": \"y\"}, {\"font\": {\"color\": \"#000000\"}, \"showarrow\": false, \"text\": \"-0.105\", \"x\": \"high_blood_pressure\", \"xref\": \"x\", \"y\": \"sex\", \"yref\": \"y\"}, {\"font\": {\"color\": \"#000000\"}, \"showarrow\": false, \"text\": \"-0.125\", \"x\": \"platelets\", \"xref\": \"x\", \"y\": \"sex\", \"yref\": \"y\"}, {\"font\": {\"color\": \"#000000\"}, \"showarrow\": false, \"text\": \"0.007\", \"x\": \"serum_creatinine\", \"xref\": \"x\", \"y\": \"sex\", \"yref\": \"y\"}, {\"font\": {\"color\": \"#000000\"}, \"showarrow\": false, \"text\": \"-0.028\", \"x\": \"serum_sodium\", \"xref\": \"x\", \"y\": \"sex\", \"yref\": \"y\"}, {\"font\": {\"color\": \"#FFFFFF\"}, \"showarrow\": false, \"text\": \"1.0\", \"x\": \"sex\", \"xref\": \"x\", \"y\": \"sex\", \"yref\": \"y\"}, {\"font\": {\"color\": \"#FFFFFF\"}, \"showarrow\": false, \"text\": \"0.446\", \"x\": \"smoking\", \"xref\": \"x\", \"y\": \"sex\", \"yref\": \"y\"}, {\"font\": {\"color\": \"#000000\"}, \"showarrow\": false, \"text\": \"0.019\", \"x\": \"age\", \"xref\": \"x\", \"y\": \"smoking\", \"yref\": \"y\"}, {\"font\": {\"color\": \"#000000\"}, \"showarrow\": false, \"text\": \"-0.107\", \"x\": \"anaemia\", \"xref\": \"x\", \"y\": \"smoking\", \"yref\": \"y\"}, {\"font\": {\"color\": \"#000000\"}, \"showarrow\": false, \"text\": \"0.002\", \"x\": \"creatinine_phosphokinase\", \"xref\": \"x\", \"y\": \"smoking\", \"yref\": \"y\"}, {\"font\": {\"color\": \"#000000\"}, \"showarrow\": false, \"text\": \"-0.147\", \"x\": \"diabetes\", \"xref\": \"x\", \"y\": \"smoking\", \"yref\": \"y\"}, {\"font\": {\"color\": \"#000000\"}, \"showarrow\": false, \"text\": \"-0.067\", \"x\": \"ejection_fraction\", \"xref\": \"x\", \"y\": \"smoking\", \"yref\": \"y\"}, {\"font\": {\"color\": \"#000000\"}, \"showarrow\": false, \"text\": \"-0.056\", \"x\": \"high_blood_pressure\", \"xref\": \"x\", \"y\": \"smoking\", \"yref\": \"y\"}, {\"font\": {\"color\": \"#000000\"}, \"showarrow\": false, \"text\": \"0.028\", \"x\": \"platelets\", \"xref\": \"x\", \"y\": \"smoking\", \"yref\": \"y\"}, {\"font\": {\"color\": \"#000000\"}, \"showarrow\": false, \"text\": \"-0.027\", \"x\": \"serum_creatinine\", \"xref\": \"x\", \"y\": \"smoking\", \"yref\": \"y\"}, {\"font\": {\"color\": \"#000000\"}, \"showarrow\": false, \"text\": \"0.005\", \"x\": \"serum_sodium\", \"xref\": \"x\", \"y\": \"smoking\", \"yref\": \"y\"}, {\"font\": {\"color\": \"#FFFFFF\"}, \"showarrow\": false, \"text\": \"0.446\", \"x\": \"sex\", \"xref\": \"x\", \"y\": \"smoking\", \"yref\": \"y\"}, {\"font\": {\"color\": \"#FFFFFF\"}, \"showarrow\": false, \"text\": \"1.0\", \"x\": \"smoking\", \"xref\": \"x\", \"y\": \"smoking\", \"yref\": \"y\"}], \"template\": {\"data\": {\"bar\": [{\"error_x\": {\"color\": \"#2a3f5f\"}, \"error_y\": {\"color\": \"#2a3f5f\"}, \"marker\": {\"line\": {\"color\": \"#E5ECF6\", \"width\": 0.5}}, \"type\": \"bar\"}], \"barpolar\": [{\"marker\": {\"line\": {\"color\": \"#E5ECF6\", \"width\": 0.5}}, \"type\": \"barpolar\"}], \"carpet\": [{\"aaxis\": {\"endlinecolor\": \"#2a3f5f\", \"gridcolor\": \"white\", \"linecolor\": \"white\", \"minorgridcolor\": \"white\", \"startlinecolor\": \"#2a3f5f\"}, \"baxis\": {\"endlinecolor\": \"#2a3f5f\", \"gridcolor\": \"white\", \"linecolor\": \"white\", \"minorgridcolor\": \"white\", \"startlinecolor\": \"#2a3f5f\"}, \"type\": \"carpet\"}], \"choropleth\": [{\"colorbar\": {\"outlinewidth\": 0, \"ticks\": \"\"}, \"type\": \"choropleth\"}], \"contour\": [{\"colorbar\": {\"outlinewidth\": 0, \"ticks\": \"\"}, \"colorscale\": [[0.0, \"#0d0887\"], [0.1111111111111111, \"#46039f\"], [0.2222222222222222, \"#7201a8\"], [0.3333333333333333, \"#9c179e\"], [0.4444444444444444, \"#bd3786\"], [0.5555555555555556, \"#d8576b\"], [0.6666666666666666, \"#ed7953\"], [0.7777777777777778, \"#fb9f3a\"], [0.8888888888888888, \"#fdca26\"], [1.0, \"#f0f921\"]], \"type\": \"contour\"}], \"contourcarpet\": [{\"colorbar\": {\"outlinewidth\": 0, \"ticks\": \"\"}, \"type\": \"contourcarpet\"}], \"heatmap\": [{\"colorbar\": {\"outlinewidth\": 0, \"ticks\": \"\"}, \"colorscale\": [[0.0, \"#0d0887\"], [0.1111111111111111, \"#46039f\"], [0.2222222222222222, \"#7201a8\"], [0.3333333333333333, \"#9c179e\"], [0.4444444444444444, \"#bd3786\"], [0.5555555555555556, \"#d8576b\"], [0.6666666666666666, \"#ed7953\"], [0.7777777777777778, \"#fb9f3a\"], [0.8888888888888888, \"#fdca26\"], [1.0, \"#f0f921\"]], \"type\": \"heatmap\"}], \"heatmapgl\": [{\"colorbar\": {\"outlinewidth\": 0, \"ticks\": \"\"}, \"colorscale\": [[0.0, \"#0d0887\"], [0.1111111111111111, \"#46039f\"], [0.2222222222222222, \"#7201a8\"], [0.3333333333333333, \"#9c179e\"], [0.4444444444444444, \"#bd3786\"], [0.5555555555555556, \"#d8576b\"], [0.6666666666666666, \"#ed7953\"], [0.7777777777777778, \"#fb9f3a\"], [0.8888888888888888, \"#fdca26\"], [1.0, \"#f0f921\"]], \"type\": \"heatmapgl\"}], \"histogram\": [{\"marker\": {\"colorbar\": {\"outlinewidth\": 0, \"ticks\": \"\"}}, \"type\": \"histogram\"}], \"histogram2d\": [{\"colorbar\": {\"outlinewidth\": 0, \"ticks\": \"\"}, \"colorscale\": [[0.0, \"#0d0887\"], [0.1111111111111111, \"#46039f\"], [0.2222222222222222, \"#7201a8\"], [0.3333333333333333, \"#9c179e\"], [0.4444444444444444, \"#bd3786\"], [0.5555555555555556, \"#d8576b\"], [0.6666666666666666, \"#ed7953\"], [0.7777777777777778, \"#fb9f3a\"], [0.8888888888888888, \"#fdca26\"], [1.0, \"#f0f921\"]], \"type\": \"histogram2d\"}], \"histogram2dcontour\": [{\"colorbar\": {\"outlinewidth\": 0, \"ticks\": \"\"}, \"colorscale\": [[0.0, \"#0d0887\"], [0.1111111111111111, \"#46039f\"], [0.2222222222222222, \"#7201a8\"], [0.3333333333333333, \"#9c179e\"], [0.4444444444444444, \"#bd3786\"], [0.5555555555555556, \"#d8576b\"], [0.6666666666666666, \"#ed7953\"], [0.7777777777777778, \"#fb9f3a\"], [0.8888888888888888, \"#fdca26\"], [1.0, \"#f0f921\"]], \"type\": \"histogram2dcontour\"}], \"mesh3d\": [{\"colorbar\": {\"outlinewidth\": 0, \"ticks\": \"\"}, \"type\": \"mesh3d\"}], \"parcoords\": [{\"line\": {\"colorbar\": {\"outlinewidth\": 0, \"ticks\": \"\"}}, \"type\": \"parcoords\"}], \"pie\": [{\"automargin\": true, \"type\": \"pie\"}], \"scatter\": [{\"marker\": {\"colorbar\": {\"outlinewidth\": 0, \"ticks\": \"\"}}, \"type\": \"scatter\"}], \"scatter3d\": [{\"line\": {\"colorbar\": {\"outlinewidth\": 0, \"ticks\": \"\"}}, \"marker\": {\"colorbar\": {\"outlinewidth\": 0, \"ticks\": \"\"}}, \"type\": \"scatter3d\"}], \"scattercarpet\": [{\"marker\": {\"colorbar\": {\"outlinewidth\": 0, \"ticks\": \"\"}}, \"type\": \"scattercarpet\"}], \"scattergeo\": [{\"marker\": {\"colorbar\": {\"outlinewidth\": 0, \"ticks\": \"\"}}, \"type\": \"scattergeo\"}], \"scattergl\": [{\"marker\": {\"colorbar\": {\"outlinewidth\": 0, \"ticks\": \"\"}}, \"type\": \"scattergl\"}], \"scattermapbox\": [{\"marker\": {\"colorbar\": {\"outlinewidth\": 0, \"ticks\": \"\"}}, \"type\": \"scattermapbox\"}], \"scatterpolar\": [{\"marker\": {\"colorbar\": {\"outlinewidth\": 0, \"ticks\": \"\"}}, \"type\": \"scatterpolar\"}], \"scatterpolargl\": [{\"marker\": {\"colorbar\": {\"outlinewidth\": 0, \"ticks\": \"\"}}, \"type\": \"scatterpolargl\"}], \"scatterternary\": [{\"marker\": {\"colorbar\": {\"outlinewidth\": 0, \"ticks\": \"\"}}, \"type\": \"scatterternary\"}], \"surface\": [{\"colorbar\": {\"outlinewidth\": 0, \"ticks\": \"\"}, \"colorscale\": [[0.0, \"#0d0887\"], [0.1111111111111111, \"#46039f\"], [0.2222222222222222, \"#7201a8\"], [0.3333333333333333, \"#9c179e\"], [0.4444444444444444, \"#bd3786\"], [0.5555555555555556, \"#d8576b\"], [0.6666666666666666, \"#ed7953\"], [0.7777777777777778, \"#fb9f3a\"], [0.8888888888888888, \"#fdca26\"], [1.0, \"#f0f921\"]], \"type\": \"surface\"}], \"table\": [{\"cells\": {\"fill\": {\"color\": \"#EBF0F8\"}, \"line\": {\"color\": \"white\"}}, \"header\": {\"fill\": {\"color\": \"#C8D4E3\"}, \"line\": {\"color\": \"white\"}}, \"type\": \"table\"}]}, \"layout\": {\"annotationdefaults\": {\"arrowcolor\": \"#2a3f5f\", \"arrowhead\": 0, \"arrowwidth\": 1}, \"coloraxis\": {\"colorbar\": {\"outlinewidth\": 0, \"ticks\": \"\"}}, \"colorscale\": {\"diverging\": [[0, \"#8e0152\"], [0.1, \"#c51b7d\"], [0.2, \"#de77ae\"], [0.3, \"#f1b6da\"], [0.4, \"#fde0ef\"], [0.5, \"#f7f7f7\"], [0.6, \"#e6f5d0\"], [0.7, \"#b8e186\"], [0.8, \"#7fbc41\"], [0.9, \"#4d9221\"], [1, \"#276419\"]], \"sequential\": [[0.0, \"#0d0887\"], [0.1111111111111111, \"#46039f\"], [0.2222222222222222, \"#7201a8\"], [0.3333333333333333, \"#9c179e\"], [0.4444444444444444, \"#bd3786\"], [0.5555555555555556, \"#d8576b\"], [0.6666666666666666, \"#ed7953\"], [0.7777777777777778, \"#fb9f3a\"], [0.8888888888888888, \"#fdca26\"], [1.0, \"#f0f921\"]], \"sequentialminus\": [[0.0, \"#0d0887\"], [0.1111111111111111, \"#46039f\"], [0.2222222222222222, \"#7201a8\"], [0.3333333333333333, \"#9c179e\"], [0.4444444444444444, \"#bd3786\"], [0.5555555555555556, \"#d8576b\"], [0.6666666666666666, \"#ed7953\"], [0.7777777777777778, \"#fb9f3a\"], [0.8888888888888888, \"#fdca26\"], [1.0, \"#f0f921\"]]}, \"colorway\": [\"#636efa\", \"#EF553B\", \"#00cc96\", \"#ab63fa\", \"#FFA15A\", \"#19d3f3\", \"#FF6692\", \"#B6E880\", \"#FF97FF\", \"#FECB52\"], \"font\": {\"color\": \"#2a3f5f\"}, \"geo\": {\"bgcolor\": \"white\", \"lakecolor\": \"white\", \"landcolor\": \"#E5ECF6\", \"showlakes\": true, \"showland\": true, \"subunitcolor\": \"white\"}, \"hoverlabel\": {\"align\": \"left\"}, \"hovermode\": \"closest\", \"mapbox\": {\"style\": \"light\"}, \"paper_bgcolor\": \"white\", \"plot_bgcolor\": \"#E5ECF6\", \"polar\": {\"angularaxis\": {\"gridcolor\": \"white\", \"linecolor\": \"white\", \"ticks\": \"\"}, \"bgcolor\": \"#E5ECF6\", \"radialaxis\": {\"gridcolor\": \"white\", \"linecolor\": \"white\", \"ticks\": \"\"}}, \"scene\": {\"xaxis\": {\"backgroundcolor\": \"#E5ECF6\", \"gridcolor\": \"white\", \"gridwidth\": 2, \"linecolor\": \"white\", \"showbackground\": true, \"ticks\": \"\", \"zerolinecolor\": \"white\"}, \"yaxis\": {\"backgroundcolor\": \"#E5ECF6\", \"gridcolor\": \"white\", \"gridwidth\": 2, \"linecolor\": \"white\", \"showbackground\": true, \"ticks\": \"\", \"zerolinecolor\": \"white\"}, \"zaxis\": {\"backgroundcolor\": \"#E5ECF6\", \"gridcolor\": \"white\", \"gridwidth\": 2, \"linecolor\": \"white\", \"showbackground\": true, \"ticks\": \"\", \"zerolinecolor\": \"white\"}}, \"shapedefaults\": {\"line\": {\"color\": \"#2a3f5f\"}}, \"ternary\": {\"aaxis\": {\"gridcolor\": \"white\", \"linecolor\": \"white\", \"ticks\": \"\"}, \"baxis\": {\"gridcolor\": \"white\", \"linecolor\": \"white\", \"ticks\": \"\"}, \"bgcolor\": \"#E5ECF6\", \"caxis\": {\"gridcolor\": \"white\", \"linecolor\": \"white\", \"ticks\": \"\"}}, \"title\": {\"x\": 0.05}, \"xaxis\": {\"automargin\": true, \"gridcolor\": \"white\", \"linecolor\": \"white\", \"ticks\": \"\", \"title\": {\"standoff\": 15}, \"zerolinecolor\": \"white\", \"zerolinewidth\": 2}, \"yaxis\": {\"automargin\": true, \"gridcolor\": \"white\", \"linecolor\": \"white\", \"ticks\": \"\", \"title\": {\"standoff\": 15}, \"zerolinecolor\": \"white\", \"zerolinewidth\": 2}}}, \"xaxis\": {\"dtick\": 1, \"gridcolor\": \"rgb(0, 0, 0)\", \"side\": \"top\", \"ticks\": \"\"}, \"yaxis\": {\"dtick\": 1, \"ticks\": \"\", \"ticksuffix\": \"  \"}},\n",
              "                        {\"responsive\": true}\n",
              "                    ).then(function(){\n",
              "                            \n",
              "var gd = document.getElementById('7339bc73-2d2b-481b-8c28-d726f0d64a5e');\n",
              "var x = new MutationObserver(function (mutations, observer) {{\n",
              "        var display = window.getComputedStyle(gd).display;\n",
              "        if (!display || display === 'none') {{\n",
              "            console.log([gd, 'removed!']);\n",
              "            Plotly.purge(gd);\n",
              "            observer.disconnect();\n",
              "        }}\n",
              "}});\n",
              "\n",
              "// Listen for the removal of the full notebook cells\n",
              "var notebookContainer = gd.closest('#notebook-container');\n",
              "if (notebookContainer) {{\n",
              "    x.observe(notebookContainer, {childList: true});\n",
              "}}\n",
              "\n",
              "// Listen for the clearing of the current output cell\n",
              "var outputEl = gd.closest('.output');\n",
              "if (outputEl) {{\n",
              "    x.observe(outputEl, {childList: true});\n",
              "}}\n",
              "\n",
              "                        })\n",
              "                };\n",
              "                \n",
              "            </script>\n",
              "        </div>\n",
              "</body>\n",
              "</html>"
            ]
          },
          "metadata": {
            "tags": []
          }
        }
      ]
    },
    {
      "cell_type": "code",
      "metadata": {
        "id": "2_8l5-9YqtaE",
        "colab": {
          "base_uri": "https://localhost:8080/",
          "height": 297
        },
        "outputId": "2d4d88bc-e460-4b28-89ea-11392f39f8ed"
      },
      "source": [
        "df.describe()"
      ],
      "execution_count": null,
      "outputs": [
        {
          "output_type": "execute_result",
          "data": {
            "text/html": [
              "<div>\n",
              "<style scoped>\n",
              "    .dataframe tbody tr th:only-of-type {\n",
              "        vertical-align: middle;\n",
              "    }\n",
              "\n",
              "    .dataframe tbody tr th {\n",
              "        vertical-align: top;\n",
              "    }\n",
              "\n",
              "    .dataframe thead th {\n",
              "        text-align: right;\n",
              "    }\n",
              "</style>\n",
              "<table border=\"1\" class=\"dataframe\">\n",
              "  <thead>\n",
              "    <tr style=\"text-align: right;\">\n",
              "      <th></th>\n",
              "      <th>age</th>\n",
              "      <th>anaemia</th>\n",
              "      <th>creatinine_phosphokinase</th>\n",
              "      <th>diabetes</th>\n",
              "      <th>ejection_fraction</th>\n",
              "      <th>high_blood_pressure</th>\n",
              "      <th>platelets</th>\n",
              "      <th>serum_creatinine</th>\n",
              "      <th>serum_sodium</th>\n",
              "      <th>sex</th>\n",
              "      <th>smoking</th>\n",
              "      <th>DEATH_EVENT</th>\n",
              "    </tr>\n",
              "  </thead>\n",
              "  <tbody>\n",
              "    <tr>\n",
              "      <th>count</th>\n",
              "      <td>299.000000</td>\n",
              "      <td>299.000000</td>\n",
              "      <td>299.000000</td>\n",
              "      <td>299.000000</td>\n",
              "      <td>299.000000</td>\n",
              "      <td>299.000000</td>\n",
              "      <td>299.000000</td>\n",
              "      <td>299.00000</td>\n",
              "      <td>299.000000</td>\n",
              "      <td>299.000000</td>\n",
              "      <td>299.00000</td>\n",
              "      <td>299.00000</td>\n",
              "    </tr>\n",
              "    <tr>\n",
              "      <th>mean</th>\n",
              "      <td>60.833893</td>\n",
              "      <td>0.431438</td>\n",
              "      <td>581.839465</td>\n",
              "      <td>0.418060</td>\n",
              "      <td>38.083612</td>\n",
              "      <td>0.351171</td>\n",
              "      <td>263358.029264</td>\n",
              "      <td>1.39388</td>\n",
              "      <td>136.625418</td>\n",
              "      <td>0.648829</td>\n",
              "      <td>0.32107</td>\n",
              "      <td>0.32107</td>\n",
              "    </tr>\n",
              "    <tr>\n",
              "      <th>std</th>\n",
              "      <td>11.894809</td>\n",
              "      <td>0.496107</td>\n",
              "      <td>970.287881</td>\n",
              "      <td>0.494067</td>\n",
              "      <td>11.834841</td>\n",
              "      <td>0.478136</td>\n",
              "      <td>97804.236869</td>\n",
              "      <td>1.03451</td>\n",
              "      <td>4.412477</td>\n",
              "      <td>0.478136</td>\n",
              "      <td>0.46767</td>\n",
              "      <td>0.46767</td>\n",
              "    </tr>\n",
              "    <tr>\n",
              "      <th>min</th>\n",
              "      <td>40.000000</td>\n",
              "      <td>0.000000</td>\n",
              "      <td>23.000000</td>\n",
              "      <td>0.000000</td>\n",
              "      <td>14.000000</td>\n",
              "      <td>0.000000</td>\n",
              "      <td>25100.000000</td>\n",
              "      <td>0.50000</td>\n",
              "      <td>113.000000</td>\n",
              "      <td>0.000000</td>\n",
              "      <td>0.00000</td>\n",
              "      <td>0.00000</td>\n",
              "    </tr>\n",
              "    <tr>\n",
              "      <th>25%</th>\n",
              "      <td>51.000000</td>\n",
              "      <td>0.000000</td>\n",
              "      <td>116.500000</td>\n",
              "      <td>0.000000</td>\n",
              "      <td>30.000000</td>\n",
              "      <td>0.000000</td>\n",
              "      <td>212500.000000</td>\n",
              "      <td>0.90000</td>\n",
              "      <td>134.000000</td>\n",
              "      <td>0.000000</td>\n",
              "      <td>0.00000</td>\n",
              "      <td>0.00000</td>\n",
              "    </tr>\n",
              "    <tr>\n",
              "      <th>50%</th>\n",
              "      <td>60.000000</td>\n",
              "      <td>0.000000</td>\n",
              "      <td>250.000000</td>\n",
              "      <td>0.000000</td>\n",
              "      <td>38.000000</td>\n",
              "      <td>0.000000</td>\n",
              "      <td>262000.000000</td>\n",
              "      <td>1.10000</td>\n",
              "      <td>137.000000</td>\n",
              "      <td>1.000000</td>\n",
              "      <td>0.00000</td>\n",
              "      <td>0.00000</td>\n",
              "    </tr>\n",
              "    <tr>\n",
              "      <th>75%</th>\n",
              "      <td>70.000000</td>\n",
              "      <td>1.000000</td>\n",
              "      <td>582.000000</td>\n",
              "      <td>1.000000</td>\n",
              "      <td>45.000000</td>\n",
              "      <td>1.000000</td>\n",
              "      <td>303500.000000</td>\n",
              "      <td>1.40000</td>\n",
              "      <td>140.000000</td>\n",
              "      <td>1.000000</td>\n",
              "      <td>1.00000</td>\n",
              "      <td>1.00000</td>\n",
              "    </tr>\n",
              "    <tr>\n",
              "      <th>max</th>\n",
              "      <td>95.000000</td>\n",
              "      <td>1.000000</td>\n",
              "      <td>7861.000000</td>\n",
              "      <td>1.000000</td>\n",
              "      <td>80.000000</td>\n",
              "      <td>1.000000</td>\n",
              "      <td>850000.000000</td>\n",
              "      <td>9.40000</td>\n",
              "      <td>148.000000</td>\n",
              "      <td>1.000000</td>\n",
              "      <td>1.00000</td>\n",
              "      <td>1.00000</td>\n",
              "    </tr>\n",
              "  </tbody>\n",
              "</table>\n",
              "</div>"
            ],
            "text/plain": [
              "              age     anaemia  ...    smoking  DEATH_EVENT\n",
              "count  299.000000  299.000000  ...  299.00000    299.00000\n",
              "mean    60.833893    0.431438  ...    0.32107      0.32107\n",
              "std     11.894809    0.496107  ...    0.46767      0.46767\n",
              "min     40.000000    0.000000  ...    0.00000      0.00000\n",
              "25%     51.000000    0.000000  ...    0.00000      0.00000\n",
              "50%     60.000000    0.000000  ...    0.00000      0.00000\n",
              "75%     70.000000    1.000000  ...    1.00000      1.00000\n",
              "max     95.000000    1.000000  ...    1.00000      1.00000\n",
              "\n",
              "[8 rows x 12 columns]"
            ]
          },
          "metadata": {
            "tags": []
          },
          "execution_count": 4
        }
      ]
    },
    {
      "cell_type": "code",
      "metadata": {
        "id": "Zoa3ZWCky6RJ",
        "colab": {
          "base_uri": "https://localhost:8080/",
          "height": 542
        },
        "outputId": "0bcdd77b-3b3b-4578-850c-75898be85c34"
      },
      "source": [
        "px.box(df.loc[df['DEATH_EVENT'] == 1], x='DEATH_EVENT', y='age', color='sex')"
      ],
      "execution_count": null,
      "outputs": [
        {
          "output_type": "display_data",
          "data": {
            "text/html": [
              "<html>\n",
              "<head><meta charset=\"utf-8\" /></head>\n",
              "<body>\n",
              "    <div>\n",
              "            <script src=\"https://cdnjs.cloudflare.com/ajax/libs/mathjax/2.7.5/MathJax.js?config=TeX-AMS-MML_SVG\"></script><script type=\"text/javascript\">if (window.MathJax) {MathJax.Hub.Config({SVG: {font: \"STIX-Web\"}});}</script>\n",
              "                <script type=\"text/javascript\">window.PlotlyConfig = {MathJaxConfig: 'local'};</script>\n",
              "        <script src=\"https://cdn.plot.ly/plotly-latest.min.js\"></script>    \n",
              "            <div id=\"0c01bf7c-a261-40a6-bced-ae6830b1fc43\" class=\"plotly-graph-div\" style=\"height:525px; width:100%;\"></div>\n",
              "            <script type=\"text/javascript\">\n",
              "                \n",
              "                    window.PLOTLYENV=window.PLOTLYENV || {};\n",
              "                    \n",
              "                if (document.getElementById(\"0c01bf7c-a261-40a6-bced-ae6830b1fc43\")) {\n",
              "                    Plotly.newPlot(\n",
              "                        '0c01bf7c-a261-40a6-bced-ae6830b1fc43',\n",
              "                        [{\"alignmentgroup\": \"True\", \"hoverlabel\": {\"namelength\": 0}, \"hovertemplate\": \"sex=1<br>DEATH_EVENT=%{x}<br>age=%{y}\", \"legendgroup\": \"sex=1\", \"marker\": {\"color\": \"#636efa\"}, \"name\": \"sex=1\", \"notched\": false, \"offsetgroup\": \"sex=1\", \"orientation\": \"v\", \"showlegend\": true, \"type\": \"box\", \"x\": [1, 1, 1, 1, 1, 1, 1, 1, 1, 1, 1, 1, 1, 1, 1, 1, 1, 1, 1, 1, 1, 1, 1, 1, 1, 1, 1, 1, 1, 1, 1, 1, 1, 1, 1, 1, 1, 1, 1, 1, 1, 1, 1, 1, 1, 1, 1, 1, 1, 1, 1, 1, 1, 1, 1, 1, 1, 1, 1, 1, 1, 1], \"x0\": \" \", \"xaxis\": \"x\", \"y\": [75.0, 55.0, 65.0, 50.0, 90.0, 75.0, 60.0, 80.0, 75.0, 62.0, 45.0, 50.0, 82.0, 87.0, 45.0, 68.0, 80.0, 70.0, 58.0, 82.0, 94.0, 85.0, 65.0, 69.0, 90.0, 70.0, 70.0, 50.0, 51.0, 60.0, 80.0, 68.0, 95.0, 49.0, 72.0, 45.0, 45.0, 60.0, 72.0, 65.0, 85.0, 69.0, 60.0, 60.0, 85.0, 60.0, 80.0, 72.0, 75.0, 45.0, 59.0, 59.0, 65.0, 75.0, 58.0, 60.667, 45.0, 77.0, 73.0, 55.0, 65.0, 55.0], \"y0\": \" \", \"yaxis\": \"y\"}, {\"alignmentgroup\": \"True\", \"hoverlabel\": {\"namelength\": 0}, \"hovertemplate\": \"sex=0<br>DEATH_EVENT=%{x}<br>age=%{y}\", \"legendgroup\": \"sex=0\", \"marker\": {\"color\": \"#EF553B\"}, \"name\": \"sex=0\", \"notched\": false, \"offsetgroup\": \"sex=0\", \"orientation\": \"v\", \"showlegend\": true, \"type\": \"box\", \"x\": [1, 1, 1, 1, 1, 1, 1, 1, 1, 1, 1, 1, 1, 1, 1, 1, 1, 1, 1, 1, 1, 1, 1, 1, 1, 1, 1, 1, 1, 1, 1, 1, 1, 1], \"x0\": \" \", \"xaxis\": \"x\", \"y\": [65.0, 65.0, 70.0, 48.0, 65.0, 75.0, 95.0, 50.0, 82.0, 60.0, 50.0, 60.0, 57.0, 53.0, 60.0, 70.0, 60.0, 50.0, 42.0, 70.0, 60.0, 59.0, 72.0, 70.0, 86.0, 46.0, 72.0, 50.0, 80.0, 50.0, 60.0, 48.0, 54.0, 60.0], \"y0\": \" \", \"yaxis\": \"y\"}],\n",
              "                        {\"boxmode\": \"group\", \"legend\": {\"tracegroupgap\": 0}, \"margin\": {\"t\": 60}, \"template\": {\"data\": {\"bar\": [{\"error_x\": {\"color\": \"#2a3f5f\"}, \"error_y\": {\"color\": \"#2a3f5f\"}, \"marker\": {\"line\": {\"color\": \"#E5ECF6\", \"width\": 0.5}}, \"type\": \"bar\"}], \"barpolar\": [{\"marker\": {\"line\": {\"color\": \"#E5ECF6\", \"width\": 0.5}}, \"type\": \"barpolar\"}], \"carpet\": [{\"aaxis\": {\"endlinecolor\": \"#2a3f5f\", \"gridcolor\": \"white\", \"linecolor\": \"white\", \"minorgridcolor\": \"white\", \"startlinecolor\": \"#2a3f5f\"}, \"baxis\": {\"endlinecolor\": \"#2a3f5f\", \"gridcolor\": \"white\", \"linecolor\": \"white\", \"minorgridcolor\": \"white\", \"startlinecolor\": \"#2a3f5f\"}, \"type\": \"carpet\"}], \"choropleth\": [{\"colorbar\": {\"outlinewidth\": 0, \"ticks\": \"\"}, \"type\": \"choropleth\"}], \"contour\": [{\"colorbar\": {\"outlinewidth\": 0, \"ticks\": \"\"}, \"colorscale\": [[0.0, \"#0d0887\"], [0.1111111111111111, \"#46039f\"], [0.2222222222222222, \"#7201a8\"], [0.3333333333333333, \"#9c179e\"], [0.4444444444444444, \"#bd3786\"], [0.5555555555555556, \"#d8576b\"], [0.6666666666666666, \"#ed7953\"], [0.7777777777777778, \"#fb9f3a\"], [0.8888888888888888, \"#fdca26\"], [1.0, \"#f0f921\"]], \"type\": \"contour\"}], \"contourcarpet\": [{\"colorbar\": {\"outlinewidth\": 0, \"ticks\": \"\"}, \"type\": \"contourcarpet\"}], \"heatmap\": [{\"colorbar\": {\"outlinewidth\": 0, \"ticks\": \"\"}, \"colorscale\": [[0.0, \"#0d0887\"], [0.1111111111111111, \"#46039f\"], [0.2222222222222222, \"#7201a8\"], [0.3333333333333333, \"#9c179e\"], [0.4444444444444444, \"#bd3786\"], [0.5555555555555556, \"#d8576b\"], [0.6666666666666666, \"#ed7953\"], [0.7777777777777778, \"#fb9f3a\"], [0.8888888888888888, \"#fdca26\"], [1.0, \"#f0f921\"]], \"type\": \"heatmap\"}], \"heatmapgl\": [{\"colorbar\": {\"outlinewidth\": 0, \"ticks\": \"\"}, \"colorscale\": [[0.0, \"#0d0887\"], [0.1111111111111111, \"#46039f\"], [0.2222222222222222, \"#7201a8\"], [0.3333333333333333, \"#9c179e\"], [0.4444444444444444, \"#bd3786\"], [0.5555555555555556, \"#d8576b\"], [0.6666666666666666, \"#ed7953\"], [0.7777777777777778, \"#fb9f3a\"], [0.8888888888888888, \"#fdca26\"], [1.0, \"#f0f921\"]], \"type\": \"heatmapgl\"}], \"histogram\": [{\"marker\": {\"colorbar\": {\"outlinewidth\": 0, \"ticks\": \"\"}}, \"type\": \"histogram\"}], \"histogram2d\": [{\"colorbar\": {\"outlinewidth\": 0, \"ticks\": \"\"}, \"colorscale\": [[0.0, \"#0d0887\"], [0.1111111111111111, \"#46039f\"], [0.2222222222222222, \"#7201a8\"], [0.3333333333333333, \"#9c179e\"], [0.4444444444444444, \"#bd3786\"], [0.5555555555555556, \"#d8576b\"], [0.6666666666666666, \"#ed7953\"], [0.7777777777777778, \"#fb9f3a\"], [0.8888888888888888, \"#fdca26\"], [1.0, \"#f0f921\"]], \"type\": \"histogram2d\"}], \"histogram2dcontour\": [{\"colorbar\": {\"outlinewidth\": 0, \"ticks\": \"\"}, \"colorscale\": [[0.0, \"#0d0887\"], [0.1111111111111111, \"#46039f\"], [0.2222222222222222, \"#7201a8\"], [0.3333333333333333, \"#9c179e\"], [0.4444444444444444, \"#bd3786\"], [0.5555555555555556, \"#d8576b\"], [0.6666666666666666, \"#ed7953\"], [0.7777777777777778, \"#fb9f3a\"], [0.8888888888888888, \"#fdca26\"], [1.0, \"#f0f921\"]], \"type\": \"histogram2dcontour\"}], \"mesh3d\": [{\"colorbar\": {\"outlinewidth\": 0, \"ticks\": \"\"}, \"type\": \"mesh3d\"}], \"parcoords\": [{\"line\": {\"colorbar\": {\"outlinewidth\": 0, \"ticks\": \"\"}}, \"type\": \"parcoords\"}], \"pie\": [{\"automargin\": true, \"type\": \"pie\"}], \"scatter\": [{\"marker\": {\"colorbar\": {\"outlinewidth\": 0, \"ticks\": \"\"}}, \"type\": \"scatter\"}], \"scatter3d\": [{\"line\": {\"colorbar\": {\"outlinewidth\": 0, \"ticks\": \"\"}}, \"marker\": {\"colorbar\": {\"outlinewidth\": 0, \"ticks\": \"\"}}, \"type\": \"scatter3d\"}], \"scattercarpet\": [{\"marker\": {\"colorbar\": {\"outlinewidth\": 0, \"ticks\": \"\"}}, \"type\": \"scattercarpet\"}], \"scattergeo\": [{\"marker\": {\"colorbar\": {\"outlinewidth\": 0, \"ticks\": \"\"}}, \"type\": \"scattergeo\"}], \"scattergl\": [{\"marker\": {\"colorbar\": {\"outlinewidth\": 0, \"ticks\": \"\"}}, \"type\": \"scattergl\"}], \"scattermapbox\": [{\"marker\": {\"colorbar\": {\"outlinewidth\": 0, \"ticks\": \"\"}}, \"type\": \"scattermapbox\"}], \"scatterpolar\": [{\"marker\": {\"colorbar\": {\"outlinewidth\": 0, \"ticks\": \"\"}}, \"type\": \"scatterpolar\"}], \"scatterpolargl\": [{\"marker\": {\"colorbar\": {\"outlinewidth\": 0, \"ticks\": \"\"}}, \"type\": \"scatterpolargl\"}], \"scatterternary\": [{\"marker\": {\"colorbar\": {\"outlinewidth\": 0, \"ticks\": \"\"}}, \"type\": \"scatterternary\"}], \"surface\": [{\"colorbar\": {\"outlinewidth\": 0, \"ticks\": \"\"}, \"colorscale\": [[0.0, \"#0d0887\"], [0.1111111111111111, \"#46039f\"], [0.2222222222222222, \"#7201a8\"], [0.3333333333333333, \"#9c179e\"], [0.4444444444444444, \"#bd3786\"], [0.5555555555555556, \"#d8576b\"], [0.6666666666666666, \"#ed7953\"], [0.7777777777777778, \"#fb9f3a\"], [0.8888888888888888, \"#fdca26\"], [1.0, \"#f0f921\"]], \"type\": \"surface\"}], \"table\": [{\"cells\": {\"fill\": {\"color\": \"#EBF0F8\"}, \"line\": {\"color\": \"white\"}}, \"header\": {\"fill\": {\"color\": \"#C8D4E3\"}, \"line\": {\"color\": \"white\"}}, \"type\": \"table\"}]}, \"layout\": {\"annotationdefaults\": {\"arrowcolor\": \"#2a3f5f\", \"arrowhead\": 0, \"arrowwidth\": 1}, \"coloraxis\": {\"colorbar\": {\"outlinewidth\": 0, \"ticks\": \"\"}}, \"colorscale\": {\"diverging\": [[0, \"#8e0152\"], [0.1, \"#c51b7d\"], [0.2, \"#de77ae\"], [0.3, \"#f1b6da\"], [0.4, \"#fde0ef\"], [0.5, \"#f7f7f7\"], [0.6, \"#e6f5d0\"], [0.7, \"#b8e186\"], [0.8, \"#7fbc41\"], [0.9, \"#4d9221\"], [1, \"#276419\"]], \"sequential\": [[0.0, \"#0d0887\"], [0.1111111111111111, \"#46039f\"], [0.2222222222222222, \"#7201a8\"], [0.3333333333333333, \"#9c179e\"], [0.4444444444444444, \"#bd3786\"], [0.5555555555555556, \"#d8576b\"], [0.6666666666666666, \"#ed7953\"], [0.7777777777777778, \"#fb9f3a\"], [0.8888888888888888, \"#fdca26\"], [1.0, \"#f0f921\"]], \"sequentialminus\": [[0.0, \"#0d0887\"], [0.1111111111111111, \"#46039f\"], [0.2222222222222222, \"#7201a8\"], [0.3333333333333333, \"#9c179e\"], [0.4444444444444444, \"#bd3786\"], [0.5555555555555556, \"#d8576b\"], [0.6666666666666666, \"#ed7953\"], [0.7777777777777778, \"#fb9f3a\"], [0.8888888888888888, \"#fdca26\"], [1.0, \"#f0f921\"]]}, \"colorway\": [\"#636efa\", \"#EF553B\", \"#00cc96\", \"#ab63fa\", \"#FFA15A\", \"#19d3f3\", \"#FF6692\", \"#B6E880\", \"#FF97FF\", \"#FECB52\"], \"font\": {\"color\": \"#2a3f5f\"}, \"geo\": {\"bgcolor\": \"white\", \"lakecolor\": \"white\", \"landcolor\": \"#E5ECF6\", \"showlakes\": true, \"showland\": true, \"subunitcolor\": \"white\"}, \"hoverlabel\": {\"align\": \"left\"}, \"hovermode\": \"closest\", \"mapbox\": {\"style\": \"light\"}, \"paper_bgcolor\": \"white\", \"plot_bgcolor\": \"#E5ECF6\", \"polar\": {\"angularaxis\": {\"gridcolor\": \"white\", \"linecolor\": \"white\", \"ticks\": \"\"}, \"bgcolor\": \"#E5ECF6\", \"radialaxis\": {\"gridcolor\": \"white\", \"linecolor\": \"white\", \"ticks\": \"\"}}, \"scene\": {\"xaxis\": {\"backgroundcolor\": \"#E5ECF6\", \"gridcolor\": \"white\", \"gridwidth\": 2, \"linecolor\": \"white\", \"showbackground\": true, \"ticks\": \"\", \"zerolinecolor\": \"white\"}, \"yaxis\": {\"backgroundcolor\": \"#E5ECF6\", \"gridcolor\": \"white\", \"gridwidth\": 2, \"linecolor\": \"white\", \"showbackground\": true, \"ticks\": \"\", \"zerolinecolor\": \"white\"}, \"zaxis\": {\"backgroundcolor\": \"#E5ECF6\", \"gridcolor\": \"white\", \"gridwidth\": 2, \"linecolor\": \"white\", \"showbackground\": true, \"ticks\": \"\", \"zerolinecolor\": \"white\"}}, \"shapedefaults\": {\"line\": {\"color\": \"#2a3f5f\"}}, \"ternary\": {\"aaxis\": {\"gridcolor\": \"white\", \"linecolor\": \"white\", \"ticks\": \"\"}, \"baxis\": {\"gridcolor\": \"white\", \"linecolor\": \"white\", \"ticks\": \"\"}, \"bgcolor\": \"#E5ECF6\", \"caxis\": {\"gridcolor\": \"white\", \"linecolor\": \"white\", \"ticks\": \"\"}}, \"title\": {\"x\": 0.05}, \"xaxis\": {\"automargin\": true, \"gridcolor\": \"white\", \"linecolor\": \"white\", \"ticks\": \"\", \"title\": {\"standoff\": 15}, \"zerolinecolor\": \"white\", \"zerolinewidth\": 2}, \"yaxis\": {\"automargin\": true, \"gridcolor\": \"white\", \"linecolor\": \"white\", \"ticks\": \"\", \"title\": {\"standoff\": 15}, \"zerolinecolor\": \"white\", \"zerolinewidth\": 2}}}, \"xaxis\": {\"anchor\": \"y\", \"domain\": [0.0, 1.0], \"title\": {\"text\": \"DEATH_EVENT\"}}, \"yaxis\": {\"anchor\": \"x\", \"domain\": [0.0, 1.0], \"title\": {\"text\": \"age\"}}},\n",
              "                        {\"responsive\": true}\n",
              "                    ).then(function(){\n",
              "                            \n",
              "var gd = document.getElementById('0c01bf7c-a261-40a6-bced-ae6830b1fc43');\n",
              "var x = new MutationObserver(function (mutations, observer) {{\n",
              "        var display = window.getComputedStyle(gd).display;\n",
              "        if (!display || display === 'none') {{\n",
              "            console.log([gd, 'removed!']);\n",
              "            Plotly.purge(gd);\n",
              "            observer.disconnect();\n",
              "        }}\n",
              "}});\n",
              "\n",
              "// Listen for the removal of the full notebook cells\n",
              "var notebookContainer = gd.closest('#notebook-container');\n",
              "if (notebookContainer) {{\n",
              "    x.observe(notebookContainer, {childList: true});\n",
              "}}\n",
              "\n",
              "// Listen for the clearing of the current output cell\n",
              "var outputEl = gd.closest('.output');\n",
              "if (outputEl) {{\n",
              "    x.observe(outputEl, {childList: true});\n",
              "}}\n",
              "\n",
              "                        })\n",
              "                };\n",
              "                \n",
              "            </script>\n",
              "        </div>\n",
              "</body>\n",
              "</html>"
            ]
          },
          "metadata": {
            "tags": []
          }
        }
      ]
    },
    {
      "cell_type": "code",
      "metadata": {
        "id": "56sJQbwjzgSd",
        "colab": {
          "base_uri": "https://localhost:8080/",
          "height": 542
        },
        "outputId": "90e5d597-7adc-4e7f-ee69-1f373a2ff648"
      },
      "source": [
        "px.violin(df.loc[df['DEATH_EVENT'] == 1], x='DEATH_EVENT', y='creatinine_phosphokinase', color='diabetes')"
      ],
      "execution_count": null,
      "outputs": [
        {
          "output_type": "display_data",
          "data": {
            "text/html": [
              "<html>\n",
              "<head><meta charset=\"utf-8\" /></head>\n",
              "<body>\n",
              "    <div>\n",
              "            <script src=\"https://cdnjs.cloudflare.com/ajax/libs/mathjax/2.7.5/MathJax.js?config=TeX-AMS-MML_SVG\"></script><script type=\"text/javascript\">if (window.MathJax) {MathJax.Hub.Config({SVG: {font: \"STIX-Web\"}});}</script>\n",
              "                <script type=\"text/javascript\">window.PlotlyConfig = {MathJaxConfig: 'local'};</script>\n",
              "        <script src=\"https://cdn.plot.ly/plotly-latest.min.js\"></script>    \n",
              "            <div id=\"f2b1af34-d6a2-44ae-bca0-9f4dc15ee304\" class=\"plotly-graph-div\" style=\"height:525px; width:100%;\"></div>\n",
              "            <script type=\"text/javascript\">\n",
              "                \n",
              "                    window.PLOTLYENV=window.PLOTLYENV || {};\n",
              "                    \n",
              "                if (document.getElementById(\"f2b1af34-d6a2-44ae-bca0-9f4dc15ee304\")) {\n",
              "                    Plotly.newPlot(\n",
              "                        'f2b1af34-d6a2-44ae-bca0-9f4dc15ee304',\n",
              "                        [{\"alignmentgroup\": \"True\", \"box\": {\"visible\": false}, \"hoverlabel\": {\"namelength\": 0}, \"hovertemplate\": \"diabetes=0<br>DEATH_EVENT=%{x}<br>creatinine_phosphokinase=%{y}\", \"legendgroup\": \"diabetes=0\", \"marker\": {\"color\": \"#636efa\"}, \"name\": \"diabetes=0\", \"offsetgroup\": \"diabetes=0\", \"orientation\": \"v\", \"scalegroup\": \"True\", \"showlegend\": true, \"type\": \"violin\", \"x\": [1, 1, 1, 1, 1, 1, 1, 1, 1, 1, 1, 1, 1, 1, 1, 1, 1, 1, 1, 1, 1, 1, 1, 1, 1, 1, 1, 1, 1, 1, 1, 1, 1, 1, 1, 1, 1, 1, 1, 1, 1, 1, 1, 1, 1, 1, 1, 1, 1, 1, 1, 1, 1, 1, 1, 1], \"x0\": \" \", \"xaxis\": \"x\", \"y\": [582, 7861, 146, 111, 47, 246, 157, 123, 81, 231, 981, 168, 379, 149, 582, 125, 220, 112, 60, 23, 582, 1380, 553, 129, 577, 91, 371, 789, 318, 582, 68, 110, 161, 5882, 582, 47, 154, 328, 129, 143, 582, 582, 805, 943, 582, 233, 99, 145, 582, 582, 418, 427, 582, 166, 2017, 1199], \"y0\": \" \", \"yaxis\": \"y\"}, {\"alignmentgroup\": \"True\", \"box\": {\"visible\": false}, \"hoverlabel\": {\"namelength\": 0}, \"hovertemplate\": \"diabetes=1<br>DEATH_EVENT=%{x}<br>creatinine_phosphokinase=%{y}\", \"legendgroup\": \"diabetes=1\", \"marker\": {\"color\": \"#EF553B\"}, \"name\": \"diabetes=1\", \"offsetgroup\": \"diabetes=1\", \"orientation\": \"v\", \"scalegroup\": \"True\", \"showlegend\": true, \"type\": \"violin\", \"x\": [1, 1, 1, 1, 1, 1, 1, 1, 1, 1, 1, 1, 1, 1, 1, 1, 1, 1, 1, 1, 1, 1, 1, 1, 1, 1, 1, 1, 1, 1, 1, 1, 1, 1, 1, 1, 1, 1, 1, 1], \"x0\": \" \", \"xaxis\": \"x\", \"y\": [160, 315, 582, 128, 582, 148, 122, 70, 582, 249, 94, 582, 60, 855, 235, 124, 571, 588, 582, 582, 3964, 69, 260, 364, 7702, 250, 113, 76, 280, 168, 2334, 2442, 776, 66, 176, 395, 104, 1896, 131, 258], \"y0\": \" \", \"yaxis\": \"y\"}],\n",
              "                        {\"legend\": {\"tracegroupgap\": 0}, \"margin\": {\"t\": 60}, \"template\": {\"data\": {\"bar\": [{\"error_x\": {\"color\": \"#2a3f5f\"}, \"error_y\": {\"color\": \"#2a3f5f\"}, \"marker\": {\"line\": {\"color\": \"#E5ECF6\", \"width\": 0.5}}, \"type\": \"bar\"}], \"barpolar\": [{\"marker\": {\"line\": {\"color\": \"#E5ECF6\", \"width\": 0.5}}, \"type\": \"barpolar\"}], \"carpet\": [{\"aaxis\": {\"endlinecolor\": \"#2a3f5f\", \"gridcolor\": \"white\", \"linecolor\": \"white\", \"minorgridcolor\": \"white\", \"startlinecolor\": \"#2a3f5f\"}, \"baxis\": {\"endlinecolor\": \"#2a3f5f\", \"gridcolor\": \"white\", \"linecolor\": \"white\", \"minorgridcolor\": \"white\", \"startlinecolor\": \"#2a3f5f\"}, \"type\": \"carpet\"}], \"choropleth\": [{\"colorbar\": {\"outlinewidth\": 0, \"ticks\": \"\"}, \"type\": \"choropleth\"}], \"contour\": [{\"colorbar\": {\"outlinewidth\": 0, \"ticks\": \"\"}, \"colorscale\": [[0.0, \"#0d0887\"], [0.1111111111111111, \"#46039f\"], [0.2222222222222222, \"#7201a8\"], [0.3333333333333333, \"#9c179e\"], [0.4444444444444444, \"#bd3786\"], [0.5555555555555556, \"#d8576b\"], [0.6666666666666666, \"#ed7953\"], [0.7777777777777778, \"#fb9f3a\"], [0.8888888888888888, \"#fdca26\"], [1.0, \"#f0f921\"]], \"type\": \"contour\"}], \"contourcarpet\": [{\"colorbar\": {\"outlinewidth\": 0, \"ticks\": \"\"}, \"type\": \"contourcarpet\"}], \"heatmap\": [{\"colorbar\": {\"outlinewidth\": 0, \"ticks\": \"\"}, \"colorscale\": [[0.0, \"#0d0887\"], [0.1111111111111111, \"#46039f\"], [0.2222222222222222, \"#7201a8\"], [0.3333333333333333, \"#9c179e\"], [0.4444444444444444, \"#bd3786\"], [0.5555555555555556, \"#d8576b\"], [0.6666666666666666, \"#ed7953\"], [0.7777777777777778, \"#fb9f3a\"], [0.8888888888888888, \"#fdca26\"], [1.0, \"#f0f921\"]], \"type\": \"heatmap\"}], \"heatmapgl\": [{\"colorbar\": {\"outlinewidth\": 0, \"ticks\": \"\"}, \"colorscale\": [[0.0, \"#0d0887\"], [0.1111111111111111, \"#46039f\"], [0.2222222222222222, \"#7201a8\"], [0.3333333333333333, \"#9c179e\"], [0.4444444444444444, \"#bd3786\"], [0.5555555555555556, \"#d8576b\"], [0.6666666666666666, \"#ed7953\"], [0.7777777777777778, \"#fb9f3a\"], [0.8888888888888888, \"#fdca26\"], [1.0, \"#f0f921\"]], \"type\": \"heatmapgl\"}], \"histogram\": [{\"marker\": {\"colorbar\": {\"outlinewidth\": 0, \"ticks\": \"\"}}, \"type\": \"histogram\"}], \"histogram2d\": [{\"colorbar\": {\"outlinewidth\": 0, \"ticks\": \"\"}, \"colorscale\": [[0.0, \"#0d0887\"], [0.1111111111111111, \"#46039f\"], [0.2222222222222222, \"#7201a8\"], [0.3333333333333333, \"#9c179e\"], [0.4444444444444444, \"#bd3786\"], [0.5555555555555556, \"#d8576b\"], [0.6666666666666666, \"#ed7953\"], [0.7777777777777778, \"#fb9f3a\"], [0.8888888888888888, \"#fdca26\"], [1.0, \"#f0f921\"]], \"type\": \"histogram2d\"}], \"histogram2dcontour\": [{\"colorbar\": {\"outlinewidth\": 0, \"ticks\": \"\"}, \"colorscale\": [[0.0, \"#0d0887\"], [0.1111111111111111, \"#46039f\"], [0.2222222222222222, \"#7201a8\"], [0.3333333333333333, \"#9c179e\"], [0.4444444444444444, \"#bd3786\"], [0.5555555555555556, \"#d8576b\"], [0.6666666666666666, \"#ed7953\"], [0.7777777777777778, \"#fb9f3a\"], [0.8888888888888888, \"#fdca26\"], [1.0, \"#f0f921\"]], \"type\": \"histogram2dcontour\"}], \"mesh3d\": [{\"colorbar\": {\"outlinewidth\": 0, \"ticks\": \"\"}, \"type\": \"mesh3d\"}], \"parcoords\": [{\"line\": {\"colorbar\": {\"outlinewidth\": 0, \"ticks\": \"\"}}, \"type\": \"parcoords\"}], \"pie\": [{\"automargin\": true, \"type\": \"pie\"}], \"scatter\": [{\"marker\": {\"colorbar\": {\"outlinewidth\": 0, \"ticks\": \"\"}}, \"type\": \"scatter\"}], \"scatter3d\": [{\"line\": {\"colorbar\": {\"outlinewidth\": 0, \"ticks\": \"\"}}, \"marker\": {\"colorbar\": {\"outlinewidth\": 0, \"ticks\": \"\"}}, \"type\": \"scatter3d\"}], \"scattercarpet\": [{\"marker\": {\"colorbar\": {\"outlinewidth\": 0, \"ticks\": \"\"}}, \"type\": \"scattercarpet\"}], \"scattergeo\": [{\"marker\": {\"colorbar\": {\"outlinewidth\": 0, \"ticks\": \"\"}}, \"type\": \"scattergeo\"}], \"scattergl\": [{\"marker\": {\"colorbar\": {\"outlinewidth\": 0, \"ticks\": \"\"}}, \"type\": \"scattergl\"}], \"scattermapbox\": [{\"marker\": {\"colorbar\": {\"outlinewidth\": 0, \"ticks\": \"\"}}, \"type\": \"scattermapbox\"}], \"scatterpolar\": [{\"marker\": {\"colorbar\": {\"outlinewidth\": 0, \"ticks\": \"\"}}, \"type\": \"scatterpolar\"}], \"scatterpolargl\": [{\"marker\": {\"colorbar\": {\"outlinewidth\": 0, \"ticks\": \"\"}}, \"type\": \"scatterpolargl\"}], \"scatterternary\": [{\"marker\": {\"colorbar\": {\"outlinewidth\": 0, \"ticks\": \"\"}}, \"type\": \"scatterternary\"}], \"surface\": [{\"colorbar\": {\"outlinewidth\": 0, \"ticks\": \"\"}, \"colorscale\": [[0.0, \"#0d0887\"], [0.1111111111111111, \"#46039f\"], [0.2222222222222222, \"#7201a8\"], [0.3333333333333333, \"#9c179e\"], [0.4444444444444444, \"#bd3786\"], [0.5555555555555556, \"#d8576b\"], [0.6666666666666666, \"#ed7953\"], [0.7777777777777778, \"#fb9f3a\"], [0.8888888888888888, \"#fdca26\"], [1.0, \"#f0f921\"]], \"type\": \"surface\"}], \"table\": [{\"cells\": {\"fill\": {\"color\": \"#EBF0F8\"}, \"line\": {\"color\": \"white\"}}, \"header\": {\"fill\": {\"color\": \"#C8D4E3\"}, \"line\": {\"color\": \"white\"}}, \"type\": \"table\"}]}, \"layout\": {\"annotationdefaults\": {\"arrowcolor\": \"#2a3f5f\", \"arrowhead\": 0, \"arrowwidth\": 1}, \"coloraxis\": {\"colorbar\": {\"outlinewidth\": 0, \"ticks\": \"\"}}, \"colorscale\": {\"diverging\": [[0, \"#8e0152\"], [0.1, \"#c51b7d\"], [0.2, \"#de77ae\"], [0.3, \"#f1b6da\"], [0.4, \"#fde0ef\"], [0.5, \"#f7f7f7\"], [0.6, \"#e6f5d0\"], [0.7, \"#b8e186\"], [0.8, \"#7fbc41\"], [0.9, \"#4d9221\"], [1, \"#276419\"]], \"sequential\": [[0.0, \"#0d0887\"], [0.1111111111111111, \"#46039f\"], [0.2222222222222222, \"#7201a8\"], [0.3333333333333333, \"#9c179e\"], [0.4444444444444444, \"#bd3786\"], [0.5555555555555556, \"#d8576b\"], [0.6666666666666666, \"#ed7953\"], [0.7777777777777778, \"#fb9f3a\"], [0.8888888888888888, \"#fdca26\"], [1.0, \"#f0f921\"]], \"sequentialminus\": [[0.0, \"#0d0887\"], [0.1111111111111111, \"#46039f\"], [0.2222222222222222, \"#7201a8\"], [0.3333333333333333, \"#9c179e\"], [0.4444444444444444, \"#bd3786\"], [0.5555555555555556, \"#d8576b\"], [0.6666666666666666, \"#ed7953\"], [0.7777777777777778, \"#fb9f3a\"], [0.8888888888888888, \"#fdca26\"], [1.0, \"#f0f921\"]]}, \"colorway\": [\"#636efa\", \"#EF553B\", \"#00cc96\", \"#ab63fa\", \"#FFA15A\", \"#19d3f3\", \"#FF6692\", \"#B6E880\", \"#FF97FF\", \"#FECB52\"], \"font\": {\"color\": \"#2a3f5f\"}, \"geo\": {\"bgcolor\": \"white\", \"lakecolor\": \"white\", \"landcolor\": \"#E5ECF6\", \"showlakes\": true, \"showland\": true, \"subunitcolor\": \"white\"}, \"hoverlabel\": {\"align\": \"left\"}, \"hovermode\": \"closest\", \"mapbox\": {\"style\": \"light\"}, \"paper_bgcolor\": \"white\", \"plot_bgcolor\": \"#E5ECF6\", \"polar\": {\"angularaxis\": {\"gridcolor\": \"white\", \"linecolor\": \"white\", \"ticks\": \"\"}, \"bgcolor\": \"#E5ECF6\", \"radialaxis\": {\"gridcolor\": \"white\", \"linecolor\": \"white\", \"ticks\": \"\"}}, \"scene\": {\"xaxis\": {\"backgroundcolor\": \"#E5ECF6\", \"gridcolor\": \"white\", \"gridwidth\": 2, \"linecolor\": \"white\", \"showbackground\": true, \"ticks\": \"\", \"zerolinecolor\": \"white\"}, \"yaxis\": {\"backgroundcolor\": \"#E5ECF6\", \"gridcolor\": \"white\", \"gridwidth\": 2, \"linecolor\": \"white\", \"showbackground\": true, \"ticks\": \"\", \"zerolinecolor\": \"white\"}, \"zaxis\": {\"backgroundcolor\": \"#E5ECF6\", \"gridcolor\": \"white\", \"gridwidth\": 2, \"linecolor\": \"white\", \"showbackground\": true, \"ticks\": \"\", \"zerolinecolor\": \"white\"}}, \"shapedefaults\": {\"line\": {\"color\": \"#2a3f5f\"}}, \"ternary\": {\"aaxis\": {\"gridcolor\": \"white\", \"linecolor\": \"white\", \"ticks\": \"\"}, \"baxis\": {\"gridcolor\": \"white\", \"linecolor\": \"white\", \"ticks\": \"\"}, \"bgcolor\": \"#E5ECF6\", \"caxis\": {\"gridcolor\": \"white\", \"linecolor\": \"white\", \"ticks\": \"\"}}, \"title\": {\"x\": 0.05}, \"xaxis\": {\"automargin\": true, \"gridcolor\": \"white\", \"linecolor\": \"white\", \"ticks\": \"\", \"title\": {\"standoff\": 15}, \"zerolinecolor\": \"white\", \"zerolinewidth\": 2}, \"yaxis\": {\"automargin\": true, \"gridcolor\": \"white\", \"linecolor\": \"white\", \"ticks\": \"\", \"title\": {\"standoff\": 15}, \"zerolinecolor\": \"white\", \"zerolinewidth\": 2}}}, \"violinmode\": \"group\", \"xaxis\": {\"anchor\": \"y\", \"domain\": [0.0, 1.0], \"title\": {\"text\": \"DEATH_EVENT\"}}, \"yaxis\": {\"anchor\": \"x\", \"domain\": [0.0, 1.0], \"title\": {\"text\": \"creatinine_phosphokinase\"}}},\n",
              "                        {\"responsive\": true}\n",
              "                    ).then(function(){\n",
              "                            \n",
              "var gd = document.getElementById('f2b1af34-d6a2-44ae-bca0-9f4dc15ee304');\n",
              "var x = new MutationObserver(function (mutations, observer) {{\n",
              "        var display = window.getComputedStyle(gd).display;\n",
              "        if (!display || display === 'none') {{\n",
              "            console.log([gd, 'removed!']);\n",
              "            Plotly.purge(gd);\n",
              "            observer.disconnect();\n",
              "        }}\n",
              "}});\n",
              "\n",
              "// Listen for the removal of the full notebook cells\n",
              "var notebookContainer = gd.closest('#notebook-container');\n",
              "if (notebookContainer) {{\n",
              "    x.observe(notebookContainer, {childList: true});\n",
              "}}\n",
              "\n",
              "// Listen for the clearing of the current output cell\n",
              "var outputEl = gd.closest('.output');\n",
              "if (outputEl) {{\n",
              "    x.observe(outputEl, {childList: true});\n",
              "}}\n",
              "\n",
              "                        })\n",
              "                };\n",
              "                \n",
              "            </script>\n",
              "        </div>\n",
              "</body>\n",
              "</html>"
            ]
          },
          "metadata": {
            "tags": []
          }
        }
      ]
    },
    {
      "cell_type": "code",
      "metadata": {
        "id": "KBWbfq5AjXAG",
        "colab": {
          "base_uri": "https://localhost:8080/",
          "height": 542
        },
        "outputId": "ef09e4f8-1812-41fe-dd74-37b0d81f2388"
      },
      "source": [
        "px.violin(df.loc[df['DEATH_EVENT'] == 1], x='DEATH_EVENT', y='creatinine_phosphokinase', color='diabetes')"
      ],
      "execution_count": null,
      "outputs": [
        {
          "output_type": "display_data",
          "data": {
            "text/html": [
              "<html>\n",
              "<head><meta charset=\"utf-8\" /></head>\n",
              "<body>\n",
              "    <div>\n",
              "            <script src=\"https://cdnjs.cloudflare.com/ajax/libs/mathjax/2.7.5/MathJax.js?config=TeX-AMS-MML_SVG\"></script><script type=\"text/javascript\">if (window.MathJax) {MathJax.Hub.Config({SVG: {font: \"STIX-Web\"}});}</script>\n",
              "                <script type=\"text/javascript\">window.PlotlyConfig = {MathJaxConfig: 'local'};</script>\n",
              "        <script src=\"https://cdn.plot.ly/plotly-latest.min.js\"></script>    \n",
              "            <div id=\"bc54618d-c128-4751-b205-f5707e1c6ad3\" class=\"plotly-graph-div\" style=\"height:525px; width:100%;\"></div>\n",
              "            <script type=\"text/javascript\">\n",
              "                \n",
              "                    window.PLOTLYENV=window.PLOTLYENV || {};\n",
              "                    \n",
              "                if (document.getElementById(\"bc54618d-c128-4751-b205-f5707e1c6ad3\")) {\n",
              "                    Plotly.newPlot(\n",
              "                        'bc54618d-c128-4751-b205-f5707e1c6ad3',\n",
              "                        [{\"alignmentgroup\": \"True\", \"box\": {\"visible\": false}, \"hoverlabel\": {\"namelength\": 0}, \"hovertemplate\": \"diabetes=0<br>DEATH_EVENT=%{x}<br>creatinine_phosphokinase=%{y}\", \"legendgroup\": \"diabetes=0\", \"marker\": {\"color\": \"#636efa\"}, \"name\": \"diabetes=0\", \"offsetgroup\": \"diabetes=0\", \"orientation\": \"v\", \"scalegroup\": \"True\", \"showlegend\": true, \"type\": \"violin\", \"x\": [1, 1, 1, 1, 1, 1, 1, 1, 1, 1, 1, 1, 1, 1, 1, 1, 1, 1, 1, 1, 1, 1, 1, 1, 1, 1, 1, 1, 1, 1, 1, 1, 1, 1, 1, 1, 1, 1, 1, 1, 1, 1, 1, 1, 1, 1, 1, 1, 1, 1, 1, 1, 1, 1, 1, 1], \"x0\": \" \", \"xaxis\": \"x\", \"y\": [582, 7861, 146, 111, 47, 246, 157, 123, 81, 231, 981, 168, 379, 149, 582, 125, 220, 112, 60, 23, 582, 1380, 553, 129, 577, 91, 371, 789, 318, 582, 68, 110, 161, 5882, 582, 47, 154, 328, 129, 143, 582, 582, 805, 943, 582, 233, 99, 145, 582, 582, 418, 427, 582, 166, 2017, 1199], \"y0\": \" \", \"yaxis\": \"y\"}, {\"alignmentgroup\": \"True\", \"box\": {\"visible\": false}, \"hoverlabel\": {\"namelength\": 0}, \"hovertemplate\": \"diabetes=1<br>DEATH_EVENT=%{x}<br>creatinine_phosphokinase=%{y}\", \"legendgroup\": \"diabetes=1\", \"marker\": {\"color\": \"#EF553B\"}, \"name\": \"diabetes=1\", \"offsetgroup\": \"diabetes=1\", \"orientation\": \"v\", \"scalegroup\": \"True\", \"showlegend\": true, \"type\": \"violin\", \"x\": [1, 1, 1, 1, 1, 1, 1, 1, 1, 1, 1, 1, 1, 1, 1, 1, 1, 1, 1, 1, 1, 1, 1, 1, 1, 1, 1, 1, 1, 1, 1, 1, 1, 1, 1, 1, 1, 1, 1, 1], \"x0\": \" \", \"xaxis\": \"x\", \"y\": [160, 315, 582, 128, 582, 148, 122, 70, 582, 249, 94, 582, 60, 855, 235, 124, 571, 588, 582, 582, 3964, 69, 260, 364, 7702, 250, 113, 76, 280, 168, 2334, 2442, 776, 66, 176, 395, 104, 1896, 131, 258], \"y0\": \" \", \"yaxis\": \"y\"}],\n",
              "                        {\"legend\": {\"tracegroupgap\": 0}, \"margin\": {\"t\": 60}, \"template\": {\"data\": {\"bar\": [{\"error_x\": {\"color\": \"#2a3f5f\"}, \"error_y\": {\"color\": \"#2a3f5f\"}, \"marker\": {\"line\": {\"color\": \"#E5ECF6\", \"width\": 0.5}}, \"type\": \"bar\"}], \"barpolar\": [{\"marker\": {\"line\": {\"color\": \"#E5ECF6\", \"width\": 0.5}}, \"type\": \"barpolar\"}], \"carpet\": [{\"aaxis\": {\"endlinecolor\": \"#2a3f5f\", \"gridcolor\": \"white\", \"linecolor\": \"white\", \"minorgridcolor\": \"white\", \"startlinecolor\": \"#2a3f5f\"}, \"baxis\": {\"endlinecolor\": \"#2a3f5f\", \"gridcolor\": \"white\", \"linecolor\": \"white\", \"minorgridcolor\": \"white\", \"startlinecolor\": \"#2a3f5f\"}, \"type\": \"carpet\"}], \"choropleth\": [{\"colorbar\": {\"outlinewidth\": 0, \"ticks\": \"\"}, \"type\": \"choropleth\"}], \"contour\": [{\"colorbar\": {\"outlinewidth\": 0, \"ticks\": \"\"}, \"colorscale\": [[0.0, \"#0d0887\"], [0.1111111111111111, \"#46039f\"], [0.2222222222222222, \"#7201a8\"], [0.3333333333333333, \"#9c179e\"], [0.4444444444444444, \"#bd3786\"], [0.5555555555555556, \"#d8576b\"], [0.6666666666666666, \"#ed7953\"], [0.7777777777777778, \"#fb9f3a\"], [0.8888888888888888, \"#fdca26\"], [1.0, \"#f0f921\"]], \"type\": \"contour\"}], \"contourcarpet\": [{\"colorbar\": {\"outlinewidth\": 0, \"ticks\": \"\"}, \"type\": \"contourcarpet\"}], \"heatmap\": [{\"colorbar\": {\"outlinewidth\": 0, \"ticks\": \"\"}, \"colorscale\": [[0.0, \"#0d0887\"], [0.1111111111111111, \"#46039f\"], [0.2222222222222222, \"#7201a8\"], [0.3333333333333333, \"#9c179e\"], [0.4444444444444444, \"#bd3786\"], [0.5555555555555556, \"#d8576b\"], [0.6666666666666666, \"#ed7953\"], [0.7777777777777778, \"#fb9f3a\"], [0.8888888888888888, \"#fdca26\"], [1.0, \"#f0f921\"]], \"type\": \"heatmap\"}], \"heatmapgl\": [{\"colorbar\": {\"outlinewidth\": 0, \"ticks\": \"\"}, \"colorscale\": [[0.0, \"#0d0887\"], [0.1111111111111111, \"#46039f\"], [0.2222222222222222, \"#7201a8\"], [0.3333333333333333, \"#9c179e\"], [0.4444444444444444, \"#bd3786\"], [0.5555555555555556, \"#d8576b\"], [0.6666666666666666, \"#ed7953\"], [0.7777777777777778, \"#fb9f3a\"], [0.8888888888888888, \"#fdca26\"], [1.0, \"#f0f921\"]], \"type\": \"heatmapgl\"}], \"histogram\": [{\"marker\": {\"colorbar\": {\"outlinewidth\": 0, \"ticks\": \"\"}}, \"type\": \"histogram\"}], \"histogram2d\": [{\"colorbar\": {\"outlinewidth\": 0, \"ticks\": \"\"}, \"colorscale\": [[0.0, \"#0d0887\"], [0.1111111111111111, \"#46039f\"], [0.2222222222222222, \"#7201a8\"], [0.3333333333333333, \"#9c179e\"], [0.4444444444444444, \"#bd3786\"], [0.5555555555555556, \"#d8576b\"], [0.6666666666666666, \"#ed7953\"], [0.7777777777777778, \"#fb9f3a\"], [0.8888888888888888, \"#fdca26\"], [1.0, \"#f0f921\"]], \"type\": \"histogram2d\"}], \"histogram2dcontour\": [{\"colorbar\": {\"outlinewidth\": 0, \"ticks\": \"\"}, \"colorscale\": [[0.0, \"#0d0887\"], [0.1111111111111111, \"#46039f\"], [0.2222222222222222, \"#7201a8\"], [0.3333333333333333, \"#9c179e\"], [0.4444444444444444, \"#bd3786\"], [0.5555555555555556, \"#d8576b\"], [0.6666666666666666, \"#ed7953\"], [0.7777777777777778, \"#fb9f3a\"], [0.8888888888888888, \"#fdca26\"], [1.0, \"#f0f921\"]], \"type\": \"histogram2dcontour\"}], \"mesh3d\": [{\"colorbar\": {\"outlinewidth\": 0, \"ticks\": \"\"}, \"type\": \"mesh3d\"}], \"parcoords\": [{\"line\": {\"colorbar\": {\"outlinewidth\": 0, \"ticks\": \"\"}}, \"type\": \"parcoords\"}], \"pie\": [{\"automargin\": true, \"type\": \"pie\"}], \"scatter\": [{\"marker\": {\"colorbar\": {\"outlinewidth\": 0, \"ticks\": \"\"}}, \"type\": \"scatter\"}], \"scatter3d\": [{\"line\": {\"colorbar\": {\"outlinewidth\": 0, \"ticks\": \"\"}}, \"marker\": {\"colorbar\": {\"outlinewidth\": 0, \"ticks\": \"\"}}, \"type\": \"scatter3d\"}], \"scattercarpet\": [{\"marker\": {\"colorbar\": {\"outlinewidth\": 0, \"ticks\": \"\"}}, \"type\": \"scattercarpet\"}], \"scattergeo\": [{\"marker\": {\"colorbar\": {\"outlinewidth\": 0, \"ticks\": \"\"}}, \"type\": \"scattergeo\"}], \"scattergl\": [{\"marker\": {\"colorbar\": {\"outlinewidth\": 0, \"ticks\": \"\"}}, \"type\": \"scattergl\"}], \"scattermapbox\": [{\"marker\": {\"colorbar\": {\"outlinewidth\": 0, \"ticks\": \"\"}}, \"type\": \"scattermapbox\"}], \"scatterpolar\": [{\"marker\": {\"colorbar\": {\"outlinewidth\": 0, \"ticks\": \"\"}}, \"type\": \"scatterpolar\"}], \"scatterpolargl\": [{\"marker\": {\"colorbar\": {\"outlinewidth\": 0, \"ticks\": \"\"}}, \"type\": \"scatterpolargl\"}], \"scatterternary\": [{\"marker\": {\"colorbar\": {\"outlinewidth\": 0, \"ticks\": \"\"}}, \"type\": \"scatterternary\"}], \"surface\": [{\"colorbar\": {\"outlinewidth\": 0, \"ticks\": \"\"}, \"colorscale\": [[0.0, \"#0d0887\"], [0.1111111111111111, \"#46039f\"], [0.2222222222222222, \"#7201a8\"], [0.3333333333333333, \"#9c179e\"], [0.4444444444444444, \"#bd3786\"], [0.5555555555555556, \"#d8576b\"], [0.6666666666666666, \"#ed7953\"], [0.7777777777777778, \"#fb9f3a\"], [0.8888888888888888, \"#fdca26\"], [1.0, \"#f0f921\"]], \"type\": \"surface\"}], \"table\": [{\"cells\": {\"fill\": {\"color\": \"#EBF0F8\"}, \"line\": {\"color\": \"white\"}}, \"header\": {\"fill\": {\"color\": \"#C8D4E3\"}, \"line\": {\"color\": \"white\"}}, \"type\": \"table\"}]}, \"layout\": {\"annotationdefaults\": {\"arrowcolor\": \"#2a3f5f\", \"arrowhead\": 0, \"arrowwidth\": 1}, \"coloraxis\": {\"colorbar\": {\"outlinewidth\": 0, \"ticks\": \"\"}}, \"colorscale\": {\"diverging\": [[0, \"#8e0152\"], [0.1, \"#c51b7d\"], [0.2, \"#de77ae\"], [0.3, \"#f1b6da\"], [0.4, \"#fde0ef\"], [0.5, \"#f7f7f7\"], [0.6, \"#e6f5d0\"], [0.7, \"#b8e186\"], [0.8, \"#7fbc41\"], [0.9, \"#4d9221\"], [1, \"#276419\"]], \"sequential\": [[0.0, \"#0d0887\"], [0.1111111111111111, \"#46039f\"], [0.2222222222222222, \"#7201a8\"], [0.3333333333333333, \"#9c179e\"], [0.4444444444444444, \"#bd3786\"], [0.5555555555555556, \"#d8576b\"], [0.6666666666666666, \"#ed7953\"], [0.7777777777777778, \"#fb9f3a\"], [0.8888888888888888, \"#fdca26\"], [1.0, \"#f0f921\"]], \"sequentialminus\": [[0.0, \"#0d0887\"], [0.1111111111111111, \"#46039f\"], [0.2222222222222222, \"#7201a8\"], [0.3333333333333333, \"#9c179e\"], [0.4444444444444444, \"#bd3786\"], [0.5555555555555556, \"#d8576b\"], [0.6666666666666666, \"#ed7953\"], [0.7777777777777778, \"#fb9f3a\"], [0.8888888888888888, \"#fdca26\"], [1.0, \"#f0f921\"]]}, \"colorway\": [\"#636efa\", \"#EF553B\", \"#00cc96\", \"#ab63fa\", \"#FFA15A\", \"#19d3f3\", \"#FF6692\", \"#B6E880\", \"#FF97FF\", \"#FECB52\"], \"font\": {\"color\": \"#2a3f5f\"}, \"geo\": {\"bgcolor\": \"white\", \"lakecolor\": \"white\", \"landcolor\": \"#E5ECF6\", \"showlakes\": true, \"showland\": true, \"subunitcolor\": \"white\"}, \"hoverlabel\": {\"align\": \"left\"}, \"hovermode\": \"closest\", \"mapbox\": {\"style\": \"light\"}, \"paper_bgcolor\": \"white\", \"plot_bgcolor\": \"#E5ECF6\", \"polar\": {\"angularaxis\": {\"gridcolor\": \"white\", \"linecolor\": \"white\", \"ticks\": \"\"}, \"bgcolor\": \"#E5ECF6\", \"radialaxis\": {\"gridcolor\": \"white\", \"linecolor\": \"white\", \"ticks\": \"\"}}, \"scene\": {\"xaxis\": {\"backgroundcolor\": \"#E5ECF6\", \"gridcolor\": \"white\", \"gridwidth\": 2, \"linecolor\": \"white\", \"showbackground\": true, \"ticks\": \"\", \"zerolinecolor\": \"white\"}, \"yaxis\": {\"backgroundcolor\": \"#E5ECF6\", \"gridcolor\": \"white\", \"gridwidth\": 2, \"linecolor\": \"white\", \"showbackground\": true, \"ticks\": \"\", \"zerolinecolor\": \"white\"}, \"zaxis\": {\"backgroundcolor\": \"#E5ECF6\", \"gridcolor\": \"white\", \"gridwidth\": 2, \"linecolor\": \"white\", \"showbackground\": true, \"ticks\": \"\", \"zerolinecolor\": \"white\"}}, \"shapedefaults\": {\"line\": {\"color\": \"#2a3f5f\"}}, \"ternary\": {\"aaxis\": {\"gridcolor\": \"white\", \"linecolor\": \"white\", \"ticks\": \"\"}, \"baxis\": {\"gridcolor\": \"white\", \"linecolor\": \"white\", \"ticks\": \"\"}, \"bgcolor\": \"#E5ECF6\", \"caxis\": {\"gridcolor\": \"white\", \"linecolor\": \"white\", \"ticks\": \"\"}}, \"title\": {\"x\": 0.05}, \"xaxis\": {\"automargin\": true, \"gridcolor\": \"white\", \"linecolor\": \"white\", \"ticks\": \"\", \"title\": {\"standoff\": 15}, \"zerolinecolor\": \"white\", \"zerolinewidth\": 2}, \"yaxis\": {\"automargin\": true, \"gridcolor\": \"white\", \"linecolor\": \"white\", \"ticks\": \"\", \"title\": {\"standoff\": 15}, \"zerolinecolor\": \"white\", \"zerolinewidth\": 2}}}, \"violinmode\": \"group\", \"xaxis\": {\"anchor\": \"y\", \"domain\": [0.0, 1.0], \"title\": {\"text\": \"DEATH_EVENT\"}}, \"yaxis\": {\"anchor\": \"x\", \"domain\": [0.0, 1.0], \"title\": {\"text\": \"creatinine_phosphokinase\"}}},\n",
              "                        {\"responsive\": true}\n",
              "                    ).then(function(){\n",
              "                            \n",
              "var gd = document.getElementById('bc54618d-c128-4751-b205-f5707e1c6ad3');\n",
              "var x = new MutationObserver(function (mutations, observer) {{\n",
              "        var display = window.getComputedStyle(gd).display;\n",
              "        if (!display || display === 'none') {{\n",
              "            console.log([gd, 'removed!']);\n",
              "            Plotly.purge(gd);\n",
              "            observer.disconnect();\n",
              "        }}\n",
              "}});\n",
              "\n",
              "// Listen for the removal of the full notebook cells\n",
              "var notebookContainer = gd.closest('#notebook-container');\n",
              "if (notebookContainer) {{\n",
              "    x.observe(notebookContainer, {childList: true});\n",
              "}}\n",
              "\n",
              "// Listen for the clearing of the current output cell\n",
              "var outputEl = gd.closest('.output');\n",
              "if (outputEl) {{\n",
              "    x.observe(outputEl, {childList: true});\n",
              "}}\n",
              "\n",
              "                        })\n",
              "                };\n",
              "                \n",
              "            </script>\n",
              "        </div>\n",
              "</body>\n",
              "</html>"
            ]
          },
          "metadata": {
            "tags": []
          }
        }
      ]
    },
    {
      "cell_type": "code",
      "metadata": {
        "id": "maHFCVigxuPb",
        "colab": {
          "base_uri": "https://localhost:8080/",
          "height": 542
        },
        "outputId": "d4aa66a0-ba1b-420b-97d4-39a68b46093b"
      },
      "source": [
        "px.violin(df.loc[df['DEATH_EVENT'] == 1], x='DEATH_EVENT', y='serum_creatinine', color='high_blood_pressure')"
      ],
      "execution_count": null,
      "outputs": [
        {
          "output_type": "display_data",
          "data": {
            "text/html": [
              "<html>\n",
              "<head><meta charset=\"utf-8\" /></head>\n",
              "<body>\n",
              "    <div>\n",
              "            <script src=\"https://cdnjs.cloudflare.com/ajax/libs/mathjax/2.7.5/MathJax.js?config=TeX-AMS-MML_SVG\"></script><script type=\"text/javascript\">if (window.MathJax) {MathJax.Hub.Config({SVG: {font: \"STIX-Web\"}});}</script>\n",
              "                <script type=\"text/javascript\">window.PlotlyConfig = {MathJaxConfig: 'local'};</script>\n",
              "        <script src=\"https://cdn.plot.ly/plotly-latest.min.js\"></script>    \n",
              "            <div id=\"100ffc80-e4b3-4df6-a867-0f862d76d8fb\" class=\"plotly-graph-div\" style=\"height:525px; width:100%;\"></div>\n",
              "            <script type=\"text/javascript\">\n",
              "                \n",
              "                    window.PLOTLYENV=window.PLOTLYENV || {};\n",
              "                    \n",
              "                if (document.getElementById(\"100ffc80-e4b3-4df6-a867-0f862d76d8fb\")) {\n",
              "                    Plotly.newPlot(\n",
              "                        '100ffc80-e4b3-4df6-a867-0f862d76d8fb',\n",
              "                        [{\"alignmentgroup\": \"True\", \"box\": {\"visible\": false}, \"hoverlabel\": {\"namelength\": 0}, \"hovertemplate\": \"high_blood_pressure=1<br>DEATH_EVENT=%{x}<br>serum_creatinine=%{y}\", \"legendgroup\": \"high_blood_pressure=1\", \"marker\": {\"color\": \"#636efa\"}, \"name\": \"high_blood_pressure=1\", \"offsetgroup\": \"high_blood_pressure=1\", \"orientation\": \"v\", \"scalegroup\": \"True\", \"showlegend\": true, \"type\": \"violin\", \"x\": [1, 1, 1, 1, 1, 1, 1, 1, 1, 1, 1, 1, 1, 1, 1, 1, 1, 1, 1, 1, 1, 1, 1, 1, 1, 1, 1, 1, 1, 1, 1, 1, 1, 1, 1, 1, 1, 1, 1], \"x0\": \" \", \"xaxis\": \"x\", \"y\": [1.9, 2.1, 9.4, 4.0, 0.9, 1.1, 1.0, 1.6, 0.9, 1.83, 1.0, 1.3, 1.83, 1.0, 1.0, 1.0, 1.83, 1.2, 1.2, 0.9, 0.6, 4.4, 1.0, 1.4, 1.0, 1.1, 1.3, 1.0, 2.3, 1.0, 1.7, 2.1, 1.7, 2.5, 1.3, 2.5, 1.6, 1.6, 9.0], \"y0\": \" \", \"yaxis\": \"y\"}, {\"alignmentgroup\": \"True\", \"box\": {\"visible\": false}, \"hoverlabel\": {\"namelength\": 0}, \"hovertemplate\": \"high_blood_pressure=0<br>DEATH_EVENT=%{x}<br>serum_creatinine=%{y}\", \"legendgroup\": \"high_blood_pressure=0\", \"marker\": {\"color\": \"#EF553B\"}, \"name\": \"high_blood_pressure=0\", \"offsetgroup\": \"high_blood_pressure=0\", \"orientation\": \"v\", \"scalegroup\": \"True\", \"showlegend\": true, \"type\": \"violin\", \"x\": [1, 1, 1, 1, 1, 1, 1, 1, 1, 1, 1, 1, 1, 1, 1, 1, 1, 1, 1, 1, 1, 1, 1, 1, 1, 1, 1, 1, 1, 1, 1, 1, 1, 1, 1, 1, 1, 1, 1, 1, 1, 1, 1, 1, 1, 1, 1, 1, 1, 1, 1, 1, 1, 1, 1, 1, 1], \"x0\": \" \", \"xaxis\": \"x\", \"y\": [1.1, 1.3, 1.9, 2.7, 1.2, 1.1, 1.5, 1.1, 1.3, 0.9, 0.8, 1.9, 1.9, 5.8, 1.2, 3.0, 3.5, 1.0, 3.0, 1.1, 1.9, 1.0, 6.8, 2.2, 2.0, 1.0, 2.9, 1.3, 1.0, 1.2, 1.83, 1.0, 1.2, 0.7, 2.5, 1.7, 1.2, 1.3, 1.83, 3.7, 1.1, 1.83, 0.9, 1.1, 2.4, 1.0, 1.2, 1.2, 1.5, 0.6, 2.1, 1.8, 1.83, 1.7, 1.1, 1.4, 1.83], \"y0\": \" \", \"yaxis\": \"y\"}],\n",
              "                        {\"legend\": {\"tracegroupgap\": 0}, \"margin\": {\"t\": 60}, \"template\": {\"data\": {\"bar\": [{\"error_x\": {\"color\": \"#2a3f5f\"}, \"error_y\": {\"color\": \"#2a3f5f\"}, \"marker\": {\"line\": {\"color\": \"#E5ECF6\", \"width\": 0.5}}, \"type\": \"bar\"}], \"barpolar\": [{\"marker\": {\"line\": {\"color\": \"#E5ECF6\", \"width\": 0.5}}, \"type\": \"barpolar\"}], \"carpet\": [{\"aaxis\": {\"endlinecolor\": \"#2a3f5f\", \"gridcolor\": \"white\", \"linecolor\": \"white\", \"minorgridcolor\": \"white\", \"startlinecolor\": \"#2a3f5f\"}, \"baxis\": {\"endlinecolor\": \"#2a3f5f\", \"gridcolor\": \"white\", \"linecolor\": \"white\", \"minorgridcolor\": \"white\", \"startlinecolor\": \"#2a3f5f\"}, \"type\": \"carpet\"}], \"choropleth\": [{\"colorbar\": {\"outlinewidth\": 0, \"ticks\": \"\"}, \"type\": \"choropleth\"}], \"contour\": [{\"colorbar\": {\"outlinewidth\": 0, \"ticks\": \"\"}, \"colorscale\": [[0.0, \"#0d0887\"], [0.1111111111111111, \"#46039f\"], [0.2222222222222222, \"#7201a8\"], [0.3333333333333333, \"#9c179e\"], [0.4444444444444444, \"#bd3786\"], [0.5555555555555556, \"#d8576b\"], [0.6666666666666666, \"#ed7953\"], [0.7777777777777778, \"#fb9f3a\"], [0.8888888888888888, \"#fdca26\"], [1.0, \"#f0f921\"]], \"type\": \"contour\"}], \"contourcarpet\": [{\"colorbar\": {\"outlinewidth\": 0, \"ticks\": \"\"}, \"type\": \"contourcarpet\"}], \"heatmap\": [{\"colorbar\": {\"outlinewidth\": 0, \"ticks\": \"\"}, \"colorscale\": [[0.0, \"#0d0887\"], [0.1111111111111111, \"#46039f\"], [0.2222222222222222, \"#7201a8\"], [0.3333333333333333, \"#9c179e\"], [0.4444444444444444, \"#bd3786\"], [0.5555555555555556, \"#d8576b\"], [0.6666666666666666, \"#ed7953\"], [0.7777777777777778, \"#fb9f3a\"], [0.8888888888888888, \"#fdca26\"], [1.0, \"#f0f921\"]], \"type\": \"heatmap\"}], \"heatmapgl\": [{\"colorbar\": {\"outlinewidth\": 0, \"ticks\": \"\"}, \"colorscale\": [[0.0, \"#0d0887\"], [0.1111111111111111, \"#46039f\"], [0.2222222222222222, \"#7201a8\"], [0.3333333333333333, \"#9c179e\"], [0.4444444444444444, \"#bd3786\"], [0.5555555555555556, \"#d8576b\"], [0.6666666666666666, \"#ed7953\"], [0.7777777777777778, \"#fb9f3a\"], [0.8888888888888888, \"#fdca26\"], [1.0, \"#f0f921\"]], \"type\": \"heatmapgl\"}], \"histogram\": [{\"marker\": {\"colorbar\": {\"outlinewidth\": 0, \"ticks\": \"\"}}, \"type\": \"histogram\"}], \"histogram2d\": [{\"colorbar\": {\"outlinewidth\": 0, \"ticks\": \"\"}, \"colorscale\": [[0.0, \"#0d0887\"], [0.1111111111111111, \"#46039f\"], [0.2222222222222222, \"#7201a8\"], [0.3333333333333333, \"#9c179e\"], [0.4444444444444444, \"#bd3786\"], [0.5555555555555556, \"#d8576b\"], [0.6666666666666666, \"#ed7953\"], [0.7777777777777778, \"#fb9f3a\"], [0.8888888888888888, \"#fdca26\"], [1.0, \"#f0f921\"]], \"type\": \"histogram2d\"}], \"histogram2dcontour\": [{\"colorbar\": {\"outlinewidth\": 0, \"ticks\": \"\"}, \"colorscale\": [[0.0, \"#0d0887\"], [0.1111111111111111, \"#46039f\"], [0.2222222222222222, \"#7201a8\"], [0.3333333333333333, \"#9c179e\"], [0.4444444444444444, \"#bd3786\"], [0.5555555555555556, \"#d8576b\"], [0.6666666666666666, \"#ed7953\"], [0.7777777777777778, \"#fb9f3a\"], [0.8888888888888888, \"#fdca26\"], [1.0, \"#f0f921\"]], \"type\": \"histogram2dcontour\"}], \"mesh3d\": [{\"colorbar\": {\"outlinewidth\": 0, \"ticks\": \"\"}, \"type\": \"mesh3d\"}], \"parcoords\": [{\"line\": {\"colorbar\": {\"outlinewidth\": 0, \"ticks\": \"\"}}, \"type\": \"parcoords\"}], \"pie\": [{\"automargin\": true, \"type\": \"pie\"}], \"scatter\": [{\"marker\": {\"colorbar\": {\"outlinewidth\": 0, \"ticks\": \"\"}}, \"type\": \"scatter\"}], \"scatter3d\": [{\"line\": {\"colorbar\": {\"outlinewidth\": 0, \"ticks\": \"\"}}, \"marker\": {\"colorbar\": {\"outlinewidth\": 0, \"ticks\": \"\"}}, \"type\": \"scatter3d\"}], \"scattercarpet\": [{\"marker\": {\"colorbar\": {\"outlinewidth\": 0, \"ticks\": \"\"}}, \"type\": \"scattercarpet\"}], \"scattergeo\": [{\"marker\": {\"colorbar\": {\"outlinewidth\": 0, \"ticks\": \"\"}}, \"type\": \"scattergeo\"}], \"scattergl\": [{\"marker\": {\"colorbar\": {\"outlinewidth\": 0, \"ticks\": \"\"}}, \"type\": \"scattergl\"}], \"scattermapbox\": [{\"marker\": {\"colorbar\": {\"outlinewidth\": 0, \"ticks\": \"\"}}, \"type\": \"scattermapbox\"}], \"scatterpolar\": [{\"marker\": {\"colorbar\": {\"outlinewidth\": 0, \"ticks\": \"\"}}, \"type\": \"scatterpolar\"}], \"scatterpolargl\": [{\"marker\": {\"colorbar\": {\"outlinewidth\": 0, \"ticks\": \"\"}}, \"type\": \"scatterpolargl\"}], \"scatterternary\": [{\"marker\": {\"colorbar\": {\"outlinewidth\": 0, \"ticks\": \"\"}}, \"type\": \"scatterternary\"}], \"surface\": [{\"colorbar\": {\"outlinewidth\": 0, \"ticks\": \"\"}, \"colorscale\": [[0.0, \"#0d0887\"], [0.1111111111111111, \"#46039f\"], [0.2222222222222222, \"#7201a8\"], [0.3333333333333333, \"#9c179e\"], [0.4444444444444444, \"#bd3786\"], [0.5555555555555556, \"#d8576b\"], [0.6666666666666666, \"#ed7953\"], [0.7777777777777778, \"#fb9f3a\"], [0.8888888888888888, \"#fdca26\"], [1.0, \"#f0f921\"]], \"type\": \"surface\"}], \"table\": [{\"cells\": {\"fill\": {\"color\": \"#EBF0F8\"}, \"line\": {\"color\": \"white\"}}, \"header\": {\"fill\": {\"color\": \"#C8D4E3\"}, \"line\": {\"color\": \"white\"}}, \"type\": \"table\"}]}, \"layout\": {\"annotationdefaults\": {\"arrowcolor\": \"#2a3f5f\", \"arrowhead\": 0, \"arrowwidth\": 1}, \"coloraxis\": {\"colorbar\": {\"outlinewidth\": 0, \"ticks\": \"\"}}, \"colorscale\": {\"diverging\": [[0, \"#8e0152\"], [0.1, \"#c51b7d\"], [0.2, \"#de77ae\"], [0.3, \"#f1b6da\"], [0.4, \"#fde0ef\"], [0.5, \"#f7f7f7\"], [0.6, \"#e6f5d0\"], [0.7, \"#b8e186\"], [0.8, \"#7fbc41\"], [0.9, \"#4d9221\"], [1, \"#276419\"]], \"sequential\": [[0.0, \"#0d0887\"], [0.1111111111111111, \"#46039f\"], [0.2222222222222222, \"#7201a8\"], [0.3333333333333333, \"#9c179e\"], [0.4444444444444444, \"#bd3786\"], [0.5555555555555556, \"#d8576b\"], [0.6666666666666666, \"#ed7953\"], [0.7777777777777778, \"#fb9f3a\"], [0.8888888888888888, \"#fdca26\"], [1.0, \"#f0f921\"]], \"sequentialminus\": [[0.0, \"#0d0887\"], [0.1111111111111111, \"#46039f\"], [0.2222222222222222, \"#7201a8\"], [0.3333333333333333, \"#9c179e\"], [0.4444444444444444, \"#bd3786\"], [0.5555555555555556, \"#d8576b\"], [0.6666666666666666, \"#ed7953\"], [0.7777777777777778, \"#fb9f3a\"], [0.8888888888888888, \"#fdca26\"], [1.0, \"#f0f921\"]]}, \"colorway\": [\"#636efa\", \"#EF553B\", \"#00cc96\", \"#ab63fa\", \"#FFA15A\", \"#19d3f3\", \"#FF6692\", \"#B6E880\", \"#FF97FF\", \"#FECB52\"], \"font\": {\"color\": \"#2a3f5f\"}, \"geo\": {\"bgcolor\": \"white\", \"lakecolor\": \"white\", \"landcolor\": \"#E5ECF6\", \"showlakes\": true, \"showland\": true, \"subunitcolor\": \"white\"}, \"hoverlabel\": {\"align\": \"left\"}, \"hovermode\": \"closest\", \"mapbox\": {\"style\": \"light\"}, \"paper_bgcolor\": \"white\", \"plot_bgcolor\": \"#E5ECF6\", \"polar\": {\"angularaxis\": {\"gridcolor\": \"white\", \"linecolor\": \"white\", \"ticks\": \"\"}, \"bgcolor\": \"#E5ECF6\", \"radialaxis\": {\"gridcolor\": \"white\", \"linecolor\": \"white\", \"ticks\": \"\"}}, \"scene\": {\"xaxis\": {\"backgroundcolor\": \"#E5ECF6\", \"gridcolor\": \"white\", \"gridwidth\": 2, \"linecolor\": \"white\", \"showbackground\": true, \"ticks\": \"\", \"zerolinecolor\": \"white\"}, \"yaxis\": {\"backgroundcolor\": \"#E5ECF6\", \"gridcolor\": \"white\", \"gridwidth\": 2, \"linecolor\": \"white\", \"showbackground\": true, \"ticks\": \"\", \"zerolinecolor\": \"white\"}, \"zaxis\": {\"backgroundcolor\": \"#E5ECF6\", \"gridcolor\": \"white\", \"gridwidth\": 2, \"linecolor\": \"white\", \"showbackground\": true, \"ticks\": \"\", \"zerolinecolor\": \"white\"}}, \"shapedefaults\": {\"line\": {\"color\": \"#2a3f5f\"}}, \"ternary\": {\"aaxis\": {\"gridcolor\": \"white\", \"linecolor\": \"white\", \"ticks\": \"\"}, \"baxis\": {\"gridcolor\": \"white\", \"linecolor\": \"white\", \"ticks\": \"\"}, \"bgcolor\": \"#E5ECF6\", \"caxis\": {\"gridcolor\": \"white\", \"linecolor\": \"white\", \"ticks\": \"\"}}, \"title\": {\"x\": 0.05}, \"xaxis\": {\"automargin\": true, \"gridcolor\": \"white\", \"linecolor\": \"white\", \"ticks\": \"\", \"title\": {\"standoff\": 15}, \"zerolinecolor\": \"white\", \"zerolinewidth\": 2}, \"yaxis\": {\"automargin\": true, \"gridcolor\": \"white\", \"linecolor\": \"white\", \"ticks\": \"\", \"title\": {\"standoff\": 15}, \"zerolinecolor\": \"white\", \"zerolinewidth\": 2}}}, \"violinmode\": \"group\", \"xaxis\": {\"anchor\": \"y\", \"domain\": [0.0, 1.0], \"title\": {\"text\": \"DEATH_EVENT\"}}, \"yaxis\": {\"anchor\": \"x\", \"domain\": [0.0, 1.0], \"title\": {\"text\": \"serum_creatinine\"}}},\n",
              "                        {\"responsive\": true}\n",
              "                    ).then(function(){\n",
              "                            \n",
              "var gd = document.getElementById('100ffc80-e4b3-4df6-a867-0f862d76d8fb');\n",
              "var x = new MutationObserver(function (mutations, observer) {{\n",
              "        var display = window.getComputedStyle(gd).display;\n",
              "        if (!display || display === 'none') {{\n",
              "            console.log([gd, 'removed!']);\n",
              "            Plotly.purge(gd);\n",
              "            observer.disconnect();\n",
              "        }}\n",
              "}});\n",
              "\n",
              "// Listen for the removal of the full notebook cells\n",
              "var notebookContainer = gd.closest('#notebook-container');\n",
              "if (notebookContainer) {{\n",
              "    x.observe(notebookContainer, {childList: true});\n",
              "}}\n",
              "\n",
              "// Listen for the clearing of the current output cell\n",
              "var outputEl = gd.closest('.output');\n",
              "if (outputEl) {{\n",
              "    x.observe(outputEl, {childList: true});\n",
              "}}\n",
              "\n",
              "                        })\n",
              "                };\n",
              "                \n",
              "            </script>\n",
              "        </div>\n",
              "</body>\n",
              "</html>"
            ]
          },
          "metadata": {
            "tags": []
          }
        }
      ]
    },
    {
      "cell_type": "code",
      "metadata": {
        "id": "r_-JijAkVgeF"
      },
      "source": [
        "#data visualization using dist plot\n",
        "import seaborn as sns\n",
        "fig, ax = plt.subplots(4,2, figsize=(16,16))\n",
        "sns.distplot(df.age, bins = 20, ax=ax[0,0])\n",
        "sns.distplot(df.anaemia, bins = 20, ax=ax[0,1])\n",
        "sns.distplot(df.creatinine_phosphokinase, bins = 20, ax=ax[1,0])\n",
        "sns.distplot(df.diabetes, bins = 20, ax=ax[1,1])\n",
        "sns.distplot(df.ejection_fraction, bins = 20, ax=ax[2,0])\n",
        "sns.distplot(df.high_blood_pressure, bins = 20, ax=ax[2,1])\n",
        "sns.distplot(df.platelets, bins = 20, ax=ax[3,0])\n",
        "sns.distplot(df.serum_creatinine, bins = 20, ax=ax[3,1]) \n",
        "sns.distplot(df.serum_sodium, bins = 20, ax=ax[3,1]) \n",
        "sns.distplot(df.sex, bins = 20, ax=ax[3,1]) \n",
        "sns.distplot(df.smoking, bins = 20, ax=ax[3,1])"
      ],
      "execution_count": null,
      "outputs": []
    },
    {
      "cell_type": "code",
      "metadata": {
        "id": "DpszrIN50AIY",
        "colab": {
          "base_uri": "https://localhost:8080/",
          "height": 111
        },
        "outputId": "04504fc7-786d-4642-a2a9-7cea87162490"
      },
      "source": [
        "x1=df[(df['smoking']==1)&(df['DEATH_EVENT']==1)]\n",
        "x2=df[(df['smoking']==0)&(df['DEATH_EVENT']==1)]\n",
        "#x3=df[(df['smoking']==1)&(df['DEATH_EVENT']==0)]\n",
        "#x4=df[(df['smoking']==0)&(df['DEATH_EVENT']==0)]\n",
        "#data = [['Smoking = 1 & Death = 1', x1['age'].count()], ['Smoking = 0 & Death = 1', x2['age'].count()], ['Smoking = 1 & Death = 0', x3['age'].count()],['Smoking = 0 & Death = 0', x4['age'].count()]]\n",
        "data = [['Smoking = 1 & Death = 1', x1['age'].count()], ['Smoking = 0 & Death = 1', x2['age'].count()]]\n",
        "SDCOR = pd.DataFrame(data, columns = ['Category', 'Count'])\n",
        "SDCOR"
      ],
      "execution_count": null,
      "outputs": [
        {
          "output_type": "execute_result",
          "data": {
            "text/html": [
              "<div>\n",
              "<style scoped>\n",
              "    .dataframe tbody tr th:only-of-type {\n",
              "        vertical-align: middle;\n",
              "    }\n",
              "\n",
              "    .dataframe tbody tr th {\n",
              "        vertical-align: top;\n",
              "    }\n",
              "\n",
              "    .dataframe thead th {\n",
              "        text-align: right;\n",
              "    }\n",
              "</style>\n",
              "<table border=\"1\" class=\"dataframe\">\n",
              "  <thead>\n",
              "    <tr style=\"text-align: right;\">\n",
              "      <th></th>\n",
              "      <th>Category</th>\n",
              "      <th>Count</th>\n",
              "    </tr>\n",
              "  </thead>\n",
              "  <tbody>\n",
              "    <tr>\n",
              "      <th>0</th>\n",
              "      <td>Smoking = 1 &amp; Death = 1</td>\n",
              "      <td>30</td>\n",
              "    </tr>\n",
              "    <tr>\n",
              "      <th>1</th>\n",
              "      <td>Smoking = 0 &amp; Death = 1</td>\n",
              "      <td>66</td>\n",
              "    </tr>\n",
              "  </tbody>\n",
              "</table>\n",
              "</div>"
            ],
            "text/plain": [
              "                  Category  Count\n",
              "0  Smoking = 1 & Death = 1     30\n",
              "1  Smoking = 0 & Death = 1     66"
            ]
          },
          "metadata": {
            "tags": []
          },
          "execution_count": 14
        }
      ]
    },
    {
      "cell_type": "code",
      "metadata": {
        "colab": {
          "base_uri": "https://localhost:8080/",
          "height": 542
        },
        "id": "eagye6e-2M8R",
        "outputId": "8bfb1750-1193-4bd4-b206-d3cd3271633e"
      },
      "source": [
        "px.pie(SDCOR,names='Category',values='Count',color=['0','1'])"
      ],
      "execution_count": null,
      "outputs": [
        {
          "output_type": "display_data",
          "data": {
            "text/html": [
              "<html>\n",
              "<head><meta charset=\"utf-8\" /></head>\n",
              "<body>\n",
              "    <div>\n",
              "            <script src=\"https://cdnjs.cloudflare.com/ajax/libs/mathjax/2.7.5/MathJax.js?config=TeX-AMS-MML_SVG\"></script><script type=\"text/javascript\">if (window.MathJax) {MathJax.Hub.Config({SVG: {font: \"STIX-Web\"}});}</script>\n",
              "                <script type=\"text/javascript\">window.PlotlyConfig = {MathJaxConfig: 'local'};</script>\n",
              "        <script src=\"https://cdn.plot.ly/plotly-latest.min.js\"></script>    \n",
              "            <div id=\"190fdec3-6c5f-4c36-b4e6-424e433e276e\" class=\"plotly-graph-div\" style=\"height:525px; width:100%;\"></div>\n",
              "            <script type=\"text/javascript\">\n",
              "                \n",
              "                    window.PLOTLYENV=window.PLOTLYENV || {};\n",
              "                    \n",
              "                if (document.getElementById(\"190fdec3-6c5f-4c36-b4e6-424e433e276e\")) {\n",
              "                    Plotly.newPlot(\n",
              "                        '190fdec3-6c5f-4c36-b4e6-424e433e276e',\n",
              "                        [{\"customdata\": [[\"0\"], [\"1\"]], \"domain\": {\"x\": [0.0, 1.0], \"y\": [0.0, 1.0]}, \"hoverlabel\": {\"namelength\": 0}, \"hovertemplate\": \"color=%{customdata[0]}<br>Category=%{label}<br>Count=%{value}\", \"labels\": [\"Smoking = 1 & Death = 1\", \"Smoking = 0 & Death = 1\"], \"legendgroup\": \"\", \"marker\": {\"colors\": [\"#636efa\", \"#EF553B\"]}, \"name\": \"\", \"showlegend\": true, \"type\": \"pie\", \"values\": [30, 66]}],\n",
              "                        {\"legend\": {\"tracegroupgap\": 0}, \"margin\": {\"t\": 60}, \"template\": {\"data\": {\"bar\": [{\"error_x\": {\"color\": \"#2a3f5f\"}, \"error_y\": {\"color\": \"#2a3f5f\"}, \"marker\": {\"line\": {\"color\": \"#E5ECF6\", \"width\": 0.5}}, \"type\": \"bar\"}], \"barpolar\": [{\"marker\": {\"line\": {\"color\": \"#E5ECF6\", \"width\": 0.5}}, \"type\": \"barpolar\"}], \"carpet\": [{\"aaxis\": {\"endlinecolor\": \"#2a3f5f\", \"gridcolor\": \"white\", \"linecolor\": \"white\", \"minorgridcolor\": \"white\", \"startlinecolor\": \"#2a3f5f\"}, \"baxis\": {\"endlinecolor\": \"#2a3f5f\", \"gridcolor\": \"white\", \"linecolor\": \"white\", \"minorgridcolor\": \"white\", \"startlinecolor\": \"#2a3f5f\"}, \"type\": \"carpet\"}], \"choropleth\": [{\"colorbar\": {\"outlinewidth\": 0, \"ticks\": \"\"}, \"type\": \"choropleth\"}], \"contour\": [{\"colorbar\": {\"outlinewidth\": 0, \"ticks\": \"\"}, \"colorscale\": [[0.0, \"#0d0887\"], [0.1111111111111111, \"#46039f\"], [0.2222222222222222, \"#7201a8\"], [0.3333333333333333, \"#9c179e\"], [0.4444444444444444, \"#bd3786\"], [0.5555555555555556, \"#d8576b\"], [0.6666666666666666, \"#ed7953\"], [0.7777777777777778, \"#fb9f3a\"], [0.8888888888888888, \"#fdca26\"], [1.0, \"#f0f921\"]], \"type\": \"contour\"}], \"contourcarpet\": [{\"colorbar\": {\"outlinewidth\": 0, \"ticks\": \"\"}, \"type\": \"contourcarpet\"}], \"heatmap\": [{\"colorbar\": {\"outlinewidth\": 0, \"ticks\": \"\"}, \"colorscale\": [[0.0, \"#0d0887\"], [0.1111111111111111, \"#46039f\"], [0.2222222222222222, \"#7201a8\"], [0.3333333333333333, \"#9c179e\"], [0.4444444444444444, \"#bd3786\"], [0.5555555555555556, \"#d8576b\"], [0.6666666666666666, \"#ed7953\"], [0.7777777777777778, \"#fb9f3a\"], [0.8888888888888888, \"#fdca26\"], [1.0, \"#f0f921\"]], \"type\": \"heatmap\"}], \"heatmapgl\": [{\"colorbar\": {\"outlinewidth\": 0, \"ticks\": \"\"}, \"colorscale\": [[0.0, \"#0d0887\"], [0.1111111111111111, \"#46039f\"], [0.2222222222222222, \"#7201a8\"], [0.3333333333333333, \"#9c179e\"], [0.4444444444444444, \"#bd3786\"], [0.5555555555555556, \"#d8576b\"], [0.6666666666666666, \"#ed7953\"], [0.7777777777777778, \"#fb9f3a\"], [0.8888888888888888, \"#fdca26\"], [1.0, \"#f0f921\"]], \"type\": \"heatmapgl\"}], \"histogram\": [{\"marker\": {\"colorbar\": {\"outlinewidth\": 0, \"ticks\": \"\"}}, \"type\": \"histogram\"}], \"histogram2d\": [{\"colorbar\": {\"outlinewidth\": 0, \"ticks\": \"\"}, \"colorscale\": [[0.0, \"#0d0887\"], [0.1111111111111111, \"#46039f\"], [0.2222222222222222, \"#7201a8\"], [0.3333333333333333, \"#9c179e\"], [0.4444444444444444, \"#bd3786\"], [0.5555555555555556, \"#d8576b\"], [0.6666666666666666, \"#ed7953\"], [0.7777777777777778, \"#fb9f3a\"], [0.8888888888888888, \"#fdca26\"], [1.0, \"#f0f921\"]], \"type\": \"histogram2d\"}], \"histogram2dcontour\": [{\"colorbar\": {\"outlinewidth\": 0, \"ticks\": \"\"}, \"colorscale\": [[0.0, \"#0d0887\"], [0.1111111111111111, \"#46039f\"], [0.2222222222222222, \"#7201a8\"], [0.3333333333333333, \"#9c179e\"], [0.4444444444444444, \"#bd3786\"], [0.5555555555555556, \"#d8576b\"], [0.6666666666666666, \"#ed7953\"], [0.7777777777777778, \"#fb9f3a\"], [0.8888888888888888, \"#fdca26\"], [1.0, \"#f0f921\"]], \"type\": \"histogram2dcontour\"}], \"mesh3d\": [{\"colorbar\": {\"outlinewidth\": 0, \"ticks\": \"\"}, \"type\": \"mesh3d\"}], \"parcoords\": [{\"line\": {\"colorbar\": {\"outlinewidth\": 0, \"ticks\": \"\"}}, \"type\": \"parcoords\"}], \"pie\": [{\"automargin\": true, \"type\": \"pie\"}], \"scatter\": [{\"marker\": {\"colorbar\": {\"outlinewidth\": 0, \"ticks\": \"\"}}, \"type\": \"scatter\"}], \"scatter3d\": [{\"line\": {\"colorbar\": {\"outlinewidth\": 0, \"ticks\": \"\"}}, \"marker\": {\"colorbar\": {\"outlinewidth\": 0, \"ticks\": \"\"}}, \"type\": \"scatter3d\"}], \"scattercarpet\": [{\"marker\": {\"colorbar\": {\"outlinewidth\": 0, \"ticks\": \"\"}}, \"type\": \"scattercarpet\"}], \"scattergeo\": [{\"marker\": {\"colorbar\": {\"outlinewidth\": 0, \"ticks\": \"\"}}, \"type\": \"scattergeo\"}], \"scattergl\": [{\"marker\": {\"colorbar\": {\"outlinewidth\": 0, \"ticks\": \"\"}}, \"type\": \"scattergl\"}], \"scattermapbox\": [{\"marker\": {\"colorbar\": {\"outlinewidth\": 0, \"ticks\": \"\"}}, \"type\": \"scattermapbox\"}], \"scatterpolar\": [{\"marker\": {\"colorbar\": {\"outlinewidth\": 0, \"ticks\": \"\"}}, \"type\": \"scatterpolar\"}], \"scatterpolargl\": [{\"marker\": {\"colorbar\": {\"outlinewidth\": 0, \"ticks\": \"\"}}, \"type\": \"scatterpolargl\"}], \"scatterternary\": [{\"marker\": {\"colorbar\": {\"outlinewidth\": 0, \"ticks\": \"\"}}, \"type\": \"scatterternary\"}], \"surface\": [{\"colorbar\": {\"outlinewidth\": 0, \"ticks\": \"\"}, \"colorscale\": [[0.0, \"#0d0887\"], [0.1111111111111111, \"#46039f\"], [0.2222222222222222, \"#7201a8\"], [0.3333333333333333, \"#9c179e\"], [0.4444444444444444, \"#bd3786\"], [0.5555555555555556, \"#d8576b\"], [0.6666666666666666, \"#ed7953\"], [0.7777777777777778, \"#fb9f3a\"], [0.8888888888888888, \"#fdca26\"], [1.0, \"#f0f921\"]], \"type\": \"surface\"}], \"table\": [{\"cells\": {\"fill\": {\"color\": \"#EBF0F8\"}, \"line\": {\"color\": \"white\"}}, \"header\": {\"fill\": {\"color\": \"#C8D4E3\"}, \"line\": {\"color\": \"white\"}}, \"type\": \"table\"}]}, \"layout\": {\"annotationdefaults\": {\"arrowcolor\": \"#2a3f5f\", \"arrowhead\": 0, \"arrowwidth\": 1}, \"coloraxis\": {\"colorbar\": {\"outlinewidth\": 0, \"ticks\": \"\"}}, \"colorscale\": {\"diverging\": [[0, \"#8e0152\"], [0.1, \"#c51b7d\"], [0.2, \"#de77ae\"], [0.3, \"#f1b6da\"], [0.4, \"#fde0ef\"], [0.5, \"#f7f7f7\"], [0.6, \"#e6f5d0\"], [0.7, \"#b8e186\"], [0.8, \"#7fbc41\"], [0.9, \"#4d9221\"], [1, \"#276419\"]], \"sequential\": [[0.0, \"#0d0887\"], [0.1111111111111111, \"#46039f\"], [0.2222222222222222, \"#7201a8\"], [0.3333333333333333, \"#9c179e\"], [0.4444444444444444, \"#bd3786\"], [0.5555555555555556, \"#d8576b\"], [0.6666666666666666, \"#ed7953\"], [0.7777777777777778, \"#fb9f3a\"], [0.8888888888888888, \"#fdca26\"], [1.0, \"#f0f921\"]], \"sequentialminus\": [[0.0, \"#0d0887\"], [0.1111111111111111, \"#46039f\"], [0.2222222222222222, \"#7201a8\"], [0.3333333333333333, \"#9c179e\"], [0.4444444444444444, \"#bd3786\"], [0.5555555555555556, \"#d8576b\"], [0.6666666666666666, \"#ed7953\"], [0.7777777777777778, \"#fb9f3a\"], [0.8888888888888888, \"#fdca26\"], [1.0, \"#f0f921\"]]}, \"colorway\": [\"#636efa\", \"#EF553B\", \"#00cc96\", \"#ab63fa\", \"#FFA15A\", \"#19d3f3\", \"#FF6692\", \"#B6E880\", \"#FF97FF\", \"#FECB52\"], \"font\": {\"color\": \"#2a3f5f\"}, \"geo\": {\"bgcolor\": \"white\", \"lakecolor\": \"white\", \"landcolor\": \"#E5ECF6\", \"showlakes\": true, \"showland\": true, \"subunitcolor\": \"white\"}, \"hoverlabel\": {\"align\": \"left\"}, \"hovermode\": \"closest\", \"mapbox\": {\"style\": \"light\"}, \"paper_bgcolor\": \"white\", \"plot_bgcolor\": \"#E5ECF6\", \"polar\": {\"angularaxis\": {\"gridcolor\": \"white\", \"linecolor\": \"white\", \"ticks\": \"\"}, \"bgcolor\": \"#E5ECF6\", \"radialaxis\": {\"gridcolor\": \"white\", \"linecolor\": \"white\", \"ticks\": \"\"}}, \"scene\": {\"xaxis\": {\"backgroundcolor\": \"#E5ECF6\", \"gridcolor\": \"white\", \"gridwidth\": 2, \"linecolor\": \"white\", \"showbackground\": true, \"ticks\": \"\", \"zerolinecolor\": \"white\"}, \"yaxis\": {\"backgroundcolor\": \"#E5ECF6\", \"gridcolor\": \"white\", \"gridwidth\": 2, \"linecolor\": \"white\", \"showbackground\": true, \"ticks\": \"\", \"zerolinecolor\": \"white\"}, \"zaxis\": {\"backgroundcolor\": \"#E5ECF6\", \"gridcolor\": \"white\", \"gridwidth\": 2, \"linecolor\": \"white\", \"showbackground\": true, \"ticks\": \"\", \"zerolinecolor\": \"white\"}}, \"shapedefaults\": {\"line\": {\"color\": \"#2a3f5f\"}}, \"ternary\": {\"aaxis\": {\"gridcolor\": \"white\", \"linecolor\": \"white\", \"ticks\": \"\"}, \"baxis\": {\"gridcolor\": \"white\", \"linecolor\": \"white\", \"ticks\": \"\"}, \"bgcolor\": \"#E5ECF6\", \"caxis\": {\"gridcolor\": \"white\", \"linecolor\": \"white\", \"ticks\": \"\"}}, \"title\": {\"x\": 0.05}, \"xaxis\": {\"automargin\": true, \"gridcolor\": \"white\", \"linecolor\": \"white\", \"ticks\": \"\", \"title\": {\"standoff\": 15}, \"zerolinecolor\": \"white\", \"zerolinewidth\": 2}, \"yaxis\": {\"automargin\": true, \"gridcolor\": \"white\", \"linecolor\": \"white\", \"ticks\": \"\", \"title\": {\"standoff\": 15}, \"zerolinecolor\": \"white\", \"zerolinewidth\": 2}}}},\n",
              "                        {\"responsive\": true}\n",
              "                    ).then(function(){\n",
              "                            \n",
              "var gd = document.getElementById('190fdec3-6c5f-4c36-b4e6-424e433e276e');\n",
              "var x = new MutationObserver(function (mutations, observer) {{\n",
              "        var display = window.getComputedStyle(gd).display;\n",
              "        if (!display || display === 'none') {{\n",
              "            console.log([gd, 'removed!']);\n",
              "            Plotly.purge(gd);\n",
              "            observer.disconnect();\n",
              "        }}\n",
              "}});\n",
              "\n",
              "// Listen for the removal of the full notebook cells\n",
              "var notebookContainer = gd.closest('#notebook-container');\n",
              "if (notebookContainer) {{\n",
              "    x.observe(notebookContainer, {childList: true});\n",
              "}}\n",
              "\n",
              "// Listen for the clearing of the current output cell\n",
              "var outputEl = gd.closest('.output');\n",
              "if (outputEl) {{\n",
              "    x.observe(outputEl, {childList: true});\n",
              "}}\n",
              "\n",
              "                        })\n",
              "                };\n",
              "                \n",
              "            </script>\n",
              "        </div>\n",
              "</body>\n",
              "</html>"
            ]
          },
          "metadata": {
            "tags": []
          }
        }
      ]
    },
    {
      "cell_type": "code",
      "metadata": {
        "colab": {
          "base_uri": "https://localhost:8080/",
          "height": 111
        },
        "id": "yfYD10DM8txw",
        "outputId": "b0ef9641-41b8-44d7-8bbc-a768d06d6b88"
      },
      "source": [
        "x1=df[(df['anaemia']==1)&(df['DEATH_EVENT']==1)]\n",
        "x2=df[(df['anaemia']==0)&(df['DEATH_EVENT']==1)]\n",
        "#x3=df[(df['smoking']==1)&(df['DEATH_EVENT']==0)]\n",
        "#x4=df[(df['smoking']==0)&(df['DEATH_EVENT']==0)]\n",
        "#data = [['Smoking = 1 & Death = 1', x1['age'].count()], ['Smoking = 0 & Death = 1', x2['age'].count()], ['Smoking = 1 & Death = 0', x3['age'].count()],['Smoking = 0 & Death = 0', x4['age'].count()]]\n",
        "data = [['Anaemia = 1 & Death = 1', x1['age'].count()], ['Anaemia = 0 & Death = 1', x2['age'].count()]]\n",
        "ADCOR = pd.DataFrame(data, columns = ['Category', 'Count'])\n",
        "ADCOR"
      ],
      "execution_count": null,
      "outputs": [
        {
          "output_type": "execute_result",
          "data": {
            "text/html": [
              "<div>\n",
              "<style scoped>\n",
              "    .dataframe tbody tr th:only-of-type {\n",
              "        vertical-align: middle;\n",
              "    }\n",
              "\n",
              "    .dataframe tbody tr th {\n",
              "        vertical-align: top;\n",
              "    }\n",
              "\n",
              "    .dataframe thead th {\n",
              "        text-align: right;\n",
              "    }\n",
              "</style>\n",
              "<table border=\"1\" class=\"dataframe\">\n",
              "  <thead>\n",
              "    <tr style=\"text-align: right;\">\n",
              "      <th></th>\n",
              "      <th>Category</th>\n",
              "      <th>Count</th>\n",
              "    </tr>\n",
              "  </thead>\n",
              "  <tbody>\n",
              "    <tr>\n",
              "      <th>0</th>\n",
              "      <td>Anaemia = 1 &amp; Death = 1</td>\n",
              "      <td>46</td>\n",
              "    </tr>\n",
              "    <tr>\n",
              "      <th>1</th>\n",
              "      <td>Anaemia = 0 &amp; Death = 1</td>\n",
              "      <td>50</td>\n",
              "    </tr>\n",
              "  </tbody>\n",
              "</table>\n",
              "</div>"
            ],
            "text/plain": [
              "                  Category  Count\n",
              "0  Anaemia = 1 & Death = 1     46\n",
              "1  Anaemia = 0 & Death = 1     50"
            ]
          },
          "metadata": {
            "tags": []
          },
          "execution_count": 16
        }
      ]
    },
    {
      "cell_type": "code",
      "metadata": {
        "colab": {
          "base_uri": "https://localhost:8080/",
          "height": 542
        },
        "id": "YOpqQLdN8868",
        "outputId": "41a86932-171b-4b0c-fe44-5e43d7eb0c70"
      },
      "source": [
        "px.pie(ADCOR,names='Category',values='Count',color=['0','1'])"
      ],
      "execution_count": null,
      "outputs": [
        {
          "output_type": "display_data",
          "data": {
            "text/html": [
              "<html>\n",
              "<head><meta charset=\"utf-8\" /></head>\n",
              "<body>\n",
              "    <div>\n",
              "            <script src=\"https://cdnjs.cloudflare.com/ajax/libs/mathjax/2.7.5/MathJax.js?config=TeX-AMS-MML_SVG\"></script><script type=\"text/javascript\">if (window.MathJax) {MathJax.Hub.Config({SVG: {font: \"STIX-Web\"}});}</script>\n",
              "                <script type=\"text/javascript\">window.PlotlyConfig = {MathJaxConfig: 'local'};</script>\n",
              "        <script src=\"https://cdn.plot.ly/plotly-latest.min.js\"></script>    \n",
              "            <div id=\"17da1233-f782-4942-be66-23cec44787b4\" class=\"plotly-graph-div\" style=\"height:525px; width:100%;\"></div>\n",
              "            <script type=\"text/javascript\">\n",
              "                \n",
              "                    window.PLOTLYENV=window.PLOTLYENV || {};\n",
              "                    \n",
              "                if (document.getElementById(\"17da1233-f782-4942-be66-23cec44787b4\")) {\n",
              "                    Plotly.newPlot(\n",
              "                        '17da1233-f782-4942-be66-23cec44787b4',\n",
              "                        [{\"customdata\": [[\"0\"], [\"1\"]], \"domain\": {\"x\": [0.0, 1.0], \"y\": [0.0, 1.0]}, \"hoverlabel\": {\"namelength\": 0}, \"hovertemplate\": \"color=%{customdata[0]}<br>Category=%{label}<br>Count=%{value}\", \"labels\": [\"Anaemia = 1 & Death = 1\", \"Anaemia = 0 & Death = 1\"], \"legendgroup\": \"\", \"marker\": {\"colors\": [\"#636efa\", \"#EF553B\"]}, \"name\": \"\", \"showlegend\": true, \"type\": \"pie\", \"values\": [46, 50]}],\n",
              "                        {\"legend\": {\"tracegroupgap\": 0}, \"margin\": {\"t\": 60}, \"template\": {\"data\": {\"bar\": [{\"error_x\": {\"color\": \"#2a3f5f\"}, \"error_y\": {\"color\": \"#2a3f5f\"}, \"marker\": {\"line\": {\"color\": \"#E5ECF6\", \"width\": 0.5}}, \"type\": \"bar\"}], \"barpolar\": [{\"marker\": {\"line\": {\"color\": \"#E5ECF6\", \"width\": 0.5}}, \"type\": \"barpolar\"}], \"carpet\": [{\"aaxis\": {\"endlinecolor\": \"#2a3f5f\", \"gridcolor\": \"white\", \"linecolor\": \"white\", \"minorgridcolor\": \"white\", \"startlinecolor\": \"#2a3f5f\"}, \"baxis\": {\"endlinecolor\": \"#2a3f5f\", \"gridcolor\": \"white\", \"linecolor\": \"white\", \"minorgridcolor\": \"white\", \"startlinecolor\": \"#2a3f5f\"}, \"type\": \"carpet\"}], \"choropleth\": [{\"colorbar\": {\"outlinewidth\": 0, \"ticks\": \"\"}, \"type\": \"choropleth\"}], \"contour\": [{\"colorbar\": {\"outlinewidth\": 0, \"ticks\": \"\"}, \"colorscale\": [[0.0, \"#0d0887\"], [0.1111111111111111, \"#46039f\"], [0.2222222222222222, \"#7201a8\"], [0.3333333333333333, \"#9c179e\"], [0.4444444444444444, \"#bd3786\"], [0.5555555555555556, \"#d8576b\"], [0.6666666666666666, \"#ed7953\"], [0.7777777777777778, \"#fb9f3a\"], [0.8888888888888888, \"#fdca26\"], [1.0, \"#f0f921\"]], \"type\": \"contour\"}], \"contourcarpet\": [{\"colorbar\": {\"outlinewidth\": 0, \"ticks\": \"\"}, \"type\": \"contourcarpet\"}], \"heatmap\": [{\"colorbar\": {\"outlinewidth\": 0, \"ticks\": \"\"}, \"colorscale\": [[0.0, \"#0d0887\"], [0.1111111111111111, \"#46039f\"], [0.2222222222222222, \"#7201a8\"], [0.3333333333333333, \"#9c179e\"], [0.4444444444444444, \"#bd3786\"], [0.5555555555555556, \"#d8576b\"], [0.6666666666666666, \"#ed7953\"], [0.7777777777777778, \"#fb9f3a\"], [0.8888888888888888, \"#fdca26\"], [1.0, \"#f0f921\"]], \"type\": \"heatmap\"}], \"heatmapgl\": [{\"colorbar\": {\"outlinewidth\": 0, \"ticks\": \"\"}, \"colorscale\": [[0.0, \"#0d0887\"], [0.1111111111111111, \"#46039f\"], [0.2222222222222222, \"#7201a8\"], [0.3333333333333333, \"#9c179e\"], [0.4444444444444444, \"#bd3786\"], [0.5555555555555556, \"#d8576b\"], [0.6666666666666666, \"#ed7953\"], [0.7777777777777778, \"#fb9f3a\"], [0.8888888888888888, \"#fdca26\"], [1.0, \"#f0f921\"]], \"type\": \"heatmapgl\"}], \"histogram\": [{\"marker\": {\"colorbar\": {\"outlinewidth\": 0, \"ticks\": \"\"}}, \"type\": \"histogram\"}], \"histogram2d\": [{\"colorbar\": {\"outlinewidth\": 0, \"ticks\": \"\"}, \"colorscale\": [[0.0, \"#0d0887\"], [0.1111111111111111, \"#46039f\"], [0.2222222222222222, \"#7201a8\"], [0.3333333333333333, \"#9c179e\"], [0.4444444444444444, \"#bd3786\"], [0.5555555555555556, \"#d8576b\"], [0.6666666666666666, \"#ed7953\"], [0.7777777777777778, \"#fb9f3a\"], [0.8888888888888888, \"#fdca26\"], [1.0, \"#f0f921\"]], \"type\": \"histogram2d\"}], \"histogram2dcontour\": [{\"colorbar\": {\"outlinewidth\": 0, \"ticks\": \"\"}, \"colorscale\": [[0.0, \"#0d0887\"], [0.1111111111111111, \"#46039f\"], [0.2222222222222222, \"#7201a8\"], [0.3333333333333333, \"#9c179e\"], [0.4444444444444444, \"#bd3786\"], [0.5555555555555556, \"#d8576b\"], [0.6666666666666666, \"#ed7953\"], [0.7777777777777778, \"#fb9f3a\"], [0.8888888888888888, \"#fdca26\"], [1.0, \"#f0f921\"]], \"type\": \"histogram2dcontour\"}], \"mesh3d\": [{\"colorbar\": {\"outlinewidth\": 0, \"ticks\": \"\"}, \"type\": \"mesh3d\"}], \"parcoords\": [{\"line\": {\"colorbar\": {\"outlinewidth\": 0, \"ticks\": \"\"}}, \"type\": \"parcoords\"}], \"pie\": [{\"automargin\": true, \"type\": \"pie\"}], \"scatter\": [{\"marker\": {\"colorbar\": {\"outlinewidth\": 0, \"ticks\": \"\"}}, \"type\": \"scatter\"}], \"scatter3d\": [{\"line\": {\"colorbar\": {\"outlinewidth\": 0, \"ticks\": \"\"}}, \"marker\": {\"colorbar\": {\"outlinewidth\": 0, \"ticks\": \"\"}}, \"type\": \"scatter3d\"}], \"scattercarpet\": [{\"marker\": {\"colorbar\": {\"outlinewidth\": 0, \"ticks\": \"\"}}, \"type\": \"scattercarpet\"}], \"scattergeo\": [{\"marker\": {\"colorbar\": {\"outlinewidth\": 0, \"ticks\": \"\"}}, \"type\": \"scattergeo\"}], \"scattergl\": [{\"marker\": {\"colorbar\": {\"outlinewidth\": 0, \"ticks\": \"\"}}, \"type\": \"scattergl\"}], \"scattermapbox\": [{\"marker\": {\"colorbar\": {\"outlinewidth\": 0, \"ticks\": \"\"}}, \"type\": \"scattermapbox\"}], \"scatterpolar\": [{\"marker\": {\"colorbar\": {\"outlinewidth\": 0, \"ticks\": \"\"}}, \"type\": \"scatterpolar\"}], \"scatterpolargl\": [{\"marker\": {\"colorbar\": {\"outlinewidth\": 0, \"ticks\": \"\"}}, \"type\": \"scatterpolargl\"}], \"scatterternary\": [{\"marker\": {\"colorbar\": {\"outlinewidth\": 0, \"ticks\": \"\"}}, \"type\": \"scatterternary\"}], \"surface\": [{\"colorbar\": {\"outlinewidth\": 0, \"ticks\": \"\"}, \"colorscale\": [[0.0, \"#0d0887\"], [0.1111111111111111, \"#46039f\"], [0.2222222222222222, \"#7201a8\"], [0.3333333333333333, \"#9c179e\"], [0.4444444444444444, \"#bd3786\"], [0.5555555555555556, \"#d8576b\"], [0.6666666666666666, \"#ed7953\"], [0.7777777777777778, \"#fb9f3a\"], [0.8888888888888888, \"#fdca26\"], [1.0, \"#f0f921\"]], \"type\": \"surface\"}], \"table\": [{\"cells\": {\"fill\": {\"color\": \"#EBF0F8\"}, \"line\": {\"color\": \"white\"}}, \"header\": {\"fill\": {\"color\": \"#C8D4E3\"}, \"line\": {\"color\": \"white\"}}, \"type\": \"table\"}]}, \"layout\": {\"annotationdefaults\": {\"arrowcolor\": \"#2a3f5f\", \"arrowhead\": 0, \"arrowwidth\": 1}, \"coloraxis\": {\"colorbar\": {\"outlinewidth\": 0, \"ticks\": \"\"}}, \"colorscale\": {\"diverging\": [[0, \"#8e0152\"], [0.1, \"#c51b7d\"], [0.2, \"#de77ae\"], [0.3, \"#f1b6da\"], [0.4, \"#fde0ef\"], [0.5, \"#f7f7f7\"], [0.6, \"#e6f5d0\"], [0.7, \"#b8e186\"], [0.8, \"#7fbc41\"], [0.9, \"#4d9221\"], [1, \"#276419\"]], \"sequential\": [[0.0, \"#0d0887\"], [0.1111111111111111, \"#46039f\"], [0.2222222222222222, \"#7201a8\"], [0.3333333333333333, \"#9c179e\"], [0.4444444444444444, \"#bd3786\"], [0.5555555555555556, \"#d8576b\"], [0.6666666666666666, \"#ed7953\"], [0.7777777777777778, \"#fb9f3a\"], [0.8888888888888888, \"#fdca26\"], [1.0, \"#f0f921\"]], \"sequentialminus\": [[0.0, \"#0d0887\"], [0.1111111111111111, \"#46039f\"], [0.2222222222222222, \"#7201a8\"], [0.3333333333333333, \"#9c179e\"], [0.4444444444444444, \"#bd3786\"], [0.5555555555555556, \"#d8576b\"], [0.6666666666666666, \"#ed7953\"], [0.7777777777777778, \"#fb9f3a\"], [0.8888888888888888, \"#fdca26\"], [1.0, \"#f0f921\"]]}, \"colorway\": [\"#636efa\", \"#EF553B\", \"#00cc96\", \"#ab63fa\", \"#FFA15A\", \"#19d3f3\", \"#FF6692\", \"#B6E880\", \"#FF97FF\", \"#FECB52\"], \"font\": {\"color\": \"#2a3f5f\"}, \"geo\": {\"bgcolor\": \"white\", \"lakecolor\": \"white\", \"landcolor\": \"#E5ECF6\", \"showlakes\": true, \"showland\": true, \"subunitcolor\": \"white\"}, \"hoverlabel\": {\"align\": \"left\"}, \"hovermode\": \"closest\", \"mapbox\": {\"style\": \"light\"}, \"paper_bgcolor\": \"white\", \"plot_bgcolor\": \"#E5ECF6\", \"polar\": {\"angularaxis\": {\"gridcolor\": \"white\", \"linecolor\": \"white\", \"ticks\": \"\"}, \"bgcolor\": \"#E5ECF6\", \"radialaxis\": {\"gridcolor\": \"white\", \"linecolor\": \"white\", \"ticks\": \"\"}}, \"scene\": {\"xaxis\": {\"backgroundcolor\": \"#E5ECF6\", \"gridcolor\": \"white\", \"gridwidth\": 2, \"linecolor\": \"white\", \"showbackground\": true, \"ticks\": \"\", \"zerolinecolor\": \"white\"}, \"yaxis\": {\"backgroundcolor\": \"#E5ECF6\", \"gridcolor\": \"white\", \"gridwidth\": 2, \"linecolor\": \"white\", \"showbackground\": true, \"ticks\": \"\", \"zerolinecolor\": \"white\"}, \"zaxis\": {\"backgroundcolor\": \"#E5ECF6\", \"gridcolor\": \"white\", \"gridwidth\": 2, \"linecolor\": \"white\", \"showbackground\": true, \"ticks\": \"\", \"zerolinecolor\": \"white\"}}, \"shapedefaults\": {\"line\": {\"color\": \"#2a3f5f\"}}, \"ternary\": {\"aaxis\": {\"gridcolor\": \"white\", \"linecolor\": \"white\", \"ticks\": \"\"}, \"baxis\": {\"gridcolor\": \"white\", \"linecolor\": \"white\", \"ticks\": \"\"}, \"bgcolor\": \"#E5ECF6\", \"caxis\": {\"gridcolor\": \"white\", \"linecolor\": \"white\", \"ticks\": \"\"}}, \"title\": {\"x\": 0.05}, \"xaxis\": {\"automargin\": true, \"gridcolor\": \"white\", \"linecolor\": \"white\", \"ticks\": \"\", \"title\": {\"standoff\": 15}, \"zerolinecolor\": \"white\", \"zerolinewidth\": 2}, \"yaxis\": {\"automargin\": true, \"gridcolor\": \"white\", \"linecolor\": \"white\", \"ticks\": \"\", \"title\": {\"standoff\": 15}, \"zerolinecolor\": \"white\", \"zerolinewidth\": 2}}}},\n",
              "                        {\"responsive\": true}\n",
              "                    ).then(function(){\n",
              "                            \n",
              "var gd = document.getElementById('17da1233-f782-4942-be66-23cec44787b4');\n",
              "var x = new MutationObserver(function (mutations, observer) {{\n",
              "        var display = window.getComputedStyle(gd).display;\n",
              "        if (!display || display === 'none') {{\n",
              "            console.log([gd, 'removed!']);\n",
              "            Plotly.purge(gd);\n",
              "            observer.disconnect();\n",
              "        }}\n",
              "}});\n",
              "\n",
              "// Listen for the removal of the full notebook cells\n",
              "var notebookContainer = gd.closest('#notebook-container');\n",
              "if (notebookContainer) {{\n",
              "    x.observe(notebookContainer, {childList: true});\n",
              "}}\n",
              "\n",
              "// Listen for the clearing of the current output cell\n",
              "var outputEl = gd.closest('.output');\n",
              "if (outputEl) {{\n",
              "    x.observe(outputEl, {childList: true});\n",
              "}}\n",
              "\n",
              "                        })\n",
              "                };\n",
              "                \n",
              "            </script>\n",
              "        </div>\n",
              "</body>\n",
              "</html>"
            ]
          },
          "metadata": {
            "tags": []
          }
        }
      ]
    },
    {
      "cell_type": "code",
      "metadata": {
        "colab": {
          "base_uri": "https://localhost:8080/",
          "height": 111
        },
        "id": "aaBBBPMxAbCt",
        "outputId": "1ca2fd0c-00c3-4dc7-e31b-b453a1ef0f92"
      },
      "source": [
        "x1=df[(df['high_blood_pressure']==1)&(df['DEATH_EVENT']==1)]\n",
        "x2=df[(df['high_blood_pressure']==0)&(df['DEATH_EVENT']==1)]\n",
        "#x3=df[(df['smoking']==1)&(df['DEATH_EVENT']==0)]\n",
        "#x4=df[(df['smoking']==0)&(df['DEATH_EVENT']==0)]\n",
        "#data = [['Smoking = 1 & Death = 1', x1['age'].count()], ['Smoking = 0 & Death = 1', x2['age'].count()], ['Smoking = 1 & Death = 0', x3['age'].count()],['Smoking = 0 & Death = 0', x4['age'].count()]]\n",
        "data = [['high_blood_pressure = 1 & Death = 1', x1['age'].count()], ['high_blood_pressure = 0 & Death = 1', x2['age'].count()]]\n",
        "HPDCOR = pd.DataFrame(data, columns = ['Category', 'Count'])\n",
        "HPDCOR"
      ],
      "execution_count": null,
      "outputs": [
        {
          "output_type": "execute_result",
          "data": {
            "text/html": [
              "<div>\n",
              "<style scoped>\n",
              "    .dataframe tbody tr th:only-of-type {\n",
              "        vertical-align: middle;\n",
              "    }\n",
              "\n",
              "    .dataframe tbody tr th {\n",
              "        vertical-align: top;\n",
              "    }\n",
              "\n",
              "    .dataframe thead th {\n",
              "        text-align: right;\n",
              "    }\n",
              "</style>\n",
              "<table border=\"1\" class=\"dataframe\">\n",
              "  <thead>\n",
              "    <tr style=\"text-align: right;\">\n",
              "      <th></th>\n",
              "      <th>Category</th>\n",
              "      <th>Count</th>\n",
              "    </tr>\n",
              "  </thead>\n",
              "  <tbody>\n",
              "    <tr>\n",
              "      <th>0</th>\n",
              "      <td>high_blood_pressure = 1 &amp; Death = 1</td>\n",
              "      <td>39</td>\n",
              "    </tr>\n",
              "    <tr>\n",
              "      <th>1</th>\n",
              "      <td>high_blood_pressure = 0 &amp; Death = 1</td>\n",
              "      <td>57</td>\n",
              "    </tr>\n",
              "  </tbody>\n",
              "</table>\n",
              "</div>"
            ],
            "text/plain": [
              "                              Category  Count\n",
              "0  high_blood_pressure = 1 & Death = 1     39\n",
              "1  high_blood_pressure = 0 & Death = 1     57"
            ]
          },
          "metadata": {
            "tags": []
          },
          "execution_count": 18
        }
      ]
    },
    {
      "cell_type": "code",
      "metadata": {
        "colab": {
          "base_uri": "https://localhost:8080/",
          "height": 542
        },
        "id": "H6Jc280yAkIU",
        "outputId": "48b41598-e8a2-4fa0-d56c-7e4b60a5a09f"
      },
      "source": [
        "px.pie(HPDCOR,names='Category',values='Count',color=['0','1'])"
      ],
      "execution_count": null,
      "outputs": [
        {
          "output_type": "display_data",
          "data": {
            "text/html": [
              "<html>\n",
              "<head><meta charset=\"utf-8\" /></head>\n",
              "<body>\n",
              "    <div>\n",
              "            <script src=\"https://cdnjs.cloudflare.com/ajax/libs/mathjax/2.7.5/MathJax.js?config=TeX-AMS-MML_SVG\"></script><script type=\"text/javascript\">if (window.MathJax) {MathJax.Hub.Config({SVG: {font: \"STIX-Web\"}});}</script>\n",
              "                <script type=\"text/javascript\">window.PlotlyConfig = {MathJaxConfig: 'local'};</script>\n",
              "        <script src=\"https://cdn.plot.ly/plotly-latest.min.js\"></script>    \n",
              "            <div id=\"2fcc9f9e-b6f9-40c0-afab-2e21800e3324\" class=\"plotly-graph-div\" style=\"height:525px; width:100%;\"></div>\n",
              "            <script type=\"text/javascript\">\n",
              "                \n",
              "                    window.PLOTLYENV=window.PLOTLYENV || {};\n",
              "                    \n",
              "                if (document.getElementById(\"2fcc9f9e-b6f9-40c0-afab-2e21800e3324\")) {\n",
              "                    Plotly.newPlot(\n",
              "                        '2fcc9f9e-b6f9-40c0-afab-2e21800e3324',\n",
              "                        [{\"customdata\": [[\"0\"], [\"1\"]], \"domain\": {\"x\": [0.0, 1.0], \"y\": [0.0, 1.0]}, \"hoverlabel\": {\"namelength\": 0}, \"hovertemplate\": \"color=%{customdata[0]}<br>Category=%{label}<br>Count=%{value}\", \"labels\": [\"high_blood_pressure = 1 & Death = 1\", \"high_blood_pressure = 0 & Death = 1\"], \"legendgroup\": \"\", \"marker\": {\"colors\": [\"#636efa\", \"#EF553B\"]}, \"name\": \"\", \"showlegend\": true, \"type\": \"pie\", \"values\": [39, 57]}],\n",
              "                        {\"legend\": {\"tracegroupgap\": 0}, \"margin\": {\"t\": 60}, \"template\": {\"data\": {\"bar\": [{\"error_x\": {\"color\": \"#2a3f5f\"}, \"error_y\": {\"color\": \"#2a3f5f\"}, \"marker\": {\"line\": {\"color\": \"#E5ECF6\", \"width\": 0.5}}, \"type\": \"bar\"}], \"barpolar\": [{\"marker\": {\"line\": {\"color\": \"#E5ECF6\", \"width\": 0.5}}, \"type\": \"barpolar\"}], \"carpet\": [{\"aaxis\": {\"endlinecolor\": \"#2a3f5f\", \"gridcolor\": \"white\", \"linecolor\": \"white\", \"minorgridcolor\": \"white\", \"startlinecolor\": \"#2a3f5f\"}, \"baxis\": {\"endlinecolor\": \"#2a3f5f\", \"gridcolor\": \"white\", \"linecolor\": \"white\", \"minorgridcolor\": \"white\", \"startlinecolor\": \"#2a3f5f\"}, \"type\": \"carpet\"}], \"choropleth\": [{\"colorbar\": {\"outlinewidth\": 0, \"ticks\": \"\"}, \"type\": \"choropleth\"}], \"contour\": [{\"colorbar\": {\"outlinewidth\": 0, \"ticks\": \"\"}, \"colorscale\": [[0.0, \"#0d0887\"], [0.1111111111111111, \"#46039f\"], [0.2222222222222222, \"#7201a8\"], [0.3333333333333333, \"#9c179e\"], [0.4444444444444444, \"#bd3786\"], [0.5555555555555556, \"#d8576b\"], [0.6666666666666666, \"#ed7953\"], [0.7777777777777778, \"#fb9f3a\"], [0.8888888888888888, \"#fdca26\"], [1.0, \"#f0f921\"]], \"type\": \"contour\"}], \"contourcarpet\": [{\"colorbar\": {\"outlinewidth\": 0, \"ticks\": \"\"}, \"type\": \"contourcarpet\"}], \"heatmap\": [{\"colorbar\": {\"outlinewidth\": 0, \"ticks\": \"\"}, \"colorscale\": [[0.0, \"#0d0887\"], [0.1111111111111111, \"#46039f\"], [0.2222222222222222, \"#7201a8\"], [0.3333333333333333, \"#9c179e\"], [0.4444444444444444, \"#bd3786\"], [0.5555555555555556, \"#d8576b\"], [0.6666666666666666, \"#ed7953\"], [0.7777777777777778, \"#fb9f3a\"], [0.8888888888888888, \"#fdca26\"], [1.0, \"#f0f921\"]], \"type\": \"heatmap\"}], \"heatmapgl\": [{\"colorbar\": {\"outlinewidth\": 0, \"ticks\": \"\"}, \"colorscale\": [[0.0, \"#0d0887\"], [0.1111111111111111, \"#46039f\"], [0.2222222222222222, \"#7201a8\"], [0.3333333333333333, \"#9c179e\"], [0.4444444444444444, \"#bd3786\"], [0.5555555555555556, \"#d8576b\"], [0.6666666666666666, \"#ed7953\"], [0.7777777777777778, \"#fb9f3a\"], [0.8888888888888888, \"#fdca26\"], [1.0, \"#f0f921\"]], \"type\": \"heatmapgl\"}], \"histogram\": [{\"marker\": {\"colorbar\": {\"outlinewidth\": 0, \"ticks\": \"\"}}, \"type\": \"histogram\"}], \"histogram2d\": [{\"colorbar\": {\"outlinewidth\": 0, \"ticks\": \"\"}, \"colorscale\": [[0.0, \"#0d0887\"], [0.1111111111111111, \"#46039f\"], [0.2222222222222222, \"#7201a8\"], [0.3333333333333333, \"#9c179e\"], [0.4444444444444444, \"#bd3786\"], [0.5555555555555556, \"#d8576b\"], [0.6666666666666666, \"#ed7953\"], [0.7777777777777778, \"#fb9f3a\"], [0.8888888888888888, \"#fdca26\"], [1.0, \"#f0f921\"]], \"type\": \"histogram2d\"}], \"histogram2dcontour\": [{\"colorbar\": {\"outlinewidth\": 0, \"ticks\": \"\"}, \"colorscale\": [[0.0, \"#0d0887\"], [0.1111111111111111, \"#46039f\"], [0.2222222222222222, \"#7201a8\"], [0.3333333333333333, \"#9c179e\"], [0.4444444444444444, \"#bd3786\"], [0.5555555555555556, \"#d8576b\"], [0.6666666666666666, \"#ed7953\"], [0.7777777777777778, \"#fb9f3a\"], [0.8888888888888888, \"#fdca26\"], [1.0, \"#f0f921\"]], \"type\": \"histogram2dcontour\"}], \"mesh3d\": [{\"colorbar\": {\"outlinewidth\": 0, \"ticks\": \"\"}, \"type\": \"mesh3d\"}], \"parcoords\": [{\"line\": {\"colorbar\": {\"outlinewidth\": 0, \"ticks\": \"\"}}, \"type\": \"parcoords\"}], \"pie\": [{\"automargin\": true, \"type\": \"pie\"}], \"scatter\": [{\"marker\": {\"colorbar\": {\"outlinewidth\": 0, \"ticks\": \"\"}}, \"type\": \"scatter\"}], \"scatter3d\": [{\"line\": {\"colorbar\": {\"outlinewidth\": 0, \"ticks\": \"\"}}, \"marker\": {\"colorbar\": {\"outlinewidth\": 0, \"ticks\": \"\"}}, \"type\": \"scatter3d\"}], \"scattercarpet\": [{\"marker\": {\"colorbar\": {\"outlinewidth\": 0, \"ticks\": \"\"}}, \"type\": \"scattercarpet\"}], \"scattergeo\": [{\"marker\": {\"colorbar\": {\"outlinewidth\": 0, \"ticks\": \"\"}}, \"type\": \"scattergeo\"}], \"scattergl\": [{\"marker\": {\"colorbar\": {\"outlinewidth\": 0, \"ticks\": \"\"}}, \"type\": \"scattergl\"}], \"scattermapbox\": [{\"marker\": {\"colorbar\": {\"outlinewidth\": 0, \"ticks\": \"\"}}, \"type\": \"scattermapbox\"}], \"scatterpolar\": [{\"marker\": {\"colorbar\": {\"outlinewidth\": 0, \"ticks\": \"\"}}, \"type\": \"scatterpolar\"}], \"scatterpolargl\": [{\"marker\": {\"colorbar\": {\"outlinewidth\": 0, \"ticks\": \"\"}}, \"type\": \"scatterpolargl\"}], \"scatterternary\": [{\"marker\": {\"colorbar\": {\"outlinewidth\": 0, \"ticks\": \"\"}}, \"type\": \"scatterternary\"}], \"surface\": [{\"colorbar\": {\"outlinewidth\": 0, \"ticks\": \"\"}, \"colorscale\": [[0.0, \"#0d0887\"], [0.1111111111111111, \"#46039f\"], [0.2222222222222222, \"#7201a8\"], [0.3333333333333333, \"#9c179e\"], [0.4444444444444444, \"#bd3786\"], [0.5555555555555556, \"#d8576b\"], [0.6666666666666666, \"#ed7953\"], [0.7777777777777778, \"#fb9f3a\"], [0.8888888888888888, \"#fdca26\"], [1.0, \"#f0f921\"]], \"type\": \"surface\"}], \"table\": [{\"cells\": {\"fill\": {\"color\": \"#EBF0F8\"}, \"line\": {\"color\": \"white\"}}, \"header\": {\"fill\": {\"color\": \"#C8D4E3\"}, \"line\": {\"color\": \"white\"}}, \"type\": \"table\"}]}, \"layout\": {\"annotationdefaults\": {\"arrowcolor\": \"#2a3f5f\", \"arrowhead\": 0, \"arrowwidth\": 1}, \"coloraxis\": {\"colorbar\": {\"outlinewidth\": 0, \"ticks\": \"\"}}, \"colorscale\": {\"diverging\": [[0, \"#8e0152\"], [0.1, \"#c51b7d\"], [0.2, \"#de77ae\"], [0.3, \"#f1b6da\"], [0.4, \"#fde0ef\"], [0.5, \"#f7f7f7\"], [0.6, \"#e6f5d0\"], [0.7, \"#b8e186\"], [0.8, \"#7fbc41\"], [0.9, \"#4d9221\"], [1, \"#276419\"]], \"sequential\": [[0.0, \"#0d0887\"], [0.1111111111111111, \"#46039f\"], [0.2222222222222222, \"#7201a8\"], [0.3333333333333333, \"#9c179e\"], [0.4444444444444444, \"#bd3786\"], [0.5555555555555556, \"#d8576b\"], [0.6666666666666666, \"#ed7953\"], [0.7777777777777778, \"#fb9f3a\"], [0.8888888888888888, \"#fdca26\"], [1.0, \"#f0f921\"]], \"sequentialminus\": [[0.0, \"#0d0887\"], [0.1111111111111111, \"#46039f\"], [0.2222222222222222, \"#7201a8\"], [0.3333333333333333, \"#9c179e\"], [0.4444444444444444, \"#bd3786\"], [0.5555555555555556, \"#d8576b\"], [0.6666666666666666, \"#ed7953\"], [0.7777777777777778, \"#fb9f3a\"], [0.8888888888888888, \"#fdca26\"], [1.0, \"#f0f921\"]]}, \"colorway\": [\"#636efa\", \"#EF553B\", \"#00cc96\", \"#ab63fa\", \"#FFA15A\", \"#19d3f3\", \"#FF6692\", \"#B6E880\", \"#FF97FF\", \"#FECB52\"], \"font\": {\"color\": \"#2a3f5f\"}, \"geo\": {\"bgcolor\": \"white\", \"lakecolor\": \"white\", \"landcolor\": \"#E5ECF6\", \"showlakes\": true, \"showland\": true, \"subunitcolor\": \"white\"}, \"hoverlabel\": {\"align\": \"left\"}, \"hovermode\": \"closest\", \"mapbox\": {\"style\": \"light\"}, \"paper_bgcolor\": \"white\", \"plot_bgcolor\": \"#E5ECF6\", \"polar\": {\"angularaxis\": {\"gridcolor\": \"white\", \"linecolor\": \"white\", \"ticks\": \"\"}, \"bgcolor\": \"#E5ECF6\", \"radialaxis\": {\"gridcolor\": \"white\", \"linecolor\": \"white\", \"ticks\": \"\"}}, \"scene\": {\"xaxis\": {\"backgroundcolor\": \"#E5ECF6\", \"gridcolor\": \"white\", \"gridwidth\": 2, \"linecolor\": \"white\", \"showbackground\": true, \"ticks\": \"\", \"zerolinecolor\": \"white\"}, \"yaxis\": {\"backgroundcolor\": \"#E5ECF6\", \"gridcolor\": \"white\", \"gridwidth\": 2, \"linecolor\": \"white\", \"showbackground\": true, \"ticks\": \"\", \"zerolinecolor\": \"white\"}, \"zaxis\": {\"backgroundcolor\": \"#E5ECF6\", \"gridcolor\": \"white\", \"gridwidth\": 2, \"linecolor\": \"white\", \"showbackground\": true, \"ticks\": \"\", \"zerolinecolor\": \"white\"}}, \"shapedefaults\": {\"line\": {\"color\": \"#2a3f5f\"}}, \"ternary\": {\"aaxis\": {\"gridcolor\": \"white\", \"linecolor\": \"white\", \"ticks\": \"\"}, \"baxis\": {\"gridcolor\": \"white\", \"linecolor\": \"white\", \"ticks\": \"\"}, \"bgcolor\": \"#E5ECF6\", \"caxis\": {\"gridcolor\": \"white\", \"linecolor\": \"white\", \"ticks\": \"\"}}, \"title\": {\"x\": 0.05}, \"xaxis\": {\"automargin\": true, \"gridcolor\": \"white\", \"linecolor\": \"white\", \"ticks\": \"\", \"title\": {\"standoff\": 15}, \"zerolinecolor\": \"white\", \"zerolinewidth\": 2}, \"yaxis\": {\"automargin\": true, \"gridcolor\": \"white\", \"linecolor\": \"white\", \"ticks\": \"\", \"title\": {\"standoff\": 15}, \"zerolinecolor\": \"white\", \"zerolinewidth\": 2}}}},\n",
              "                        {\"responsive\": true}\n",
              "                    ).then(function(){\n",
              "                            \n",
              "var gd = document.getElementById('2fcc9f9e-b6f9-40c0-afab-2e21800e3324');\n",
              "var x = new MutationObserver(function (mutations, observer) {{\n",
              "        var display = window.getComputedStyle(gd).display;\n",
              "        if (!display || display === 'none') {{\n",
              "            console.log([gd, 'removed!']);\n",
              "            Plotly.purge(gd);\n",
              "            observer.disconnect();\n",
              "        }}\n",
              "}});\n",
              "\n",
              "// Listen for the removal of the full notebook cells\n",
              "var notebookContainer = gd.closest('#notebook-container');\n",
              "if (notebookContainer) {{\n",
              "    x.observe(notebookContainer, {childList: true});\n",
              "}}\n",
              "\n",
              "// Listen for the clearing of the current output cell\n",
              "var outputEl = gd.closest('.output');\n",
              "if (outputEl) {{\n",
              "    x.observe(outputEl, {childList: true});\n",
              "}}\n",
              "\n",
              "                        })\n",
              "                };\n",
              "                \n",
              "            </script>\n",
              "        </div>\n",
              "</body>\n",
              "</html>"
            ]
          },
          "metadata": {
            "tags": []
          }
        }
      ]
    },
    {
      "cell_type": "code",
      "metadata": {
        "id": "HZlXIZ2yOyDW",
        "colab": {
          "base_uri": "https://localhost:8080/"
        },
        "outputId": "e6a271d9-9caa-47b6-9928-c64701cb9456"
      },
      "source": [
        "df.columns"
      ],
      "execution_count": null,
      "outputs": [
        {
          "output_type": "execute_result",
          "data": {
            "text/plain": [
              "Index(['age', 'anaemia', 'creatinine_phosphokinase', 'diabetes',\n",
              "       'ejection_fraction', 'high_blood_pressure', 'platelets',\n",
              "       'serum_creatinine', 'serum_sodium', 'sex', 'smoking', 'DEATH_EVENT'],\n",
              "      dtype='object')"
            ]
          },
          "metadata": {
            "tags": []
          },
          "execution_count": 25
        }
      ]
    },
    {
      "cell_type": "code",
      "metadata": {
        "colab": {
          "base_uri": "https://localhost:8080/",
          "height": 419
        },
        "id": "GJsPm-8iWqZW",
        "outputId": "f02464d0-bab2-4da1-c210-5b1f0dc16432"
      },
      "source": [
        "df"
      ],
      "execution_count": null,
      "outputs": [
        {
          "output_type": "execute_result",
          "data": {
            "text/html": [
              "<div>\n",
              "<style scoped>\n",
              "    .dataframe tbody tr th:only-of-type {\n",
              "        vertical-align: middle;\n",
              "    }\n",
              "\n",
              "    .dataframe tbody tr th {\n",
              "        vertical-align: top;\n",
              "    }\n",
              "\n",
              "    .dataframe thead th {\n",
              "        text-align: right;\n",
              "    }\n",
              "</style>\n",
              "<table border=\"1\" class=\"dataframe\">\n",
              "  <thead>\n",
              "    <tr style=\"text-align: right;\">\n",
              "      <th></th>\n",
              "      <th>age</th>\n",
              "      <th>anaemia</th>\n",
              "      <th>creatinine_phosphokinase</th>\n",
              "      <th>diabetes</th>\n",
              "      <th>ejection_fraction</th>\n",
              "      <th>high_blood_pressure</th>\n",
              "      <th>platelets</th>\n",
              "      <th>serum_creatinine</th>\n",
              "      <th>serum_sodium</th>\n",
              "      <th>sex</th>\n",
              "      <th>smoking</th>\n",
              "      <th>DEATH_EVENT</th>\n",
              "    </tr>\n",
              "  </thead>\n",
              "  <tbody>\n",
              "    <tr>\n",
              "      <th>0</th>\n",
              "      <td>75.0</td>\n",
              "      <td>0</td>\n",
              "      <td>582</td>\n",
              "      <td>0</td>\n",
              "      <td>20</td>\n",
              "      <td>1</td>\n",
              "      <td>265000.00</td>\n",
              "      <td>1.9</td>\n",
              "      <td>130</td>\n",
              "      <td>1</td>\n",
              "      <td>0</td>\n",
              "      <td>1</td>\n",
              "    </tr>\n",
              "    <tr>\n",
              "      <th>1</th>\n",
              "      <td>55.0</td>\n",
              "      <td>0</td>\n",
              "      <td>7861</td>\n",
              "      <td>0</td>\n",
              "      <td>38</td>\n",
              "      <td>0</td>\n",
              "      <td>263358.03</td>\n",
              "      <td>1.1</td>\n",
              "      <td>136</td>\n",
              "      <td>1</td>\n",
              "      <td>0</td>\n",
              "      <td>1</td>\n",
              "    </tr>\n",
              "    <tr>\n",
              "      <th>2</th>\n",
              "      <td>65.0</td>\n",
              "      <td>0</td>\n",
              "      <td>146</td>\n",
              "      <td>0</td>\n",
              "      <td>20</td>\n",
              "      <td>0</td>\n",
              "      <td>162000.00</td>\n",
              "      <td>1.3</td>\n",
              "      <td>129</td>\n",
              "      <td>1</td>\n",
              "      <td>1</td>\n",
              "      <td>1</td>\n",
              "    </tr>\n",
              "    <tr>\n",
              "      <th>3</th>\n",
              "      <td>50.0</td>\n",
              "      <td>1</td>\n",
              "      <td>111</td>\n",
              "      <td>0</td>\n",
              "      <td>20</td>\n",
              "      <td>0</td>\n",
              "      <td>210000.00</td>\n",
              "      <td>1.9</td>\n",
              "      <td>137</td>\n",
              "      <td>1</td>\n",
              "      <td>0</td>\n",
              "      <td>1</td>\n",
              "    </tr>\n",
              "    <tr>\n",
              "      <th>4</th>\n",
              "      <td>65.0</td>\n",
              "      <td>1</td>\n",
              "      <td>160</td>\n",
              "      <td>1</td>\n",
              "      <td>20</td>\n",
              "      <td>0</td>\n",
              "      <td>327000.00</td>\n",
              "      <td>2.7</td>\n",
              "      <td>116</td>\n",
              "      <td>0</td>\n",
              "      <td>0</td>\n",
              "      <td>1</td>\n",
              "    </tr>\n",
              "    <tr>\n",
              "      <th>...</th>\n",
              "      <td>...</td>\n",
              "      <td>...</td>\n",
              "      <td>...</td>\n",
              "      <td>...</td>\n",
              "      <td>...</td>\n",
              "      <td>...</td>\n",
              "      <td>...</td>\n",
              "      <td>...</td>\n",
              "      <td>...</td>\n",
              "      <td>...</td>\n",
              "      <td>...</td>\n",
              "      <td>...</td>\n",
              "    </tr>\n",
              "    <tr>\n",
              "      <th>294</th>\n",
              "      <td>62.0</td>\n",
              "      <td>0</td>\n",
              "      <td>61</td>\n",
              "      <td>1</td>\n",
              "      <td>38</td>\n",
              "      <td>1</td>\n",
              "      <td>155000.00</td>\n",
              "      <td>1.1</td>\n",
              "      <td>143</td>\n",
              "      <td>1</td>\n",
              "      <td>1</td>\n",
              "      <td>0</td>\n",
              "    </tr>\n",
              "    <tr>\n",
              "      <th>295</th>\n",
              "      <td>55.0</td>\n",
              "      <td>0</td>\n",
              "      <td>1820</td>\n",
              "      <td>0</td>\n",
              "      <td>38</td>\n",
              "      <td>0</td>\n",
              "      <td>270000.00</td>\n",
              "      <td>1.2</td>\n",
              "      <td>139</td>\n",
              "      <td>0</td>\n",
              "      <td>0</td>\n",
              "      <td>0</td>\n",
              "    </tr>\n",
              "    <tr>\n",
              "      <th>296</th>\n",
              "      <td>45.0</td>\n",
              "      <td>0</td>\n",
              "      <td>2060</td>\n",
              "      <td>1</td>\n",
              "      <td>60</td>\n",
              "      <td>0</td>\n",
              "      <td>742000.00</td>\n",
              "      <td>0.8</td>\n",
              "      <td>138</td>\n",
              "      <td>0</td>\n",
              "      <td>0</td>\n",
              "      <td>0</td>\n",
              "    </tr>\n",
              "    <tr>\n",
              "      <th>297</th>\n",
              "      <td>45.0</td>\n",
              "      <td>0</td>\n",
              "      <td>2413</td>\n",
              "      <td>0</td>\n",
              "      <td>38</td>\n",
              "      <td>0</td>\n",
              "      <td>140000.00</td>\n",
              "      <td>1.4</td>\n",
              "      <td>140</td>\n",
              "      <td>1</td>\n",
              "      <td>1</td>\n",
              "      <td>0</td>\n",
              "    </tr>\n",
              "    <tr>\n",
              "      <th>298</th>\n",
              "      <td>50.0</td>\n",
              "      <td>0</td>\n",
              "      <td>196</td>\n",
              "      <td>0</td>\n",
              "      <td>45</td>\n",
              "      <td>0</td>\n",
              "      <td>395000.00</td>\n",
              "      <td>1.6</td>\n",
              "      <td>136</td>\n",
              "      <td>1</td>\n",
              "      <td>1</td>\n",
              "      <td>0</td>\n",
              "    </tr>\n",
              "  </tbody>\n",
              "</table>\n",
              "<p>299 rows × 12 columns</p>\n",
              "</div>"
            ],
            "text/plain": [
              "      age  anaemia  creatinine_phosphokinase  ...  sex  smoking  DEATH_EVENT\n",
              "0    75.0        0                       582  ...    1        0            1\n",
              "1    55.0        0                      7861  ...    1        0            1\n",
              "2    65.0        0                       146  ...    1        1            1\n",
              "3    50.0        1                       111  ...    1        0            1\n",
              "4    65.0        1                       160  ...    0        0            1\n",
              "..    ...      ...                       ...  ...  ...      ...          ...\n",
              "294  62.0        0                        61  ...    1        1            0\n",
              "295  55.0        0                      1820  ...    0        0            0\n",
              "296  45.0        0                      2060  ...    0        0            0\n",
              "297  45.0        0                      2413  ...    1        1            0\n",
              "298  50.0        0                       196  ...    1        1            0\n",
              "\n",
              "[299 rows x 12 columns]"
            ]
          },
          "metadata": {
            "tags": []
          },
          "execution_count": 26
        }
      ]
    },
    {
      "cell_type": "markdown",
      "metadata": {
        "id": "C7eKuQoXY1-i"
      },
      "source": [
        "Data Preprocessing"
      ]
    },
    {
      "cell_type": "code",
      "metadata": {
        "id": "kBjg4dE7O6Cl"
      },
      "source": [
        "scaler=StandardScaler(with_mean=False)\n",
        "\n",
        "sc_df=pd.DataFrame(\n",
        "    scaler.fit_transform(\n",
        "        X=df.drop(columns=['anaemia', 'DEATH_EVENT', 'diabetes', 'high_blood_pressure', 'sex', 'smoking']), \n",
        "        y=df['DEATH_EVENT']\n",
        "    ),\n",
        "    columns=['age', 'creatinine_phosphokinase', 'ejection_fraction', 'platelets', 'serum_creatinine', 'serum_sodium'],\n",
        "    index=df.index\n",
        ")"
      ],
      "execution_count": null,
      "outputs": []
    },
    {
      "cell_type": "code",
      "metadata": {
        "id": "du6c95s8aarg"
      },
      "source": [
        "sc_df['anaemia'] = df['anaemia']\n",
        "sc_df['diabetes'] = df['diabetes']\n",
        "sc_df['high_blood_pressure'] = df['high_blood_pressure']\n",
        "sc_df['sex'] = df['sex']\n",
        "sc_df['smoking'] = df['smoking']"
      ],
      "execution_count": null,
      "outputs": []
    },
    {
      "cell_type": "code",
      "metadata": {
        "colab": {
          "base_uri": "https://localhost:8080/",
          "height": 359
        },
        "id": "QXHqUgGEd83M",
        "outputId": "e6ebf2dd-a50e-467a-d72b-230d07f2b7e2"
      },
      "source": [
        "sc_df.head(n=10)"
      ],
      "execution_count": null,
      "outputs": [
        {
          "output_type": "execute_result",
          "data": {
            "text/html": [
              "<div>\n",
              "<style scoped>\n",
              "    .dataframe tbody tr th:only-of-type {\n",
              "        vertical-align: middle;\n",
              "    }\n",
              "\n",
              "    .dataframe tbody tr th {\n",
              "        vertical-align: top;\n",
              "    }\n",
              "\n",
              "    .dataframe thead th {\n",
              "        text-align: right;\n",
              "    }\n",
              "</style>\n",
              "<table border=\"1\" class=\"dataframe\">\n",
              "  <thead>\n",
              "    <tr style=\"text-align: right;\">\n",
              "      <th></th>\n",
              "      <th>age</th>\n",
              "      <th>creatinine_phosphokinase</th>\n",
              "      <th>ejection_fraction</th>\n",
              "      <th>platelets</th>\n",
              "      <th>serum_creatinine</th>\n",
              "      <th>serum_sodium</th>\n",
              "      <th>anaemia</th>\n",
              "      <th>diabetes</th>\n",
              "      <th>high_blood_pressure</th>\n",
              "      <th>sex</th>\n",
              "      <th>smoking</th>\n",
              "    </tr>\n",
              "  </thead>\n",
              "  <tbody>\n",
              "    <tr>\n",
              "      <th>0</th>\n",
              "      <td>6.315842</td>\n",
              "      <td>0.600828</td>\n",
              "      <td>1.692759</td>\n",
              "      <td>2.714036</td>\n",
              "      <td>1.839697</td>\n",
              "      <td>29.511299</td>\n",
              "      <td>0</td>\n",
              "      <td>0</td>\n",
              "      <td>1</td>\n",
              "      <td>1</td>\n",
              "      <td>0</td>\n",
              "    </tr>\n",
              "    <tr>\n",
              "      <th>1</th>\n",
              "      <td>4.631617</td>\n",
              "      <td>8.115301</td>\n",
              "      <td>3.216241</td>\n",
              "      <td>2.697220</td>\n",
              "      <td>1.065088</td>\n",
              "      <td>30.873359</td>\n",
              "      <td>0</td>\n",
              "      <td>0</td>\n",
              "      <td>0</td>\n",
              "      <td>1</td>\n",
              "      <td>0</td>\n",
              "    </tr>\n",
              "    <tr>\n",
              "      <th>2</th>\n",
              "      <td>5.473730</td>\n",
              "      <td>0.150723</td>\n",
              "      <td>1.692759</td>\n",
              "      <td>1.659147</td>\n",
              "      <td>1.258740</td>\n",
              "      <td>29.284289</td>\n",
              "      <td>0</td>\n",
              "      <td>0</td>\n",
              "      <td>0</td>\n",
              "      <td>1</td>\n",
              "      <td>1</td>\n",
              "    </tr>\n",
              "    <tr>\n",
              "      <th>3</th>\n",
              "      <td>4.210561</td>\n",
              "      <td>0.114591</td>\n",
              "      <td>1.692759</td>\n",
              "      <td>2.150746</td>\n",
              "      <td>1.839697</td>\n",
              "      <td>31.100369</td>\n",
              "      <td>1</td>\n",
              "      <td>0</td>\n",
              "      <td>0</td>\n",
              "      <td>1</td>\n",
              "      <td>0</td>\n",
              "    </tr>\n",
              "    <tr>\n",
              "      <th>4</th>\n",
              "      <td>5.473730</td>\n",
              "      <td>0.165176</td>\n",
              "      <td>1.692759</td>\n",
              "      <td>3.349018</td>\n",
              "      <td>2.614307</td>\n",
              "      <td>26.333159</td>\n",
              "      <td>1</td>\n",
              "      <td>1</td>\n",
              "      <td>0</td>\n",
              "      <td>0</td>\n",
              "      <td>0</td>\n",
              "    </tr>\n",
              "    <tr>\n",
              "      <th>5</th>\n",
              "      <td>7.579010</td>\n",
              "      <td>0.048520</td>\n",
              "      <td>3.385517</td>\n",
              "      <td>2.089296</td>\n",
              "      <td>2.033350</td>\n",
              "      <td>29.965319</td>\n",
              "      <td>1</td>\n",
              "      <td>0</td>\n",
              "      <td>1</td>\n",
              "      <td>1</td>\n",
              "      <td>1</td>\n",
              "    </tr>\n",
              "    <tr>\n",
              "      <th>6</th>\n",
              "      <td>6.315842</td>\n",
              "      <td>0.253958</td>\n",
              "      <td>1.269569</td>\n",
              "      <td>1.300689</td>\n",
              "      <td>1.161914</td>\n",
              "      <td>31.100369</td>\n",
              "      <td>1</td>\n",
              "      <td>0</td>\n",
              "      <td>0</td>\n",
              "      <td>1</td>\n",
              "      <td>0</td>\n",
              "    </tr>\n",
              "    <tr>\n",
              "      <th>7</th>\n",
              "      <td>5.052674</td>\n",
              "      <td>0.325190</td>\n",
              "      <td>5.078276</td>\n",
              "      <td>4.649708</td>\n",
              "      <td>1.065088</td>\n",
              "      <td>29.738309</td>\n",
              "      <td>1</td>\n",
              "      <td>1</td>\n",
              "      <td>0</td>\n",
              "      <td>1</td>\n",
              "      <td>1</td>\n",
              "    </tr>\n",
              "    <tr>\n",
              "      <th>8</th>\n",
              "      <td>5.473730</td>\n",
              "      <td>0.162079</td>\n",
              "      <td>5.501466</td>\n",
              "      <td>2.697220</td>\n",
              "      <td>1.452393</td>\n",
              "      <td>31.327379</td>\n",
              "      <td>0</td>\n",
              "      <td>0</td>\n",
              "      <td>0</td>\n",
              "      <td>0</td>\n",
              "      <td>0</td>\n",
              "    </tr>\n",
              "    <tr>\n",
              "      <th>9</th>\n",
              "      <td>6.736898</td>\n",
              "      <td>0.126979</td>\n",
              "      <td>2.962328</td>\n",
              "      <td>3.973759</td>\n",
              "      <td>9.101660</td>\n",
              "      <td>30.192329</td>\n",
              "      <td>1</td>\n",
              "      <td>0</td>\n",
              "      <td>1</td>\n",
              "      <td>1</td>\n",
              "      <td>1</td>\n",
              "    </tr>\n",
              "  </tbody>\n",
              "</table>\n",
              "</div>"
            ],
            "text/plain": [
              "        age  creatinine_phosphokinase  ...  sex  smoking\n",
              "0  6.315842                  0.600828  ...    1        0\n",
              "1  4.631617                  8.115301  ...    1        0\n",
              "2  5.473730                  0.150723  ...    1        1\n",
              "3  4.210561                  0.114591  ...    1        0\n",
              "4  5.473730                  0.165176  ...    0        0\n",
              "5  7.579010                  0.048520  ...    1        1\n",
              "6  6.315842                  0.253958  ...    1        0\n",
              "7  5.052674                  0.325190  ...    1        1\n",
              "8  5.473730                  0.162079  ...    0        0\n",
              "9  6.736898                  0.126979  ...    1        1\n",
              "\n",
              "[10 rows x 11 columns]"
            ]
          },
          "metadata": {
            "tags": []
          },
          "execution_count": 80
        }
      ]
    },
    {
      "cell_type": "code",
      "metadata": {
        "id": "mKq64r79klWA"
      },
      "source": [
        "X_train, X_test, y_train, y_test = train_test_split(sc_df, df['DEATH_EVENT'], test_size=0.1, random_state=16)"
      ],
      "execution_count": null,
      "outputs": []
    },
    {
      "cell_type": "code",
      "metadata": {
        "colab": {
          "base_uri": "https://localhost:8080/",
          "height": 359
        },
        "id": "I6AGHXPYY46C",
        "outputId": "6957a03b-3fe8-45ee-d1f1-f147aec0d092"
      },
      "source": [
        "X_train.head(n=10)"
      ],
      "execution_count": null,
      "outputs": [
        {
          "output_type": "execute_result",
          "data": {
            "text/html": [
              "<div>\n",
              "<style scoped>\n",
              "    .dataframe tbody tr th:only-of-type {\n",
              "        vertical-align: middle;\n",
              "    }\n",
              "\n",
              "    .dataframe tbody tr th {\n",
              "        vertical-align: top;\n",
              "    }\n",
              "\n",
              "    .dataframe thead th {\n",
              "        text-align: right;\n",
              "    }\n",
              "</style>\n",
              "<table border=\"1\" class=\"dataframe\">\n",
              "  <thead>\n",
              "    <tr style=\"text-align: right;\">\n",
              "      <th></th>\n",
              "      <th>age</th>\n",
              "      <th>creatinine_phosphokinase</th>\n",
              "      <th>ejection_fraction</th>\n",
              "      <th>platelets</th>\n",
              "      <th>serum_creatinine</th>\n",
              "      <th>serum_sodium</th>\n",
              "      <th>anaemia</th>\n",
              "      <th>diabetes</th>\n",
              "      <th>high_blood_pressure</th>\n",
              "      <th>sex</th>\n",
              "      <th>smoking</th>\n",
              "    </tr>\n",
              "  </thead>\n",
              "  <tbody>\n",
              "    <tr>\n",
              "      <th>134</th>\n",
              "      <td>6.821109</td>\n",
              "      <td>4.686868</td>\n",
              "      <td>2.962328</td>\n",
              "      <td>2.365820</td>\n",
              "      <td>1.142549</td>\n",
              "      <td>31.100369</td>\n",
              "      <td>0</td>\n",
              "      <td>0</td>\n",
              "      <td>0</td>\n",
              "      <td>1</td>\n",
              "      <td>1</td>\n",
              "    </tr>\n",
              "    <tr>\n",
              "      <th>145</th>\n",
              "      <td>4.210561</td>\n",
              "      <td>0.190985</td>\n",
              "      <td>2.539138</td>\n",
              "      <td>2.724278</td>\n",
              "      <td>0.677783</td>\n",
              "      <td>32.008409</td>\n",
              "      <td>0</td>\n",
              "      <td>0</td>\n",
              "      <td>0</td>\n",
              "      <td>1</td>\n",
              "      <td>1</td>\n",
              "    </tr>\n",
              "    <tr>\n",
              "      <th>63</th>\n",
              "      <td>3.789505</td>\n",
              "      <td>0.600828</td>\n",
              "      <td>2.962328</td>\n",
              "      <td>3.943034</td>\n",
              "      <td>0.968262</td>\n",
              "      <td>32.916449</td>\n",
              "      <td>0</td>\n",
              "      <td>0</td>\n",
              "      <td>0</td>\n",
              "      <td>1</td>\n",
              "      <td>0</td>\n",
              "    </tr>\n",
              "    <tr>\n",
              "      <th>292</th>\n",
              "      <td>4.378984</td>\n",
              "      <td>0.196146</td>\n",
              "      <td>3.216241</td>\n",
              "      <td>3.912309</td>\n",
              "      <td>0.968262</td>\n",
              "      <td>31.781399</td>\n",
              "      <td>0</td>\n",
              "      <td>1</td>\n",
              "      <td>0</td>\n",
              "      <td>1</td>\n",
              "      <td>1</td>\n",
              "    </tr>\n",
              "    <tr>\n",
              "      <th>284</th>\n",
              "      <td>4.210561</td>\n",
              "      <td>0.055747</td>\n",
              "      <td>3.385517</td>\n",
              "      <td>2.857419</td>\n",
              "      <td>0.774609</td>\n",
              "      <td>32.008409</td>\n",
              "      <td>1</td>\n",
              "      <td>0</td>\n",
              "      <td>0</td>\n",
              "      <td>1</td>\n",
              "      <td>0</td>\n",
              "    </tr>\n",
              "    <tr>\n",
              "      <th>222</th>\n",
              "      <td>3.536871</td>\n",
              "      <td>0.088782</td>\n",
              "      <td>2.962328</td>\n",
              "      <td>3.738201</td>\n",
              "      <td>1.065088</td>\n",
              "      <td>31.554389</td>\n",
              "      <td>1</td>\n",
              "      <td>0</td>\n",
              "      <td>0</td>\n",
              "      <td>1</td>\n",
              "      <td>1</td>\n",
              "    </tr>\n",
              "    <tr>\n",
              "      <th>289</th>\n",
              "      <td>7.579010</td>\n",
              "      <td>0.347902</td>\n",
              "      <td>3.216241</td>\n",
              "      <td>3.994242</td>\n",
              "      <td>0.871436</td>\n",
              "      <td>32.689439</td>\n",
              "      <td>1</td>\n",
              "      <td>0</td>\n",
              "      <td>0</td>\n",
              "      <td>0</td>\n",
              "      <td>0</td>\n",
              "    </tr>\n",
              "    <tr>\n",
              "      <th>111</th>\n",
              "      <td>4.631617</td>\n",
              "      <td>0.061941</td>\n",
              "      <td>2.962328</td>\n",
              "      <td>2.335095</td>\n",
              "      <td>1.161914</td>\n",
              "      <td>30.646349</td>\n",
              "      <td>0</td>\n",
              "      <td>0</td>\n",
              "      <td>0</td>\n",
              "      <td>1</td>\n",
              "      <td>1</td>\n",
              "    </tr>\n",
              "    <tr>\n",
              "      <th>20</th>\n",
              "      <td>5.473730</td>\n",
              "      <td>0.053682</td>\n",
              "      <td>2.115948</td>\n",
              "      <td>2.826695</td>\n",
              "      <td>1.258740</td>\n",
              "      <td>31.100369</td>\n",
              "      <td>1</td>\n",
              "      <td>0</td>\n",
              "      <td>1</td>\n",
              "      <td>0</td>\n",
              "      <td>0</td>\n",
              "    </tr>\n",
              "    <tr>\n",
              "      <th>46</th>\n",
              "      <td>4.294772</td>\n",
              "      <td>1.424643</td>\n",
              "      <td>2.115948</td>\n",
              "      <td>2.775486</td>\n",
              "      <td>0.871436</td>\n",
              "      <td>29.511299</td>\n",
              "      <td>0</td>\n",
              "      <td>0</td>\n",
              "      <td>1</td>\n",
              "      <td>1</td>\n",
              "      <td>0</td>\n",
              "    </tr>\n",
              "  </tbody>\n",
              "</table>\n",
              "</div>"
            ],
            "text/plain": [
              "          age  creatinine_phosphokinase  ...  sex  smoking\n",
              "134  6.821109                  4.686868  ...    1        1\n",
              "145  4.210561                  0.190985  ...    1        1\n",
              "63   3.789505                  0.600828  ...    1        0\n",
              "292  4.378984                  0.196146  ...    1        1\n",
              "284  4.210561                  0.055747  ...    1        0\n",
              "222  3.536871                  0.088782  ...    1        1\n",
              "289  7.579010                  0.347902  ...    0        0\n",
              "111  4.631617                  0.061941  ...    1        1\n",
              "20   5.473730                  0.053682  ...    0        0\n",
              "46   4.294772                  1.424643  ...    1        0\n",
              "\n",
              "[10 rows x 11 columns]"
            ]
          },
          "metadata": {
            "tags": []
          },
          "execution_count": 81
        }
      ]
    },
    {
      "cell_type": "markdown",
      "metadata": {
        "id": "Y_fs7l8ZbJdn"
      },
      "source": [
        "Decision Tree Classification"
      ]
    },
    {
      "cell_type": "code",
      "metadata": {
        "colab": {
          "base_uri": "https://localhost:8080/"
        },
        "id": "4WzFAPeug15d",
        "outputId": "af4bfbc8-4c89-4f27-efec-6a0502a517be"
      },
      "source": [
        "dtree = DecisionTreeClassifier(max_depth=3, random_state=0)\n",
        "dtree.fit(X_train, y_train)\n",
        "print(r2_score(y_test, dtree.predict(X_test)))"
      ],
      "execution_count": null,
      "outputs": [
        {
          "output_type": "stream",
          "text": [
            "0.6590909090909091\n"
          ],
          "name": "stdout"
        }
      ]
    },
    {
      "cell_type": "code",
      "metadata": {
        "id": "w2k7x_eljsEI"
      },
      "source": [
        "for i in range(50):  \n",
        "  X_train, X_test, y_train, y_test = train_test_split(sc_df, df['DEATH_EVENT'], test_size=0.1, random_state=i)\n",
        "  print('For random state in training set = ', i)\n",
        "  for j in range(1, 20):\n",
        "    dtree = DecisionTreeClassifier(max_depth=j, random_state=0)\n",
        "    dtree.fit(X_train, y_train)\n",
        "    y1 = dtree.predict(X_test)\n",
        "    if r2_score(y_test, y1) > 0:\n",
        "      print('For depth = ', j, ', R squared via prediction on test set: ', r2_score(y_test, y1))"
      ],
      "execution_count": null,
      "outputs": []
    },
    {
      "cell_type": "code",
      "metadata": {
        "id": "y4Ee1KDtkty4"
      },
      "source": [
        "tr1 = dtree.predict(X_train)\n",
        "y1 = dtree.predict(X_test)"
      ],
      "execution_count": null,
      "outputs": []
    },
    {
      "cell_type": "code",
      "metadata": {
        "colab": {
          "base_uri": "https://localhost:8080/"
        },
        "id": "ZS8w35nLkwjj",
        "outputId": "bee34554-2cd0-4a3a-d2bb-d1bd0e44bb82"
      },
      "source": [
        "r1"
      ],
      "execution_count": null,
      "outputs": [
        {
          "output_type": "execute_result",
          "data": {
            "text/plain": [
              "array([0, 0, 1, 0, 0, 0, 0, 0, 0, 1, 0, 0, 0, 1, 1, 0, 1, 0, 0, 0, 0, 0,\n",
              "       0, 0, 0, 0, 0, 0, 0, 0, 0, 1, 0, 0, 0, 0, 0, 1, 1, 1, 0, 0, 1, 0,\n",
              "       0, 0, 0, 0, 0, 1, 0, 0, 0, 0, 0, 1, 1, 0, 1, 1, 1, 0, 1, 0, 1, 0,\n",
              "       0, 0, 0, 1, 0, 0, 1, 1, 0, 0, 0, 0, 1, 0, 0, 0, 0, 1, 0, 0, 1, 1,\n",
              "       0, 0, 0, 1, 0, 0, 0, 0, 1, 1, 0, 0, 0, 0, 1, 0, 1, 1, 0, 0, 1, 0,\n",
              "       0, 0, 0, 0, 1, 0, 0, 0, 0, 0, 0, 0, 0, 0, 0, 0, 0, 0, 0, 1, 0, 0,\n",
              "       1, 0, 0, 1, 0, 0, 0, 0, 0, 1, 1, 1, 0, 0, 0, 0, 0, 1, 0, 0, 0, 0,\n",
              "       0, 0, 1, 0, 0, 1, 1, 0, 1, 0, 0, 1, 0, 0, 0, 0, 0, 1, 0, 1, 1, 0,\n",
              "       1, 0, 0, 0, 1, 1, 0, 0, 1, 1, 1, 0, 0, 1, 1, 0, 0, 0, 0, 1, 0, 0,\n",
              "       1, 1, 1, 0, 0, 0, 1, 1, 0, 1, 0, 0, 0, 0, 0, 0, 0, 0, 0, 0, 1, 1,\n",
              "       1, 0, 0, 0, 1, 0, 0, 0, 0, 0, 0, 0, 1, 1, 0, 0, 0, 1, 0])"
            ]
          },
          "metadata": {
            "tags": []
          },
          "execution_count": 85
        }
      ]
    },
    {
      "cell_type": "code",
      "metadata": {
        "colab": {
          "base_uri": "https://localhost:8080/"
        },
        "id": "PR5wMuUUkyD-",
        "outputId": "3b80e687-3bfd-4d83-f3a7-59c57d3697f6"
      },
      "source": [
        "y1.shape"
      ],
      "execution_count": null,
      "outputs": [
        {
          "output_type": "execute_result",
          "data": {
            "text/plain": [
              "(60,)"
            ]
          },
          "metadata": {
            "tags": []
          },
          "execution_count": 65
        }
      ]
    },
    {
      "cell_type": "code",
      "metadata": {
        "colab": {
          "base_uri": "https://localhost:8080/"
        },
        "id": "KfN7cym6emkU",
        "outputId": "62648ee1-2426-42ce-fee0-366ac20f4e84"
      },
      "source": [
        "# Print RMSE and R-squared value for regression tree 'dtree1' on training data\n",
        "print('RMSE via prediction on training set: ', np.sqrt(mean_squared_error(y_train,tr1))) \n",
        "print('R squared via prediction on training set: ', r2_score(y_train, tr1))\n",
        "\n",
        "# Print RMSE and R-squared value for regression tree 'dtree1' on testing data\n",
        "print('RMSE via prediction on test set: ', np.sqrt(mean_squared_error(y_test,y1))) \n",
        "print('R squared via prediction on test set: ', r2_score(y_test, y1))"
      ],
      "execution_count": null,
      "outputs": [
        {
          "output_type": "stream",
          "text": [
            "RMSE via prediction on training set:  0.4311306135592268\n",
            "R squared via prediction on training set:  0.1555750878955301\n",
            "RMSE via prediction on test set:  0.2581988897471611\n",
            "R squared via prediction on test set:  0.6590909090909091\n"
          ],
          "name": "stdout"
        }
      ]
    },
    {
      "cell_type": "code",
      "metadata": {
        "colab": {
          "base_uri": "https://localhost:8080/",
          "height": 282
        },
        "id": "YbDBfYbMnr6O",
        "outputId": "cb3fcbcf-b692-4a3a-8db3-48d1848f5dbd"
      },
      "source": [
        "plt.bar(y_test.index, y_test, alpha=0.5)\n",
        "plt.bar(y_test.index, y1, alpha=1)"
      ],
      "execution_count": null,
      "outputs": [
        {
          "output_type": "execute_result",
          "data": {
            "text/plain": [
              "<BarContainer object of 30 artists>"
            ]
          },
          "metadata": {
            "tags": []
          },
          "execution_count": 108
        },
        {
          "output_type": "display_data",
          "data": {
            "image/png": "[encoded data removed]",
            "text/plain": [
              "<Figure size 432x288 with 1 Axes>"
            ]
          },
          "metadata": {
            "tags": [],
            "needs_background": "light"
          }
        }
      ]
    },
    {
      "cell_type": "code",
      "metadata": {
        "colab": {
          "base_uri": "https://localhost:8080/",
          "height": 282
        },
        "id": "fY4LhJI-oOTu",
        "outputId": "70eee36b-c97b-4256-f907-a3f50e3e3a12"
      },
      "source": [
        "from sklearn.metrics import confusion_matrix  \n",
        "import seaborn as sn\n",
        "cm = pd.DataFrame(confusion_matrix(y_test, y1))\n",
        "plt.figure(figsize=(5,4))\n",
        "sn.heatmap(cm,annot=True)\n",
        "score = accuracy_score(y_test, y1)\n",
        "score"
      ],
      "execution_count": null,
      "outputs": [
        {
          "output_type": "execute_result",
          "data": {
            "text/plain": [
              "0.9333333333333333"
            ]
          },
          "metadata": {
            "tags": []
          },
          "execution_count": 109
        },
        {
          "output_type": "display_data",
          "data": {
            "image/png": "[encoded data removed]",
            "text/plain": [
              "<Figure size 360x288 with 2 Axes>"
            ]
          },
          "metadata": {
            "tags": [],
            "needs_background": "light"
          }
        }
      ]
    },
    {
      "cell_type": "code",
      "metadata": {
        "colab": {
          "base_uri": "https://localhost:8080/"
        },
        "id": "UzqD38XIBdyW",
        "outputId": "b4c2cd5d-1fc3-40c0-de96-aca7b7205c58"
      },
      "source": [
        "average_precision = average_precision_score(y_test, y1)\n",
        "average_precision"
      ],
      "execution_count": null,
      "outputs": [
        {
          "output_type": "execute_result",
          "data": {
            "text/plain": [
              "0.8166666666666667"
            ]
          },
          "metadata": {
            "tags": []
          },
          "execution_count": 110
        }
      ]
    },
    {
      "cell_type": "code",
      "metadata": {
        "colab": {
          "base_uri": "https://localhost:8080/",
          "height": 312
        },
        "id": "1-a9vNpWBvE7",
        "outputId": "2e93669b-0aa5-4b10-b623-a6cb9d19680b"
      },
      "source": [
        "disp = plot_precision_recall_curve(dtree, X_test, y_test)\n",
        "disp.ax_.set_title('2-class Precision-Recall curve: '\n",
        "                   'AP={0:0.2f}'.format(average_precision))"
      ],
      "execution_count": null,
      "outputs": [
        {
          "output_type": "execute_result",
          "data": {
            "text/plain": [
              "Text(0.5, 1.0, '2-class Precision-Recall curve: AP=0.82')"
            ]
          },
          "metadata": {
            "tags": []
          },
          "execution_count": 112
        },
        {
          "output_type": "display_data",
          "data": {
            "image/png": "[encoded data removed]",
            "text/plain": [
              "<Figure size 432x288 with 1 Axes>"
            ]
          },
          "metadata": {
            "tags": [],
            "needs_background": "light"
          }
        }
      ]
    },
    {
      "cell_type": "code",
      "metadata": {
        "id": "ytAfEPBFlMuD"
      },
      "source": [
        "from sklearn import tree\n",
        "from graphviz import Source\n",
        "from IPython.display import display, SVG\n",
        "from ipywidgets import interactive"
      ],
      "execution_count": null,
      "outputs": []
    },
    {
      "cell_type": "code",
      "metadata": {
        "id": "CDIVeHG5j4gu"
      },
      "source": [
        "def plot_tree(depth):\n",
        "  dtree = DecisionTreeClassifier(\n",
        "    random_state=0, \n",
        "    max_depth=depth\n",
        "  )\n",
        "\n",
        "  dtree.fit(X_train, y_train)\n",
        "\n",
        "  graph=Source(tree.export_graphviz(\n",
        "      dtree,\n",
        "      out_file=None, \n",
        "      feature_names=X_test.columns,\n",
        "      filled=True\n",
        "    )\n",
        "  )\n",
        "\n",
        "  display(SVG(graph.pipe(format='svg')))\n",
        "\n",
        "  return dtree"
      ],
      "execution_count": null,
      "outputs": []
    },
    {
      "cell_type": "code",
      "metadata": {
        "colab": {
          "base_uri": "https://localhost:8080/",
          "height": 550,
          "referenced_widgets": [
            "d9f101f168f74983b0a07bcc661f7732",
            "579ac635cbaa492c9a8b061b84cb3134",
            "92b0ad8d8f944362ad3012a0f58a5b95",
            "f986cf7eeb8340799f064c778fd29841",
            "200d38e60ec8491a9bc7de8022031c7e",
            "67bddebafef840c89edc85170f2d0290",
            "55a7d21660e548cf93637819fe90a933"
          ]
        },
        "id": "VgXD3M1IqGGs",
        "outputId": "c22b2130-3954-41da-9501-2b03114f4e6a"
      },
      "source": [
        "inter=interactive(\n",
        "    plot_tree,\n",
        "    depth=[3, 4, 5, 6, 7, 8]\n",
        ")\n",
        "\n",
        "display(inter)"
      ],
      "execution_count": null,
      "outputs": [
        {
          "output_type": "display_data",
          "data": {
            "application/vnd.jupyter.widget-view+json": {
              "model_id": "d9f101f168f74983b0a07bcc661f7732",
              "version_minor": 0,
              "version_major": 2
            },
            "text/plain": [
              "interactive(children=(Dropdown(description='depth', options=(3, 4, 5, 6, 7, 8), value=3), Output()), _dom_clas…"
            ]
          },
          "metadata": {
            "tags": []
          }
        }
      ]
    },
    {
      "cell_type": "markdown",
      "metadata": {
        "id": "36mYn0xyID0O"
      },
      "source": [
        "Random Forest"
      ]
    },
    {
      "cell_type": "code",
      "metadata": {
        "colab": {
          "base_uri": "https://localhost:8080/"
        },
        "id": "buInF8zim0or",
        "outputId": "7d91b6d6-bf32-4d44-b9d3-867818715081"
      },
      "source": [
        "model_rf = RandomForestClassifier(n_estimators=7, max_depth=4, random_state=0)\n",
        "model_rf.fit(X_train, y_train)"
      ],
      "execution_count": null,
      "outputs": [
        {
          "output_type": "execute_result",
          "data": {
            "text/plain": [
              "RandomForestClassifier(bootstrap=True, ccp_alpha=0.0, class_weight=None,\n",
              "                       criterion='gini', max_depth=4, max_features='auto',\n",
              "                       max_leaf_nodes=None, max_samples=None,\n",
              "                       min_impurity_decrease=0.0, min_impurity_split=None,\n",
              "                       min_samples_leaf=1, min_samples_split=2,\n",
              "                       min_weight_fraction_leaf=0.0, n_estimators=7,\n",
              "                       n_jobs=None, oob_score=False, random_state=0, verbose=0,\n",
              "                       warm_start=False)"
            ]
          },
          "metadata": {
            "tags": []
          },
          "execution_count": 118
        }
      ]
    },
    {
      "cell_type": "code",
      "metadata": {
        "id": "DZzvHFjSpvMd"
      },
      "source": [
        "tr1 = model_rf.predict(X_train)\n",
        "y2 = model_rf.predict(X_test)"
      ],
      "execution_count": null,
      "outputs": []
    },
    {
      "cell_type": "code",
      "metadata": {
        "colab": {
          "base_uri": "https://localhost:8080/",
          "height": 282
        },
        "id": "3we1wz40vIIH",
        "outputId": "b547ee7c-2d44-405e-b62c-aa77336345d8"
      },
      "source": [
        "plt.bar(y_test.index, y_test,alpha=0.5)\n",
        "plt.bar(y_test.index, y2,alpha=1)"
      ],
      "execution_count": null,
      "outputs": [
        {
          "output_type": "execute_result",
          "data": {
            "text/plain": [
              "<BarContainer object of 30 artists>"
            ]
          },
          "metadata": {
            "tags": []
          },
          "execution_count": 120
        },
        {
          "output_type": "display_data",
          "data": {
            "image/png": "[encoded data removed]",
            "text/plain": [
              "<Figure size 432x288 with 1 Axes>"
            ]
          },
          "metadata": {
            "tags": [],
            "needs_background": "light"
          }
        }
      ]
    },
    {
      "cell_type": "code",
      "metadata": {
        "colab": {
          "base_uri": "https://localhost:8080/",
          "height": 282
        },
        "id": "VTdUfpCNrJhw",
        "outputId": "27436118-644b-4928-8d1c-251f8a933860"
      },
      "source": [
        "from sklearn.metrics import confusion_matrix  \n",
        "cm = confusion_matrix(y_test, y2)\n",
        "import seaborn as sn\n",
        "cm = pd.DataFrame(cm)\n",
        "plt.figure(figsize=(5,4))\n",
        "sn.heatmap(cm,annot=True)\n",
        "score = accuracy_score(y_test, y2)\n",
        "score"
      ],
      "execution_count": null,
      "outputs": [
        {
          "output_type": "execute_result",
          "data": {
            "text/plain": [
              "0.8"
            ]
          },
          "metadata": {
            "tags": []
          },
          "execution_count": 121
        },
        {
          "output_type": "display_data",
          "data": {
            "image/png": "[encoded data removed]",
            "text/plain": [
              "<Figure size 360x288 with 2 Axes>"
            ]
          },
          "metadata": {
            "tags": [],
            "needs_background": "light"
          }
        }
      ]
    },
    {
      "cell_type": "code",
      "metadata": {
        "colab": {
          "base_uri": "https://localhost:8080/"
        },
        "id": "Dhw_9cayIGK_",
        "outputId": "f9ce022f-18c1-4eef-fc21-1c77c9659186"
      },
      "source": [
        "average_precision = average_precision_score(y_test, y2)\n",
        "average_precision"
      ],
      "execution_count": null,
      "outputs": [
        {
          "output_type": "execute_result",
          "data": {
            "text/plain": [
              "0.490625"
            ]
          },
          "metadata": {
            "tags": []
          },
          "execution_count": 122
        }
      ]
    },
    {
      "cell_type": "code",
      "metadata": {
        "colab": {
          "base_uri": "https://localhost:8080/",
          "height": 312
        },
        "id": "nCQcivDkIV4n",
        "outputId": "98db72ea-c872-418c-b7a1-51667504a80e"
      },
      "source": [
        "disp = plot_precision_recall_curve(model_rf, X_test, y_test)\n",
        "disp.ax_.set_title('2-class Precision-Recall curve: '\n",
        "                   'AP={0:0.2f}'.format(average_precision))"
      ],
      "execution_count": null,
      "outputs": [
        {
          "output_type": "execute_result",
          "data": {
            "text/plain": [
              "Text(0.5, 1.0, '2-class Precision-Recall curve: AP=0.49')"
            ]
          },
          "metadata": {
            "tags": []
          },
          "execution_count": 123
        },
        {
          "output_type": "display_data",
          "data": {
            "image/png": "[encoded data removed]",
            "text/plain": [
              "<Figure size 432x288 with 1 Axes>"
            ]
          },
          "metadata": {
            "tags": [],
            "needs_background": "light"
          }
        }
      ]
    },
    {
      "cell_type": "markdown",
      "metadata": {
        "id": "0jb5ScU-DxZ9"
      },
      "source": [
        "Naive Bayes"
      ]
    },
    {
      "cell_type": "code",
      "metadata": {
        "id": "cZ3woi-Fr7Tw"
      },
      "source": [
        "from sklearn.naive_bayes import GaussianNB  \n",
        "classifier = GaussianNB()  \n",
        "classifier.fit(X_train, y_train)\n",
        "y_pred = classifier.predict(X_test)"
      ],
      "execution_count": null,
      "outputs": []
    },
    {
      "cell_type": "code",
      "metadata": {
        "colab": {
          "base_uri": "https://localhost:8080/",
          "height": 282
        },
        "id": "RhvqFEKavLGH",
        "outputId": "32b0c1fc-5d0e-4fc0-d4a2-c307ca17be8f"
      },
      "source": [
        "plt.bar(y_test.index, y_test,alpha=0.5)\n",
        "plt.bar(y_test.index, y_pred,alpha=1)"
      ],
      "execution_count": null,
      "outputs": [
        {
          "output_type": "execute_result",
          "data": {
            "text/plain": [
              "<BarContainer object of 30 artists>"
            ]
          },
          "metadata": {
            "tags": []
          },
          "execution_count": 125
        },
        {
          "output_type": "display_data",
          "data": {
            "image/png": "[encoded data removed]",
            "text/plain": [
              "<Figure size 432x288 with 1 Axes>"
            ]
          },
          "metadata": {
            "tags": [],
            "needs_background": "light"
          }
        }
      ]
    },
    {
      "cell_type": "code",
      "metadata": {
        "colab": {
          "base_uri": "https://localhost:8080/",
          "height": 282
        },
        "id": "sRtM6iQ-uc5f",
        "outputId": "2ded146a-ae5f-434b-d237-72b6d06b4726"
      },
      "source": [
        " from sklearn.metrics import confusion_matrix  \n",
        "cm = confusion_matrix(y_test, y_pred)\n",
        "cm\n",
        "df = pd.DataFrame(cm)\n",
        "plt.figure(figsize=(5,4))\n",
        "sn.heatmap(df,annot=True)\n",
        "score = accuracy_score(y_test,y_pred)\n",
        "score"
      ],
      "execution_count": null,
      "outputs": [
        {
          "output_type": "execute_result",
          "data": {
            "text/plain": [
              "0.8333333333333334"
            ]
          },
          "metadata": {
            "tags": []
          },
          "execution_count": 126
        },
        {
          "output_type": "display_data",
          "data": {
            "image/png": "[encoded data removed]",
            "text/plain": [
              "<Figure size 360x288 with 2 Axes>"
            ]
          },
          "metadata": {
            "tags": [],
            "needs_background": "light"
          }
        }
      ]
    },
    {
      "cell_type": "code",
      "metadata": {
        "colab": {
          "base_uri": "https://localhost:8080/"
        },
        "id": "HM_Co3BdD7dI",
        "outputId": "326d5216-845f-40d0-cb42-5403e467c239"
      },
      "source": [
        "average_precision = average_precision_score(y_test,y_pred)\n",
        "average_precision"
      ],
      "execution_count": null,
      "outputs": [
        {
          "output_type": "execute_result",
          "data": {
            "text/plain": [
              "0.5333333333333333"
            ]
          },
          "metadata": {
            "tags": []
          },
          "execution_count": 127
        }
      ]
    },
    {
      "cell_type": "code",
      "metadata": {
        "colab": {
          "base_uri": "https://localhost:8080/",
          "height": 312
        },
        "id": "fyMEHSGvEZGb",
        "outputId": "35a6c104-b092-4f82-ea78-874ab0f7d120"
      },
      "source": [
        "disp = plot_precision_recall_curve(classifier, X_test, y_test)\n",
        "disp.ax_.set_title('2-class Precision-Recall curve: '\n",
        "                   'AP={0:0.2f}'.format(average_precision))"
      ],
      "execution_count": null,
      "outputs": [
        {
          "output_type": "execute_result",
          "data": {
            "text/plain": [
              "Text(0.5, 1.0, '2-class Precision-Recall curve: AP=0.53')"
            ]
          },
          "metadata": {
            "tags": []
          },
          "execution_count": 128
        },
        {
          "output_type": "display_data",
          "data": {
            "image/png": "[encoded data removed]",
            "text/plain": [
              "<Figure size 432x288 with 1 Axes>"
            ]
          },
          "metadata": {
            "tags": [],
            "needs_background": "light"
          }
        }
      ]
    },
    {
      "cell_type": "markdown",
      "metadata": {
        "id": "Ma8Bffz7G8zs"
      },
      "source": [
        "Logistic Classiication"
      ]
    },
    {
      "cell_type": "code",
      "metadata": {
        "colab": {
          "base_uri": "https://localhost:8080/"
        },
        "id": "VzmnTCfkveUv",
        "outputId": "2eba2d29-7aee-48f4-b973-7ced0d605545"
      },
      "source": [
        "LR= LogisticRegression(max_iter=1000)\n",
        "LR.fit(X_train,y_train)"
      ],
      "execution_count": null,
      "outputs": [
        {
          "output_type": "execute_result",
          "data": {
            "text/plain": [
              "LogisticRegression(C=1.0, class_weight=None, dual=False, fit_intercept=True,\n",
              "                   intercept_scaling=1, l1_ratio=None, max_iter=1000,\n",
              "                   multi_class='auto', n_jobs=None, penalty='l2',\n",
              "                   random_state=None, solver='lbfgs', tol=0.0001, verbose=0,\n",
              "                   warm_start=False)"
            ]
          },
          "metadata": {
            "tags": []
          },
          "execution_count": 129
        }
      ]
    },
    {
      "cell_type": "code",
      "metadata": {
        "id": "2Ykp-xedwWF1"
      },
      "source": [
        "tr1 = LR.predict(X_train)\n",
        "yLR = LR.predict(X_test)"
      ],
      "execution_count": null,
      "outputs": []
    },
    {
      "cell_type": "code",
      "metadata": {
        "colab": {
          "base_uri": "https://localhost:8080/",
          "height": 282
        },
        "id": "4GHB_3MKwfg9",
        "outputId": "514b32ad-0c52-4552-aa9a-81cfe86a8851"
      },
      "source": [
        "plt.bar(y_test.index, y_test,alpha=0.5)\n",
        "plt.bar(y_test.index, yLR,alpha=1)"
      ],
      "execution_count": null,
      "outputs": [
        {
          "output_type": "execute_result",
          "data": {
            "text/plain": [
              "<BarContainer object of 30 artists>"
            ]
          },
          "metadata": {
            "tags": []
          },
          "execution_count": 131
        },
        {
          "output_type": "display_data",
          "data": {
            "image/png": "[encoded data removed]",
            "text/plain": [
              "<Figure size 432x288 with 1 Axes>"
            ]
          },
          "metadata": {
            "tags": [],
            "needs_background": "light"
          }
        }
      ]
    },
    {
      "cell_type": "code",
      "metadata": {
        "colab": {
          "base_uri": "https://localhost:8080/",
          "height": 286
        },
        "id": "0TdcqBuDwphV",
        "outputId": "2d33a5c5-1faf-4ca7-9f47-26d3883df0f4"
      },
      "source": [
        " from sklearn.metrics import confusion_matrix  \n",
        "cm = confusion_matrix(y_test, yLR)\n",
        "cm\n",
        "df = pd.DataFrame(cm)\n",
        "plt.figure(figsize=(5,4))\n",
        "sn.heatmap(df,annot=True)\n",
        "score = accuracy_score(y_test,yLR)\n",
        "score"
      ],
      "execution_count": null,
      "outputs": [
        {
          "output_type": "execute_result",
          "data": {
            "text/plain": [
              "0.8666666666666667"
            ]
          },
          "metadata": {
            "tags": []
          },
          "execution_count": 132
        },
        {
          "output_type": "display_data",
          "data": {
            "image/png": "[encoded data removed]",
            "text/plain": [
              "<Figure size 360x288 with 2 Axes>"
            ]
          },
          "metadata": {
            "tags": [],
            "needs_background": "light"
          }
        }
      ]
    },
    {
      "cell_type": "code",
      "metadata": {
        "colab": {
          "base_uri": "https://localhost:8080/"
        },
        "id": "wdHRjsElFx36",
        "outputId": "472f2c53-cc7e-45bb-f48a-9f78b9f9e845"
      },
      "source": [
        "average_precision = average_precision_score(y_test,yLR)\n",
        "average_precision"
      ],
      "execution_count": null,
      "outputs": [
        {
          "output_type": "execute_result",
          "data": {
            "text/plain": [
              "0.6291666666666667"
            ]
          },
          "metadata": {
            "tags": []
          },
          "execution_count": 133
        }
      ]
    },
    {
      "cell_type": "code",
      "metadata": {
        "colab": {
          "base_uri": "https://localhost:8080/",
          "height": 312
        },
        "id": "NXWpgU8LGBsw",
        "outputId": "f33f58dc-afe9-41ca-c4c2-00a80b2d532c"
      },
      "source": [
        "disp = plot_precision_recall_curve(LR, X_test, y_test)\n",
        "disp.ax_.set_title('2-class Precision-Recall curve: '\n",
        "                   'AP={0:0.2f}'.format(average_precision))"
      ],
      "execution_count": null,
      "outputs": [
        {
          "output_type": "execute_result",
          "data": {
            "text/plain": [
              "Text(0.5, 1.0, '2-class Precision-Recall curve: AP=0.63')"
            ]
          },
          "metadata": {
            "tags": []
          },
          "execution_count": 134
        },
        {
          "output_type": "display_data",
          "data": {
            "image/png": "[encoded data removed]",
            "text/plain": [
              "<Figure size 432x288 with 1 Axes>"
            ]
          },
          "metadata": {
            "tags": [],
            "needs_background": "light"
          }
        }
      ]
    },
    {
      "cell_type": "markdown",
      "metadata": {
        "id": "qn0slzafK8am"
      },
      "source": [
        "Comparing\n"
      ]
    },
    {
      "cell_type": "code",
      "metadata": {
        "id": "JzqH0pfDK-i5"
      },
      "source": [
        ""
      ],
      "execution_count": null,
      "outputs": []
    }
  ]
}